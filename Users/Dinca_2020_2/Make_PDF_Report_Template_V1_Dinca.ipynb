{
 "cells": [
  {
   "cell_type": "markdown",
   "metadata": {},
   "source": [
    "# Make PDF Report pipeline \n",
    "\n",
    "\n",
    "## Overview\n",
    "\n",
    "* Setup: load packages/setup path\n",
    "* Find the interested dataset for makeing the pdf report\n",
    "* Make PDF report \n",
    " \n",
    "\n",
    "### DEV\n",
    "* V0: Initialize the pipeline (2019/10/26 by YG yuzhang@bnl.gov)\n",
    "* V1: Using the new developed pyScatt package  (2019/12 by YG yuzhang@bnl.gov)\n",
    "\n",
    " \n",
    "\n",
    "## TODLIST\n",
    "* 1): Put codes into a package (Done)"
   ]
  },
  {
   "cell_type": "code",
   "execution_count": 1,
   "metadata": {},
   "outputs": [],
   "source": [
    "%matplotlib notebook\n",
    "from pyScatt.packages import *\n",
    "plt.rcParams.update({'figure.max_open_warning': 0})\n",
    "plt.rcParams.update({ 'image.origin': 'lower'   })\n",
    "plt.rcParams.update({ 'image.interpolation': 'none'   })"
   ]
  },
  {
   "cell_type": "markdown",
   "metadata": {},
   "source": [
    "# Setup paths"
   ]
  },
  {
   "cell_type": "code",
   "execution_count": 2,
   "metadata": {},
   "outputs": [],
   "source": [
    "####\n",
    "\n",
    "inDir = '/home/yuzhang/NSLSII_Data_Link/SMI/2020_Cycle2/304231_Dinca/Analysis_Results/Dinca/PostAnalysis/'\n",
    "outDir = '/home/yuzhang/NSLSII_Data_Link/SMI/2020_Cycle2/304231_Dinca/Analysis_Results/Dinca/'\n",
    "\n",
    " \n",
    "\n"
   ]
  },
  {
   "cell_type": "markdown",
   "metadata": {},
   "source": [
    "# Find the interested filename list giving patterns"
   ]
  },
  {
   "cell_type": "code",
   "execution_count": 3,
   "metadata": {},
   "outputs": [
    {
     "name": "stdout",
     "output_type": "stream",
     "text": [
      "54\n"
     ]
    },
    {
     "data": {
      "text/plain": [
       "['Dinca_S10_CuHHTT_CsBr_Neg_1D_SAXS_WAXS.png',\n",
       " 'Dinca_S10_CuHHTT_CsBr_Neg_2D_1D_SAXS.png',\n",
       " 'Dinca_S10_CuHHTT_CsBr_Neg_2D_1D_WAXS.png',\n",
       " 'Dinca_S10_CuHHTT_CsBr_Neg_Fit_qIq.png',\n",
       " 'Dinca_S11_NiBHT_Bare_1D_SAXS_WAXS.png',\n",
       " 'Dinca_S11_NiBHT_Bare_2D_1D_SAXS.png',\n",
       " 'Dinca_S11_NiBHT_Bare_2D_1D_WAXS.png',\n",
       " 'Dinca_S11_NiBHT_Bare_Fit_qIq.png',\n",
       " 'Dinca_S1_CuHHTT_Bare_1D_SAXS_WAXS.png',\n",
       " 'Dinca_S1_CuHHTT_Bare_2D_1D_SAXS.png',\n",
       " 'Dinca_S1_CuHHTT_Bare_2D_1D_WAXS.png',\n",
       " 'Dinca_S1_CuHHTT_Bare_Fit_qIq.png',\n",
       " 'Dinca_S2_CuHHTT_TEPBF4_Soaked_1D_SAXS_WAXS.png',\n",
       " 'Dinca_S2_CuHHTT_TEPBF4_Soaked_2D_1D_SAXS.png',\n",
       " 'Dinca_S2_CuHHTT_TEPBF4_Soaked_2D_1D_WAXS.png',\n",
       " 'Dinca_S2_CuHHTT_TEPBF4_Soaked_Fit_qIq.png',\n",
       " 'Dinca_S3_CuHHTT_KNO2_Soaked_1D_SAXS_WAXS.png',\n",
       " 'Dinca_S3_CuHHTT_KNO2_Soaked_2D_1D_SAXS.png',\n",
       " 'Dinca_S3_CuHHTT_KNO2_Soaked_2D_1D_WAXS.png',\n",
       " 'Dinca_S3_CuHHTT_KNO2_Soaked_Fit_qIq.png',\n",
       " 'Dinca_S4_CuHHTT_CsBr_Soaked_1D_SAXS_WAXS.png',\n",
       " 'Dinca_S4_CuHHTT_CsBr_Soaked_2D_1D_SAXS.png',\n",
       " 'Dinca_S4_CuHHTT_CsBr_Soaked_2D_1D_WAXS.png',\n",
       " 'Dinca_S4_CuHHTT_CsBr_Soaked_Fit_qIq.png',\n",
       " 'Dinca_S5_CuHHTT_TEPBF4_Pos_1D_SAXS_WAXS.png',\n",
       " 'Dinca_S5_CuHHTT_TEPBF4_Pos_2D_1D_SAXS.png',\n",
       " 'Dinca_S5_CuHHTT_TEPBF4_Pos_2D_1D_WAXS.png',\n",
       " 'Dinca_S5_CuHHTT_TEPBF4_Pos_Fit_qIq.png',\n",
       " 'Dinca_S6_CuHHTT_KNO2_Pos_1D_SAXS_WAXS.png',\n",
       " 'Dinca_S6_CuHHTT_KNO2_Pos_2D_1D_SAXS.png',\n",
       " 'Dinca_S6_CuHHTT_KNO2_Pos_2D_1D_WAXS.png',\n",
       " 'Dinca_S6_CuHHTT_KNO2_Pos_Fit_qIq.png',\n",
       " 'Dinca_S7_CuHHTT_CsBr_Pos_1D_SAXS_WAXS.png',\n",
       " 'Dinca_S7_CuHHTT_CsBr_Pos_2D_1D_SAXS.png',\n",
       " 'Dinca_S7_CuHHTT_CsBr_Pos_2D_1D_WAXS.png',\n",
       " 'Dinca_S7_CuHHTT_CsBr_Pos_Fit_qIq.png',\n",
       " 'Dinca_S8_CuHHTT_TEPBF4_Neg_1D_SAXS_WAXS.png',\n",
       " 'Dinca_S8_CuHHTT_TEPBF4_Neg_2D_1D_SAXS.png',\n",
       " 'Dinca_S8_CuHHTT_TEPBF4_Neg_2D_1D_WAXS.png',\n",
       " 'Dinca_S8_CuHHTT_TEPBF4_Neg_Fit_qIq.png',\n",
       " 'Dinca_S9_CuHHTT_KNO2_Neg_1D_SAXS_WAXS.png',\n",
       " 'Dinca_S9_CuHHTT_KNO2_Neg_2D_1D_SAXS.png',\n",
       " 'Dinca_S9_CuHHTT_KNO2_Neg_2D_1D_WAXS.png',\n",
       " 'Dinca_S9_CuHHTT_KNO2_Neg_Fit_qIq.png',\n",
       " 'La_DomSize_S1-S10.png',\n",
       " 'S1234_qIq.png',\n",
       " 'S1234_qIq_SAXS.png',\n",
       " 'S1234_qIq_WAXS.png',\n",
       " 'S1567_qIq.png',\n",
       " 'S1567_qIq_SAXS.png',\n",
       " 'S1567_qIq_WAXS.png',\n",
       " 'S18910_qIq.png',\n",
       " 'S18910_qIq_SAXS.png',\n",
       " 'S18910_qIq_WAXS.png']"
      ]
     },
     "execution_count": 3,
     "metadata": {},
     "output_type": "execute_result"
    }
   ],
   "source": [
    "flist_all = sorted(  ls_dir( inDir, and_list=[ 'png' ], no_list=['Form_Factor']) )\n",
    "print(len(flist_all))\n",
    "flist_all"
   ]
  },
  {
   "cell_type": "code",
   "execution_count": 4,
   "metadata": {},
   "outputs": [],
   "source": [
    "sams = [\n",
    " 'Dinca_S1_CuHHTT_Bare',\n",
    " 'Dinca_S2_CuHHTT_TEPBF4_Soaked',\n",
    " 'Dinca_S3_CuHHTT_KNO2_Soaked',\n",
    " 'Dinca_S4_CuHHTT_CsBr_Soaked',\n",
    " 'Dinca_S5_CuHHTT_TEPBF4_Pos',\n",
    " 'Dinca_S6_CuHHTT_KNO2_Pos',\n",
    " 'Dinca_S7_CuHHTT_CsBr_Pos',\n",
    " 'Dinca_S8_CuHHTT_TEPBF4_Neg',\n",
    " 'Dinca_S9_CuHHTT_KNO2_Neg',\n",
    "'Dinca_S10_CuHHTT_CsBr_Neg',\n",
    " 'Dinca_S11_NiBHT_Bare',\n",
    "]"
   ]
  },
  {
   "cell_type": "code",
   "execution_count": null,
   "metadata": {},
   "outputs": [],
   "source": [
    " "
   ]
  },
  {
   "cell_type": "markdown",
   "metadata": {},
   "source": [
    "# Make PDF Report"
   ]
  },
  {
   "cell_type": "code",
   "execution_count": 5,
   "metadata": {},
   "outputs": [],
   "source": [
    "sample = \"J.Dou's MOF Samples\"\n",
    "pdf_filename  = 'PDF_Report_%s.pdf'%sample"
   ]
  },
  {
   "cell_type": "code",
   "execution_count": 6,
   "metadata": {},
   "outputs": [
    {
     "data": {
      "text/plain": [
       "'/home/yuzhang/NSLSII_Data_Link/SMI/2020_Cycle2/304231_Dinca/Analysis_Results/Dinca/'"
      ]
     },
     "execution_count": 6,
     "metadata": {},
     "output_type": "execute_result"
    }
   ],
   "source": [
    "outDir"
   ]
  },
  {
   "cell_type": "code",
   "execution_count": 7,
   "metadata": {
    "scrolled": true
   },
   "outputs": [
    {
     "name": "stdout",
     "output_type": "stream",
     "text": [
      "Dinca_S1_CuHHTT_Bare_2D_1D_WAXS.png\n",
      "Dinca_S1_CuHHTT_Bare_2D_1D_SAXS.png\n",
      "Dinca_S1_CuHHTT_Bare_1D_SAXS_WAXS.png\n",
      "Dinca_S1_CuHHTT_Bare_Fit_qIq.png\n",
      "Dinca_S2_CuHHTT_TEPBF4_Soaked_2D_1D_WAXS.png\n",
      "Dinca_S2_CuHHTT_TEPBF4_Soaked_2D_1D_SAXS.png\n",
      "Dinca_S2_CuHHTT_TEPBF4_Soaked_1D_SAXS_WAXS.png\n",
      "Dinca_S2_CuHHTT_TEPBF4_Soaked_Fit_qIq.png\n",
      "Dinca_S3_CuHHTT_KNO2_Soaked_2D_1D_WAXS.png\n",
      "Dinca_S3_CuHHTT_KNO2_Soaked_2D_1D_SAXS.png\n",
      "Dinca_S3_CuHHTT_KNO2_Soaked_1D_SAXS_WAXS.png\n",
      "Dinca_S3_CuHHTT_KNO2_Soaked_Fit_qIq.png\n",
      "Dinca_S4_CuHHTT_CsBr_Soaked_2D_1D_WAXS.png\n",
      "Dinca_S4_CuHHTT_CsBr_Soaked_2D_1D_SAXS.png\n",
      "Dinca_S4_CuHHTT_CsBr_Soaked_1D_SAXS_WAXS.png\n",
      "Dinca_S4_CuHHTT_CsBr_Soaked_Fit_qIq.png\n",
      "Dinca_S5_CuHHTT_TEPBF4_Pos_2D_1D_WAXS.png\n",
      "Dinca_S5_CuHHTT_TEPBF4_Pos_2D_1D_SAXS.png\n",
      "Dinca_S5_CuHHTT_TEPBF4_Pos_1D_SAXS_WAXS.png\n",
      "Dinca_S5_CuHHTT_TEPBF4_Pos_Fit_qIq.png\n",
      "Dinca_S6_CuHHTT_KNO2_Pos_2D_1D_WAXS.png\n",
      "Dinca_S6_CuHHTT_KNO2_Pos_2D_1D_SAXS.png\n",
      "Dinca_S6_CuHHTT_KNO2_Pos_1D_SAXS_WAXS.png\n",
      "Dinca_S6_CuHHTT_KNO2_Pos_Fit_qIq.png\n",
      "Dinca_S7_CuHHTT_CsBr_Pos_2D_1D_WAXS.png\n",
      "Dinca_S7_CuHHTT_CsBr_Pos_2D_1D_SAXS.png\n",
      "Dinca_S7_CuHHTT_CsBr_Pos_1D_SAXS_WAXS.png\n",
      "Dinca_S7_CuHHTT_CsBr_Pos_Fit_qIq.png\n",
      "Dinca_S8_CuHHTT_TEPBF4_Neg_2D_1D_WAXS.png\n",
      "Dinca_S8_CuHHTT_TEPBF4_Neg_2D_1D_SAXS.png\n",
      "Dinca_S8_CuHHTT_TEPBF4_Neg_1D_SAXS_WAXS.png\n",
      "Dinca_S8_CuHHTT_TEPBF4_Neg_Fit_qIq.png\n",
      "Dinca_S9_CuHHTT_KNO2_Neg_2D_1D_WAXS.png\n",
      "Dinca_S9_CuHHTT_KNO2_Neg_2D_1D_SAXS.png\n",
      "Dinca_S9_CuHHTT_KNO2_Neg_1D_SAXS_WAXS.png\n",
      "Dinca_S9_CuHHTT_KNO2_Neg_Fit_qIq.png\n",
      "Dinca_S10_CuHHTT_CsBr_Neg_2D_1D_WAXS.png\n",
      "Dinca_S10_CuHHTT_CsBr_Neg_2D_1D_SAXS.png\n",
      "Dinca_S10_CuHHTT_CsBr_Neg_1D_SAXS_WAXS.png\n",
      "Dinca_S10_CuHHTT_CsBr_Neg_Fit_qIq.png\n",
      "Dinca_S11_NiBHT_Bare_2D_1D_WAXS.png\n",
      "Dinca_S11_NiBHT_Bare_2D_1D_SAXS.png\n",
      "Dinca_S11_NiBHT_Bare_1D_SAXS_WAXS.png\n",
      "Dinca_S11_NiBHT_Bare_Fit_qIq.png\n",
      "S1234_qIq_WAXS.png\n",
      "S1567_qIq_WAXS.png\n",
      "S18910_qIq_WAXS.png\n",
      "S1234_qIq_SAXS.png\n",
      "S1567_qIq_SAXS.png\n",
      "S18910_qIq_SAXS.png\n",
      "La_DomSize_S1-S10.png\n",
      "\n",
      "****************************************\n",
      "The pdf report is created with filename as: /home/yuzhang/NSLSII_Data_Link/SMI/2020_Cycle2/304231_Dinca/Analysis_Results/Dinca/PDF_Report_J.Dou's MOF Samples.pdf\n",
      "****************************************\n"
     ]
    }
   ],
   "source": [
    "pdf= PDFBase( inDir, outDir, filename=pdf_filename, user = 'YG.', pagesize = ( 1021  , 792) ) \n",
    "c = pdf.c     \n",
    "header = 'Report for SAXS/WAXS analyis of %s systems'%(  sample )\n",
    "j = 1 \n",
    "\n",
    "for sam in sams[:]:    \n",
    "    #################\n",
    "    ## report the saxs--raw image, q-Iq, q-phi map, phi-Iphi\n",
    "    ##################\n",
    "    pdf.report_header( header = header, page = j )       \n",
    "     \n",
    "    imgf =  sam + '_2D_1D_WAXS.png'\n",
    "    print(imgf)\n",
    "    str_list = [ '%s'%(imgf) ]\n",
    "    pdf.report_string_list( str_list, top= 730, left = 360, spacing = 15, fontsize=24, fontcolor = red )\n",
    "    img_left = 0\n",
    "    img_top= 200      \n",
    "    img_height= 400 \n",
    "    width = add_image_string( c, imgf= imgf, data_dir= pdf.inDir,img_left= img_left,\n",
    "            img_top= img_top, img_height= img_height, return_ = True  )  \n",
    "    pdf.new_page() \n",
    "    \n",
    "    j +=1  \n",
    "    pdf.report_header( header = header, page = j )       \n",
    "    imgf =  sam + '_2D_1D_SAXS.png'\n",
    "    print(imgf)\n",
    "    str_list = [ '%s'%(imgf) ]\n",
    "    pdf.report_string_list( str_list, top= 730, left = 360, spacing = 15, fontsize=24, fontcolor = red )\n",
    "    img_left = 0\n",
    "    img_top= 200      \n",
    "    img_height= 400 \n",
    "    width = add_image_string( c, imgf= imgf, data_dir= pdf.inDir,img_left= img_left,\n",
    "            img_top= img_top, img_height= img_height, return_ = True  )  \n",
    "    pdf.new_page() \n",
    "\n",
    "\n",
    "    j +=1  \n",
    "    pdf.report_header( header = header, page = j )          \n",
    "    imgf =  sam + '_1D_SAXS_WAXS.png'\n",
    "    print(imgf)\n",
    "    str_list = [ '%s'%(imgf) ]\n",
    "    pdf.report_string_list( str_list, top= 730, left = 360, spacing = 15, fontsize=24, fontcolor = red )\n",
    "    img_left = 50\n",
    "    img_top= 100      \n",
    "    img_height= 650\n",
    "    width = add_image_string( c, imgf= imgf, data_dir= pdf.inDir,img_left= img_left,\n",
    "            img_top= img_top, img_height= img_height, return_ = True  )  \n",
    "    pdf.new_page() \n",
    "\n",
    "    j +=1  \n",
    "    pdf.report_header( header = header, page = j )          \n",
    "    imgf =  sam + '_Fit_qIq.png'\n",
    "    print(imgf)\n",
    "    str_list = [ '%s'%(imgf) ]\n",
    "    pdf.report_string_list( str_list, top= 730, left = 360, spacing = 15, fontsize=24, fontcolor = red )\n",
    "    img_left = 50\n",
    "    img_top= 100      \n",
    "    img_height= 650\n",
    "    width = add_image_string( c, imgf= imgf, data_dir= pdf.inDir,img_left= img_left,\n",
    "            img_top= img_top, img_height= img_height, return_ = True  )  \n",
    "    pdf.new_page() \n",
    "\n",
    "for imgf in [  'S1234_qIq_WAXS.png', 'S1567_qIq_WAXS.png', 'S18910_qIq_WAXS.png', \n",
    "               'S1234_qIq_SAXS.png', 'S1567_qIq_SAXS.png', 'S18910_qIq_SAXS.png', \n",
    "              'La_DomSize_S1-S10.png', ]:\n",
    "    j +=1  \n",
    "    pdf.report_header( header = header, page = j ) \n",
    "    print(imgf)\n",
    "    str_list = [ '%s'%(imgf) ]\n",
    "    pdf.report_string_list( str_list, top= 730, left = 360, spacing = 15, fontsize=24, fontcolor = red )\n",
    "    img_left = 50\n",
    "    img_top= 100      \n",
    "    img_height= 650\n",
    "    width = add_image_string( c, imgf= imgf, data_dir= pdf.inDir,img_left= img_left,\n",
    "            img_top= img_top, img_height= img_height, return_ = True  )  \n",
    "    pdf.new_page()  \n",
    "\n",
    "\n",
    "pdf.save_page()\n",
    "pdf.done()            \n",
    "\n",
    "    \n",
    "    \n",
    "    "
   ]
  },
  {
   "cell_type": "code",
   "execution_count": null,
   "metadata": {},
   "outputs": [],
   "source": []
  },
  {
   "cell_type": "code",
   "execution_count": null,
   "metadata": {},
   "outputs": [],
   "source": []
  },
  {
   "cell_type": "markdown",
   "metadata": {},
   "source": [
    "# The End"
   ]
  }
 ],
 "metadata": {
  "kernelspec": {
   "display_name": "Python 3",
   "language": "python",
   "name": "python3"
  },
  "language_info": {
   "codemirror_mode": {
    "name": "ipython",
    "version": 3
   },
   "file_extension": ".py",
   "mimetype": "text/x-python",
   "name": "python",
   "nbconvert_exporter": "python",
   "pygments_lexer": "ipython3",
   "version": "3.7.5"
  }
 },
 "nbformat": 4,
 "nbformat_minor": 2
}
