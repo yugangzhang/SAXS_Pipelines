{
 "cells": [
  {
   "cell_type": "markdown",
   "metadata": {},
   "source": [
    "# Papermill for running batch data analysis using the template pipelines\n",
    "\n",
    "\n",
    "## Overview\n",
    "\n",
    "* Setup: load packages/setup path\n",
    "* Load calibration h5 file (genreated by calibration pipeline) to load Mask and beamline parameters\n",
    "* Check one data and convert scattering data to q-phi map, q-Iq, ang-Iang\n",
    "* Find the interested dataset and do batch reduction\n",
    "* Produce images (png format)\n",
    "* Export results to a hdf file \n",
    " \n",
    "\n",
    "### DEV\n",
    "* V0: Initialize the pipeline (2019/10/26 by YG yuzhang@bnl.gov)\n",
    "\n",
    "\n",
    " \n",
    "\n",
    "## TODLIST\n",
    "* 1): Put codes into a package"
   ]
  },
  {
   "cell_type": "markdown",
   "metadata": {},
   "source": [
    "# Load package"
   ]
  },
  {
   "cell_type": "code",
   "execution_count": 2,
   "metadata": {},
   "outputs": [],
   "source": [
    "%matplotlib notebook\n",
    "from pyScatt.packages import *\n",
    "plt.rcParams.update({'figure.max_open_warning': 0})\n",
    "plt.rcParams.update({ 'image.origin': 'lower'   })\n",
    "plt.rcParams.update({ 'image.interpolation': 'none'   })"
   ]
  },
  {
   "cell_type": "markdown",
   "metadata": {},
   "source": [
    "# Setup paths"
   ]
  },
  {
   "cell_type": "code",
   "execution_count": 3,
   "metadata": {},
   "outputs": [],
   "source": [
    "####\n",
    "inDir = '/home/yuzhang/XScattering/CFN_SAXS_Template/Data/'\n",
    "outDir = '/home/yuzhang/XScattering/CFN_SAXS_Template/Results/'"
   ]
  },
  {
   "cell_type": "markdown",
   "metadata": {},
   "source": [
    "# Papermill functions"
   ]
  },
  {
   "cell_type": "code",
   "execution_count": 4,
   "metadata": {},
   "outputs": [],
   "source": [
    "path = '/home/yuzhang/XScattering/CFN_SAXS_Template/Pipelines/'\n",
    "def _run_data_reduction( uid_list,          \n",
    "        template_pipeline = path + 'SAXS_Data_Reduction_Template_V1.ipynb',                \n",
    "        output_pipeline = outDir + 'test_DR.ipynb' ):\n",
    "    \n",
    "    ''' YG. Octo 26, 2019, Data reduction for SAXS/WAXS data using SAXS_Data_Reduction_Template_V0 pipeline\n",
    "    Input:\n",
    "        uid_list: list, a list of strings (the uique data id or filename)\n",
    "        template_pipeline: str, the filename of the template pipeline\n",
    "        output_pipeline:str, the filename of the output pipeline\n",
    "    Output:\n",
    "        None\n",
    "    '''     \n",
    "    pm.execute_notebook(\n",
    "                        template_pipeline, output_pipeline,         \n",
    "                        parameters = dict( uid_list = uid_list ),\n",
    "                        kernel_name='python3', report_mode=False \n",
    "                         )      \n",
    "    \n",
    "    \n",
    "def _run_get_Sq( uid_list,          \n",
    "        template_pipeline = path + 'SAXS_Data_Analysis_SQ_Template_V1.ipynb',                \n",
    "        output_pipeline = outDir + 'test_GetSq.ipynb' ):\n",
    "    \n",
    "    ''' YG. Octo 26, 2019, Data analysis for SAXS/WAXS data using SAXS_Data_Analysis_SQ_Template_V0 pipeline\n",
    "    Input:\n",
    "        uid_list: list, a list of strings (the uique data id or filename)\n",
    "        template_pipeline: str, the filename of the template pipeline\n",
    "        output_pipeline:str, the filename of the output pipeline\n",
    "    Output:\n",
    "        None\n",
    "    '''     \n",
    "    pm.execute_notebook(\n",
    "                        template_pipeline, output_pipeline,         \n",
    "                        parameters = dict( uid_list = uid_list ),\n",
    "                        kernel_name='python3', report_mode=False \n",
    "                         )          \n",
    "    \n",
    "    \n",
    "    "
   ]
  },
  {
   "cell_type": "markdown",
   "metadata": {},
   "source": [
    "## List all data"
   ]
  },
  {
   "cell_type": "code",
   "execution_count": 5,
   "metadata": {
    "scrolled": true
   },
   "outputs": [
    {
     "name": "stdout",
     "output_type": "stream",
     "text": [
      "9\n"
     ]
    },
    {
     "data": {
      "text/plain": [
       "['AgBH_cali_13.5kev_x-17.000_y-2.170_1.00s_2608570_saxs.tiff',\n",
       " 'AgBH_cali_13.5kev_x-17.000_y-2.170_5.00s_2608571_saxs.tiff',\n",
       " 'FL_1024Morn_F1_x0.100_y0.150_0.10s_2605949_saxs.tiff',\n",
       " 'FL_1024Morn_F1_x0.100_y0.150_0.10s_2605950_saxs.tiff',\n",
       " 'FL_1024Ngt_10nmSP_Form_Factor_x-0.900_y-0.400_5.00s_2606361_saxs.tiff',\n",
       " 'FL_1026Morn_F2_x0.000_y0.000_1.00s_2607309_saxs.tiff',\n",
       " 'f3b03825-edfa-43f3-b333_000001.tiff',\n",
       " 'f3b03825-edfa-43f3-b333_000002.tiff',\n",
       " 'f3b03825-edfa-43f3-b333_000003.tiff']"
      ]
     },
     "execution_count": 5,
     "metadata": {},
     "output_type": "execute_result"
    }
   ],
   "source": [
    "uid_list_all = sorted( ls_dir( inDir, have_list=[    '.tiff'  ], exclude_list=[ 'waxs'  ]) )\n",
    "print(len(uid_list_all))\n",
    "uid_list_all"
   ]
  },
  {
   "cell_type": "markdown",
   "metadata": {},
   "source": [
    "## Run the template pipelines for batch data analysis"
   ]
  },
  {
   "cell_type": "markdown",
   "metadata": {},
   "source": [
    "* ## For data reduction"
   ]
  },
  {
   "cell_type": "markdown",
   "metadata": {},
   "source": [
    "* #### Find the interested data"
   ]
  },
  {
   "cell_type": "code",
   "execution_count": null,
   "metadata": {},
   "outputs": [],
   "source": [
    "uid_list1 = sorted( ls_dir( inDir, have_list=[    'F1',  ], exclude_list=['waxs', 'AgBH']) )\n",
    "uid_list2 = sorted( ls_dir( inDir, have_list=[    'F2',  ], exclude_list=['waxs', 'AgBH']) )\n",
    "uid_list3 = sorted( ls_dir( inDir, have_list=[    'f3b' ,], exclude_list=['waxs', 'AgBH']) )\n",
    "uid_list4 = sorted( ls_dir( inDir, have_list=[    '10nmSP' ,], exclude_list=['waxs', 'AgBH']) )\n",
    "uid_list =  list( np.concatenate( [uid_list1,uid_list2,uid_list3, uid_list4   ] ) )\n",
    "\n",
    "print(len(uid_list))"
   ]
  },
  {
   "cell_type": "code",
   "execution_count": null,
   "metadata": {},
   "outputs": [],
   "source": [
    "uid_list"
   ]
  },
  {
   "cell_type": "code",
   "execution_count": null,
   "metadata": {
    "scrolled": true
   },
   "outputs": [],
   "source": [
    "t0 = time.time() \n",
    "_run_data_reduction( uid_list )    \n",
    "run_time( t0 )"
   ]
  },
  {
   "cell_type": "markdown",
   "metadata": {},
   "source": [
    "* ## For Get Sq"
   ]
  },
  {
   "cell_type": "markdown",
   "metadata": {},
   "source": [
    "* #### Find the interested data"
   ]
  },
  {
   "cell_type": "code",
   "execution_count": 6,
   "metadata": {},
   "outputs": [
    {
     "name": "stdout",
     "output_type": "stream",
     "text": [
      "11\n"
     ]
    }
   ],
   "source": [
    "uid_list = sorted( ls_dir( outDir, have_list=[    'h5',  ], exclude_list=['waxs', 'AgBH', 'Form_Factor', 'setup']) )\n",
    "print(len(uid_list))"
   ]
  },
  {
   "cell_type": "code",
   "execution_count": 7,
   "metadata": {},
   "outputs": [
    {
     "data": {
      "text/plain": [
       "['FL_1024Morn_F1_x0.100_y0.150_0.10s_2605949_saxs.tiff.h5',\n",
       " 'FL_1024Morn_F1_x0.100_y0.150_0.10s_2605950_saxs.tiff.h5',\n",
       " 'FL_1026Morn_F2_x0.000_y0.000_1.00s_2607309_saxs.tiff.h5',\n",
       " 'Sq_FL_1024Morn_F1_x0.100_y0.150_0.10s_2605949_saxs.tiff.h5.png',\n",
       " 'Sq_FL_1024Morn_F1_x0.100_y0.150_0.10s_2605950_saxs.tiff.h5.png',\n",
       " 'Sq_FL_1026Morn_F2_x0.000_y0.000_1.00s_2607309_saxs.tiff.h5.png',\n",
       " 'Sq_f3b03825-edfa-43f3-b333_000001.tiff.h5.png',\n",
       " 'f3b03825-edfa-43f3-b333_000001.tiff.h5',\n",
       " 'f3b03825-edfa-43f3-b333_000002.tiff.h5',\n",
       " 'f3b03825-edfa-43f3-b333_000003.tiff.h5',\n",
       " 'test.h5']"
      ]
     },
     "execution_count": 7,
     "metadata": {},
     "output_type": "execute_result"
    }
   ],
   "source": [
    "uid_list"
   ]
  },
  {
   "cell_type": "code",
   "execution_count": 9,
   "metadata": {
    "scrolled": true
   },
   "outputs": [
    {
     "data": {
      "application/vnd.jupyter.widget-view+json": {
       "model_id": "56adfc32da6145d6b9ea30911854b4d2",
       "version_major": 2,
       "version_minor": 0
      },
      "text/plain": [
       "HBox(children=(IntProgress(value=0, description='Executing', max=42, style=ProgressStyle(description_width='in…"
      ]
     },
     "metadata": {},
     "output_type": "display_data"
    },
    {
     "name": "stdout",
     "output_type": "stream",
     "text": [
      "\n",
      "Total time: 18.292 sec\n"
     ]
    }
   ],
   "source": [
    "t0 = time.time() \n",
    "_run_get_Sq( uid_list )   \n",
    "run_time( t0 )"
   ]
  },
  {
   "cell_type": "markdown",
   "metadata": {},
   "source": [
    "# The End"
   ]
  }
 ],
 "metadata": {
  "kernelspec": {
   "display_name": "Python 3",
   "language": "python",
   "name": "python3"
  },
  "language_info": {
   "codemirror_mode": {
    "name": "ipython",
    "version": 3
   },
   "file_extension": ".py",
   "mimetype": "text/x-python",
   "name": "python",
   "nbconvert_exporter": "python",
   "pygments_lexer": "ipython3",
   "version": "3.7.0"
  }
 },
 "nbformat": 4,
 "nbformat_minor": 2
}
