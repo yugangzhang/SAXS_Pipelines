{
 "cells": [
  {
   "cell_type": "markdown",
   "metadata": {},
   "source": [
    "# Make PDF Report pipeline \n",
    "\n",
    "\n",
    "## Overview\n",
    "\n",
    "* Setup: load packages/setup path\n",
    "* Find the interested dataset for makeing the pdf report\n",
    "* Make PDF report \n",
    " \n",
    "\n",
    "### DEV\n",
    "* V0: Initialize the pipeline (2019/10/26 by YG yuzhang@bnl.gov)\n",
    "* V1: Using the new developed pyScatt package  (2019/12 by YG yuzhang@bnl.gov)\n",
    "\n",
    " \n",
    "\n",
    "## TODLIST\n",
    "* 1): Put codes into a package (Done)"
   ]
  },
  {
   "cell_type": "code",
   "execution_count": 1,
   "metadata": {},
   "outputs": [
    {
     "name": "stderr",
     "output_type": "stream",
     "text": [
      "WARNING:silx.opencl.common:The module pyOpenCL has been imported but can't be used here\n"
     ]
    }
   ],
   "source": [
    "%matplotlib notebook\n",
    "from pyScatt.packages import *\n",
    "plt.rcParams.update({'figure.max_open_warning': 0})\n",
    "plt.rcParams.update({ 'image.origin': 'lower'   })\n",
    "plt.rcParams.update({ 'image.interpolation': 'none'   })"
   ]
  },
  {
   "cell_type": "markdown",
   "metadata": {},
   "source": [
    "# Setup paths"
   ]
  },
  {
   "cell_type": "code",
   "execution_count": 2,
   "metadata": {},
   "outputs": [
    {
     "name": "stdout",
     "output_type": "stream",
     "text": [
      "Directory  /home/group/NSLSII_Data/CMS/2020_Cycle3/Dishari/Results/Dishari/  already exists\n",
      "Directory  /home/group/NSLSII_Data/CMS/2020_Cycle3/Dishari/Results/Dishari/PDF_Report/  already exists\n"
     ]
    },
    {
     "data": {
      "text/plain": [
       "'/home/group/NSLSII_Data/CMS/2020_Cycle3/Dishari/Results/Dishari/PDF_Report/'"
      ]
     },
     "execution_count": 2,
     "metadata": {},
     "output_type": "execute_result"
    }
   ],
   "source": [
    "####\n",
    "\n",
    "username = 'Dishari'\n",
    "inDir = '/home/group/NSLSII_Data/CMS/2020_Cycle3/Dishari/Results/Dishari/'\n",
    "outDir0 = '/home/group/NSLSII_Data/CMS/2020_Cycle3/Dishari/Results/Dishari/'\n",
    "outDir = '/home/group/NSLSII_Data/CMS/2020_Cycle3/Dishari/Results/Dishari/PDF_Report/'\n",
    "inDir_HDF = '/home/group/NSLSII_Data/CMS/2020_Cycle3/Dishari/Results/Dishari/HDF_Results/'\n",
    "\n",
    "\n",
    "create_fullpath(  outDir0 )\n",
    "create_fullpath(  outDir )\n"
   ]
  },
  {
   "cell_type": "markdown",
   "metadata": {},
   "source": [
    "# Find the interested filename list giving patterns"
   ]
  },
  {
   "cell_type": "code",
   "execution_count": 3,
   "metadata": {
    "scrolled": true
   },
   "outputs": [
    {
     "name": "stdout",
     "output_type": "stream",
     "text": [
      "27\n"
     ]
    },
    {
     "data": {
      "text/plain": [
       "['SD_Bare_Si_Wafer.h5',\n",
       " 'SD_C2_IEC2_Unannealed_117.h5',\n",
       " 'SD_C2_IEC2_Unannealed_20.h5',\n",
       " 'SD_C2_IEC2_Unannealed_55.h5',\n",
       " 'SD_C2_IEC3_Annealed_117.h5',\n",
       " 'SD_C2_IEC3_Annealed_20.h5',\n",
       " 'SD_C2_IEC3_Annealed_55.h5',\n",
       " 'SD_C2_IEC3_Annealed_70.h5',\n",
       " 'SD_C2_IEC4_Annealed_20.h5',\n",
       " 'SD_C2_IEC4_Annealed_50.h5',\n",
       " 'SD_C2_IEC4_Annealed_70.h5',\n",
       " 'SD_C2_IEC4_Annealed_90.h5',\n",
       " 'SD_C2_IEC4_Unannealed_20.h5',\n",
       " 'SD_C2_IEC4_Unannealed_50.h5',\n",
       " 'SD_C2_IEC4_Unannealed_90.h5',\n",
       " 'SD_Nafion_Annealed_115.h5',\n",
       " 'SD_Nafion_Annealed_17.h5',\n",
       " 'SD_Nafion_Annealed_46.h5',\n",
       " 'SD_Nafion_Annealed_70.h5',\n",
       " 'SD_PSC2_IEC2_Annealed_20.h5',\n",
       " 'SD_PSC2_IEC2_Annealed_52.h5',\n",
       " 'SD_PSC_IEC2_Annealed_118.h5',\n",
       " 'SD_PSC_IEC2_Annealed_70.h5',\n",
       " 'SD_PSC_IEC3p6_Annealed_100.h5',\n",
       " 'SD_PSC_IEC3p6_Annealed_20.h5',\n",
       " 'SD_PSC_IEC3p6_Annealed_50.h5',\n",
       " 'SD_PSC_IEC3p6_Annealed_70.h5']"
      ]
     },
     "execution_count": 3,
     "metadata": {},
     "output_type": "execute_result"
    }
   ],
   "source": [
    "#flist_all = sorted(  ls_dir( inDir, and_list=[ 'png' ], no_list=['Form_Factor']) )\n",
    "flist_all = sorted(  ls_dir( inDir_HDF, and_list=[ 'h5'  ], no_list=['Form_Factor']) )\n",
    "print(len(flist_all))\n",
    "flist_all"
   ]
  },
  {
   "cell_type": "code",
   "execution_count": 4,
   "metadata": {},
   "outputs": [
    {
     "name": "stdout",
     "output_type": "stream",
     "text": [
      "27\n",
      "['SD_Bare_Si_Wafer', 'SD_C2_IEC2_Unannealed_117', 'SD_C2_IEC2_Unannealed_20', 'SD_C2_IEC2_Unannealed_55', 'SD_C2_IEC3_Annealed_117', 'SD_C2_IEC3_Annealed_20', 'SD_C2_IEC3_Annealed_55', 'SD_C2_IEC3_Annealed_70', 'SD_C2_IEC4_Annealed_20', 'SD_C2_IEC4_Annealed_50', 'SD_C2_IEC4_Annealed_70', 'SD_C2_IEC4_Annealed_90', 'SD_C2_IEC4_Unannealed_20', 'SD_C2_IEC4_Unannealed_50', 'SD_C2_IEC4_Unannealed_90', 'SD_Nafion_Annealed_115', 'SD_Nafion_Annealed_17', 'SD_Nafion_Annealed_46', 'SD_Nafion_Annealed_70', 'SD_PSC2_IEC2_Annealed_20', 'SD_PSC2_IEC2_Annealed_52', 'SD_PSC_IEC2_Annealed_118', 'SD_PSC_IEC2_Annealed_70', 'SD_PSC_IEC3p6_Annealed_100', 'SD_PSC_IEC3p6_Annealed_20', 'SD_PSC_IEC3p6_Annealed_50', 'SD_PSC_IEC3p6_Annealed_70']\n"
     ]
    }
   ],
   "source": [
    "sams =[ fp[:-3] for fp in flist_all ]\n",
    "print( len(sams))\n",
    "print(sams)"
   ]
  },
  {
   "cell_type": "code",
   "execution_count": null,
   "metadata": {},
   "outputs": [],
   "source": []
  },
  {
   "cell_type": "markdown",
   "metadata": {},
   "source": [
    "## Check one HDF file to load the sample png info"
   ]
  },
  {
   "cell_type": "code",
   "execution_count": 5,
   "metadata": {},
   "outputs": [
    {
     "data": {
      "text/plain": [
       "('/home/group/NSLSII_Data/CMS/2020_Cycle3/Dishari/Results/Dishari/HDF_Results/',\n",
       " 'SD_C2_IEC2_Unannealed_20')"
      ]
     },
     "execution_count": 5,
     "metadata": {},
     "output_type": "execute_result"
    }
   ],
   "source": [
    "inDir_HDF, sams[2]"
   ]
  },
  {
   "cell_type": "code",
   "execution_count": null,
   "metadata": {},
   "outputs": [],
   "source": []
  },
  {
   "cell_type": "code",
   "execution_count": 6,
   "metadata": {},
   "outputs": [],
   "source": [
    "humidity =np.array( [ 0, 25, 50, 75, 100  ] )\n",
    "incs = np.array( [  0.05, 0.08, 0.10, 0.12, 0.15, 0.20, 0.25 ] )"
   ]
  },
  {
   "cell_type": "code",
   "execution_count": null,
   "metadata": {},
   "outputs": [],
   "source": []
  },
  {
   "cell_type": "code",
   "execution_count": 7,
   "metadata": {},
   "outputs": [
    {
     "name": "stdout",
     "output_type": "stream",
     "text": [
      "SD_Bare_Si_Wafer.h5\n",
      "37656 ['SD_Bare_Si_Wafer_pos1_3903.9s_RH0.463_th0.050_10.00s_37656_stitched_saxs.tiff']\n",
      "qimg_SD_Bare_Si_Wafer_pos1_3903.9s_RH0.463_th0.050_10.00s_37656_stitched_saxs.tiff.png saxs_linecut_qz_iqs_SD_Bare_Si_Wafer_pos1_3903.9s_RH0.463_th0.050_10.00s_37656_stitched_saxs.tiff.png\n"
     ]
    }
   ],
   "source": [
    "for samk in sams[0:1]:    \n",
    "    samk += '.h5'\n",
    "    print(samk)\n",
    "    RES = h5todict( inDir_HDF + samk ) \n",
    "    K0 = 'GiSAXS'\n",
    "    K1 =  list( RES[K0].keys() )\n",
    "    for k1 in K1 [: 1 ]:\n",
    "        K2 =  list( RES[K0][k1].keys() )\n",
    "        for k2 in K2[ : 1 ]:\n",
    "            res = RES[K0][k1][k2]    \n",
    "            md = res['md']\n",
    "            inDir_png = md['outDir']\n",
    "            sam = md['sample']\n",
    "            sid = md['sid']\n",
    "            fps = md['filenames']\n",
    "            print( sid, fps)\n",
    "            pngs = res['saved_plots']\n",
    "            ks = list( pngs.keys() ) \n",
    "            qimg = pngs['qimg']\n",
    "            lqz = pngs['lqz']  \n",
    "            print( qimg, lqz )\n",
    " \n",
    " \n",
    "    "
   ]
  },
  {
   "cell_type": "code",
   "execution_count": 8,
   "metadata": {},
   "outputs": [
    {
     "name": "stdout",
     "output_type": "stream",
     "text": [
      "SD_Bare_Si_Wafer.h5\n",
      "37782 ['SD_Bare_Si_Wafer_pos1_6428.7s_RH0.410_th0.050_15.00s_37782_stitched_waxs.tiff']\n",
      "qimg_SD_Bare_Si_Wafer_pos1_6428.7s_RH0.410_th0.050_15.00s_37782_stitched_waxs.tiff.png waxs_q_iq_SD_Bare_Si_Wafer_pos1_6428.7s_RH0.410_th0.050_15.00s_37782_stitched_waxs.tiff.png waxs_qs_iqs_SD_Bare_Si_Wafer_pos1_6428.7s_RH0.410_th0.050_15.00s_37782_stitched_waxs.tiff.png\n"
     ]
    }
   ],
   "source": [
    "for samk in sams[0:1]:    \n",
    "    samk += '.h5'\n",
    "    print(samk)\n",
    "    RES = h5todict( inDir_HDF + samk ) \n",
    "    K0 = 'GiWAXS'\n",
    "    K1 =  list( RES[K0].keys() )\n",
    "    for k1 in K1 [: 1 ]:\n",
    "        K2 =  list( RES[K0][k1].keys() )\n",
    "        for k2 in K2[ : 1 ]:\n",
    "            res = RES[K0][k1][k2]    \n",
    "            md = res['md']\n",
    "            inDir_png = md['outDir']\n",
    "            sam = md['sample']\n",
    "            sid = md['sid']\n",
    "            fps = md['filenames']\n",
    "            print( sid, fps)\n",
    "            pngs = res['saved_plots']\n",
    "            ks = list( pngs.keys() ) \n",
    "            qimg = pngs['qimg']\n",
    "            qiq = pngs['qiq']  \n",
    "            qiq_sec = pngs['qiq_sec']  \n",
    "            print( qimg, qiq, qiq_sec )"
   ]
  },
  {
   "cell_type": "code",
   "execution_count": null,
   "metadata": {},
   "outputs": [],
   "source": []
  },
  {
   "cell_type": "markdown",
   "metadata": {},
   "source": [
    "# Make PDF Report"
   ]
  },
  {
   "cell_type": "code",
   "execution_count": 10,
   "metadata": {},
   "outputs": [],
   "source": [
    "K1 = ['h=0',  'h=25', 'h=50', 'h=75', 'h=100',]"
   ]
  },
  {
   "cell_type": "code",
   "execution_count": null,
   "metadata": {},
   "outputs": [
    {
     "name": "stdout",
     "output_type": "stream",
     "text": [
      "Dishari_Sample=SD_Bare_Si_Wafer_2020_C3\n",
      "PDF_Report_Dishari_Sample=SD_Bare_Si_Wafer_2020_C3.pdf\n",
      "SD_Bare_Si_Wafer.h5\n"
     ]
    }
   ],
   "source": [
    "for samk in sams[0:]: \n",
    "    sample = \"%s_Sample=%s_2020_C3\"%(username, samk )\n",
    "    pdf_filename  = 'PDF_Report_%s.pdf'%sample\n",
    "    print(    sample  )\n",
    "    print( pdf_filename )\n",
    "    pdf= PDFBase( inDir, outDir, filename=pdf_filename, user = 'YZhang@BNL', pagesize = ( 1021  , 792) ) \n",
    "    c = pdf.c     \n",
    "    header = 'Report for SAXS/WAXS analyis of %s systems'%(  sample )\n",
    "    j = 1     \n",
    "    \n",
    "    #report SAXS \n",
    "    samk += '.h5'\n",
    "    print(samk)\n",
    "    \n",
    "    RES = h5todict( inDir_HDF + samk ) \n",
    "    \n",
    "    K0 = 'GiSAXS'\n",
    "    #K1 =  list( RES[K0].keys() )\n",
    "    for k1 in K1 [  :   ]:\n",
    "        K2 =  list( RES[K0][k1].keys() )\n",
    "        for k2 in K2[ :  ]:\n",
    "            res = RES[K0][k1][k2]    \n",
    "            md = res['md']\n",
    "            inDir_png = md['outDir']\n",
    "            sam = md['sample']\n",
    "            sid = md['sid']\n",
    "            fps = md['filenames']\n",
    "            #print( sid, fps)\n",
    "            pngs = res['saved_plots']\n",
    "            ks = list( pngs.keys() ) \n",
    "            qimg = pngs['qimg']\n",
    "            lqz = pngs['lqz']  \n",
    "            #print( qimg, lqz )    \n",
    "    \n",
    "            pdf.report_header( header = header, page = j ) \n",
    "            str_list  =  [  'GISAXS--%s--%s'%( k1,k2)]\n",
    "            pdf.report_string_list( str_list, top= 720, left = 360, spacing = 15, fontsize=32, fontcolor = red )\n",
    "            \n",
    "            imgf =   qimg\n",
    "            print(imgf)\n",
    "            str_list = [ '%s'%(imgf) ]\n",
    "            pdf.report_string_list( str_list, top= 630, left = 60, spacing = 15, fontsize=24, fontcolor = red )\n",
    "            img_left = -100\n",
    "            img_top= 200      \n",
    "            img_height= 400 \n",
    "            width = add_image_string( c, imgf= imgf, data_dir= inDir_png,img_left= img_left,\n",
    "                    img_top= img_top, img_height= img_height, return_ = True  )\n",
    "            \n",
    "            imgf =   lqz[:-4] + '_.png'\n",
    "            print(imgf)\n",
    "            str_list = [ '%s'%(imgf) ]\n",
    "            pdf.report_string_list( str_list, top= 230, left = 500, spacing = 15, fontsize=24, fontcolor = red )            \n",
    "            img_left = 520\n",
    "            img_top= 250      \n",
    "            img_height= 300 \n",
    "            width = add_image_string( c, imgf= imgf, data_dir= inDir_png,img_left= img_left,\n",
    "                    img_top= img_top, img_height= img_height, return_ = True  )  \n",
    "            pdf.new_page() \n",
    "            j +=1    \n",
    "            \n",
    "            \n",
    "    K0 = 'GiWAXS'\n",
    "    #K1 =  list( RES[K0].keys() )\n",
    "    for k1 in K1 [ :  ]:\n",
    "        K2 =  list( RES[K0][k1].keys() )\n",
    "        for k2 in K2[ :  ]:\n",
    "            res = RES[K0][k1][k2]    \n",
    "            md = res['md']\n",
    "            inDir_png = md['outDir']\n",
    "            sam = md['sample']\n",
    "            sid = md['sid']\n",
    "            fps = md['filenames']\n",
    "            print( sid, fps)\n",
    "            pngs = res['saved_plots']\n",
    "            ks = list( pngs.keys() ) \n",
    "            qimg = pngs['qimg']\n",
    "            qiq = pngs['qiq']  \n",
    "            qiq_sec = pngs['qiq_sec']  \n",
    "            #print( qimg, qiq, qiq_sec )\n",
    "            \n",
    "            pdf.report_header( header = header, page = j ) \n",
    "            str_list  =  [  'GIWAXS--%s--%s'%( k1,k2)]\n",
    "            pdf.report_string_list( str_list, top= 720, left = 360, spacing = 15, fontsize=32, fontcolor = red )\n",
    "            imgf =   qimg\n",
    "            print(imgf)\n",
    "            str_list = [ '%s'%(imgf) ]\n",
    "            pdf.report_string_list( str_list, top= 630, left = 0, spacing = 15, fontsize=24, fontcolor = red )\n",
    "            img_left = -40\n",
    "            img_top= 200      \n",
    "            img_height= 400 \n",
    "            width = add_image_string( c, imgf= imgf, data_dir= inDir_png,img_left= img_left,\n",
    "                    img_top= img_top, img_height= img_height, return_ = True  )\n",
    "            \n",
    "            imgf =   qiq[:-4] + '_.png'\n",
    "            print(imgf)\n",
    "            str_list = [ '%s'%(imgf) ]\n",
    "            pdf.report_string_list( str_list, top= 380, left = 500, spacing = 15, fontsize=24, fontcolor = red )            \n",
    "            img_left = 520\n",
    "            img_top= 400      \n",
    "            img_height= 300 \n",
    "            width = add_image_string( c, imgf= imgf, data_dir= inDir_png,img_left= img_left,\n",
    "                    img_top= img_top, img_height= img_height, return_ = True  )  \n",
    "            \n",
    "            imgf =   qiq_sec[:-4] + '_.png'\n",
    "            print(imgf)\n",
    "            str_list = [ '%s'%(imgf) ]\n",
    "            pdf.report_string_list( str_list, top= 60, left = 500, spacing = 15, fontsize=24, fontcolor = red )            \n",
    "            img_left = 520\n",
    "            img_top=  50      \n",
    "            img_height= 300 \n",
    "            width = add_image_string( c, imgf= imgf, data_dir= inDir_png,img_left= img_left,\n",
    "                    img_top= img_top, img_height= img_height, return_ = True  )              \n",
    "            \n",
    "            \n",
    "            \n",
    "            pdf.new_page() \n",
    "            j +=1             \n",
    "            \n",
    "            \n",
    "            \n",
    "            \n",
    "            \n",
    "    pdf.save_page()\n",
    "    pdf.done()     \n",
    "\n"
   ]
  },
  {
   "cell_type": "code",
   "execution_count": null,
   "metadata": {},
   "outputs": [],
   "source": []
  },
  {
   "cell_type": "markdown",
   "metadata": {},
   "source": [
    "# The END !"
   ]
  },
  {
   "cell_type": "code",
   "execution_count": null,
   "metadata": {},
   "outputs": [],
   "source": []
  },
  {
   "cell_type": "code",
   "execution_count": null,
   "metadata": {},
   "outputs": [],
   "source": []
  }
 ],
 "metadata": {
  "kernelspec": {
   "display_name": "Python 3",
   "language": "python",
   "name": "python3"
  },
  "language_info": {
   "codemirror_mode": {
    "name": "ipython",
    "version": 3
   },
   "file_extension": ".py",
   "mimetype": "text/x-python",
   "name": "python",
   "nbconvert_exporter": "python",
   "pygments_lexer": "ipython3",
   "version": "3.7.5"
  }
 },
 "nbformat": 4,
 "nbformat_minor": 2
}
