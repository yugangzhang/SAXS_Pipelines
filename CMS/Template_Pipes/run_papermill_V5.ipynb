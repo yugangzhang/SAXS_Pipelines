{
 "cells": [
  {
   "cell_type": "markdown",
   "metadata": {},
   "source": [
    "# Papermill for running batch data analysis using the template pipelines\n",
    "\n",
    "\n",
    "## Overview\n",
    "\n",
    "* Setup: load packages/setup path\n",
    "* Load calibration h5 file (genreated by calibration pipeline) to load Mask and beamline parameters\n",
    "* Check one data and convert scattering data to q-phi map, q-Iq, ang-Iang\n",
    "* Find the interested dataset and do batch reduction\n",
    "* Produce images (png format)\n",
    "* Export results to a hdf file \n",
    " \n",
    "\n",
    "### DEV\n",
    "* V0: Initialize the pipeline (2019/10/26 by YG yuzhang@bnl.gov)\n",
    "\n",
    "\n",
    " \n",
    "\n",
    "## TODLIST\n",
    "* 1): Put codes into a package"
   ]
  },
  {
   "cell_type": "markdown",
   "metadata": {},
   "source": [
    "# Load package"
   ]
  },
  {
   "cell_type": "code",
   "execution_count": 1,
   "metadata": {},
   "outputs": [
    {
     "name": "stderr",
     "output_type": "stream",
     "text": [
      "WARNING:silx.opencl.common:The module pyOpenCL has been imported but can't be used here\n"
     ]
    }
   ],
   "source": [
    "%matplotlib notebook\n",
    "from pyScatt.packages import *\n",
    "plt.rcParams.update({'figure.max_open_warning': 0})\n",
    "plt.rcParams.update({ 'image.origin': 'lower'   })\n",
    "plt.rcParams.update({ 'image.interpolation': 'none'   })"
   ]
  },
  {
   "cell_type": "code",
   "execution_count": 2,
   "metadata": {},
   "outputs": [],
   "source": [
    "%run -i /home/yuzhang/Software/pyScatt/pyScatt/generic_functions.py"
   ]
  },
  {
   "cell_type": "markdown",
   "metadata": {},
   "source": [
    "# Setup paths"
   ]
  },
  {
   "cell_type": "code",
   "execution_count": 3,
   "metadata": {},
   "outputs": [],
   "source": [
    "####\n",
    "username = 'yuzhang'\n",
    "\n",
    "\n",
    "inDir = None\n",
    "outDir = None #'/home/group/NSLSII_Data/SMI/2020_Cycle2/304231_Dinca/Analysis_Results/Yugang/SAXS/ResPipes/'\n",
    "\n",
    "\n",
    "\n",
    "T=True\n",
    "F=False"
   ]
  },
  {
   "cell_type": "code",
   "execution_count": 4,
   "metadata": {},
   "outputs": [
    {
     "name": "stdout",
     "output_type": "stream",
     "text": [
      "2020_11_21_13\n"
     ]
    }
   ],
   "source": [
    "t = get_current_time( pattern = '%Y_%m_%d_%H' )\n",
    "print( t )"
   ]
  },
  {
   "cell_type": "markdown",
   "metadata": {},
   "source": [
    "# Papermill functions"
   ]
  },
  {
   "cell_type": "code",
   "execution_count": 5,
   "metadata": {},
   "outputs": [],
   "source": [
    "path =  '/home/yuzhang/XScattering/2020_3/CMS/Template_Pipes/'\n",
    "outDir = path\n",
    "\n",
    "\n",
    "def _run_data_reduction_gisaxs( uid_list=None,          \n",
    "        template_pipeline = path + 'General_Data_Reduction_Template_CMS_GISAXS_V2.ipynb',                \n",
    "         ):\n",
    "    \n",
    "    ''' YG. Octo 26, 2019, Data reduction for SAXS/WAXS data using SAXS_Data_Reduction_Template_V0 pipeline\n",
    "    Input:\n",
    "        uid_list: list, a list of strings (the uique data id or filename)\n",
    "        template_pipeline: str, the filename of the template pipeline\n",
    "        output_pipeline:str, the filename of the output pipeline\n",
    "    Output:\n",
    "        None\n",
    "    '''     \n",
    "    t = get_current_time( pattern = '%Y_%m_%d_%H' )\n",
    "    output_pipeline = outDir + 'res_pipeline_%s_waxs.ipynb'%t\n",
    "    pm.execute_notebook(\n",
    "                        template_pipeline, output_pipeline,         \n",
    "                        parameters = dict( uid_list = uid_list ),\n",
    "                        kernel_name='python3', report_mode=False \n",
    "                         ) \n",
    "    \n",
    "def _run_data_reduction_giwaxs( uid_list=None,          \n",
    "        template_pipeline = path + 'General_Data_Reduction_Template_CMS_GIWAXS_V2.ipynb',                \n",
    "         ):\n",
    "    \n",
    "    ''' YG. Octo 26, 2019, Data reduction for SAXS/WAXS data using SAXS_Data_Reduction_Template_V0 pipeline\n",
    "    Input:\n",
    "        uid_list: list, a list of strings (the uique data id or filename)\n",
    "        template_pipeline: str, the filename of the template pipeline\n",
    "        output_pipeline:str, the filename of the output pipeline\n",
    "    Output:\n",
    "        None\n",
    "    '''     \n",
    "    t = get_current_time( pattern = '%Y_%m_%d_%H' )\n",
    "    output_pipeline = outDir + 'res_pipeline_%s_waxs.ipynb'%t\n",
    "    pm.execute_notebook(\n",
    "                        template_pipeline, output_pipeline,         \n",
    "                        parameters = dict( uid_list = uid_list ),\n",
    "                        kernel_name='python3', report_mode=False \n",
    "                         )      \n",
    "def _run_data_reduction_waxs( uid_list=None,          \n",
    "        template_pipeline = path + 'General_Data_Reduction_Template_CMS_WAXS_V2.ipynb',                \n",
    "         ):\n",
    "    \n",
    "    ''' YG. Octo 26, 2019, Data reduction for SAXS/WAXS data using SAXS_Data_Reduction_Template_V0 pipeline\n",
    "    Input:\n",
    "        uid_list: list, a list of strings (the uique data id or filename)\n",
    "        template_pipeline: str, the filename of the template pipeline\n",
    "        output_pipeline:str, the filename of the output pipeline\n",
    "    Output:\n",
    "        None\n",
    "    '''     \n",
    "    t = get_current_time( pattern = '%Y_%m_%d_%H' )\n",
    "    output_pipeline = outDir + 'res_pipeline_%s_waxs.ipynb'%t\n",
    "    pm.execute_notebook(\n",
    "                        template_pipeline, output_pipeline,         \n",
    "                        parameters = dict( uid_list = uid_list ),\n",
    "                        kernel_name='python3', report_mode=False \n",
    "                         )      \n",
    "    \n",
    "def _run_data_reduction_saxs( uid_list=None,          \n",
    "        template_pipeline = path + 'General_Data_Reduction_Template_CMS_SAXS_V2.ipynb',                \n",
    "         ):\n",
    "    \n",
    "    ''' YG. Octo 26, 2019, Data reduction for SAXS/WAXS data using SAXS_Data_Reduction_Template_V0 pipeline\n",
    "    Input:\n",
    "        uid_list: list, a list of strings (the uique data id or filename)\n",
    "        template_pipeline: str, the filename of the template pipeline\n",
    "        output_pipeline:str, the filename of the output pipeline\n",
    "    Output:\n",
    "        None\n",
    "    '''     \n",
    "    t = get_current_time( pattern = '%Y_%m_%d_%H' )\n",
    "    output_pipeline = outDir + 'res_pipeline_%s_saxs.ipynb'%t\n",
    "    pm.execute_notebook(\n",
    "                        template_pipeline, output_pipeline,         \n",
    "                        parameters = dict( uid_list = uid_list ),\n",
    "                        kernel_name='python3', report_mode=False \n",
    "                         ) \n",
    "    \n",
    "    \n",
    "def _run_get_Sq( uid_list,          \n",
    "        template_pipeline = path + 'SAXS_Data_Analysis_SQ_Template_V2.ipynb',                \n",
    "        output_pipeline = outDir + 'test_GetSq.ipynb' ):\n",
    "    \n",
    "    ''' YG. Octo 26, 2019, Data analysis for SAXS/WAXS data using SAXS_Data_Analysis_SQ_Template_V0 pipeline\n",
    "    Input:\n",
    "        uid_list: list, a list of strings (the uique data id or filename)\n",
    "        template_pipeline: str, the filename of the template pipeline\n",
    "        output_pipeline:str, the filename of the output pipeline\n",
    "    Output:\n",
    "        None\n",
    "    '''     \n",
    "    pm.execute_notebook(\n",
    "                        template_pipeline, output_pipeline,         \n",
    "                        parameters = dict( uid_list = uid_list ),\n",
    "                        kernel_name='python3', report_mode=False \n",
    "                         )          \n",
    "    \n",
    "    \n",
    "def _run_data_stitch_waxs( uid_list=None,          \n",
    "        template_pipeline = path + 'General_Data_Reduction_Template_SMI_WAXS_Stitching_V2.ipynb',                \n",
    "         ):\n",
    "    \n",
    "    ''' YG. Octo 26, 2019, Data reduction for SAXS/WAXS data using SAXS_Data_Reduction_Template_V0 pipeline\n",
    "    Input:\n",
    "        uid_list: list, a list of strings (the uique data id or filename)\n",
    "        template_pipeline: str, the filename of the template pipeline\n",
    "        output_pipeline:str, the filename of the output pipeline\n",
    "    Output:\n",
    "        None\n",
    "    '''     \n",
    "    t = get_current_time( pattern = '%Y_%m_%d_%H' )\n",
    "    output_pipeline = outDir + 'res_pipeline_%s_stitch_waxs.ipynb'%t\n",
    "    pm.execute_notebook(\n",
    "                        template_pipeline, output_pipeline,         \n",
    "                        parameters = dict( uid_list = uid_list ),\n",
    "                        kernel_name='python3', report_mode=False \n",
    "                         )     "
   ]
  },
  {
   "cell_type": "markdown",
   "metadata": {},
   "source": [
    "## run the data reduction"
   ]
  },
  {
   "cell_type": "code",
   "execution_count": 14,
   "metadata": {},
   "outputs": [
    {
     "name": "stderr",
     "output_type": "stream",
     "text": [
      "WARNING:papermill:Input notebook does not contain a cell with tag 'parameters'\n"
     ]
    },
    {
     "data": {
      "application/vnd.jupyter.widget-view+json": {
       "model_id": "d83d5f7f91d6468d90523d51382a16aa",
       "version_major": 2,
       "version_minor": 0
      },
      "text/plain": [
       "HBox(children=(IntProgress(value=0, description='Executing', max=34, style=ProgressStyle(description_width='in…"
      ]
     },
     "metadata": {},
     "output_type": "display_data"
    },
    {
     "name": "stdout",
     "output_type": "stream",
     "text": [
      "\n",
      "Total time: 19.487 min\n"
     ]
    }
   ],
   "source": [
    "t0 = time.time() \n",
    "_run_data_reduction_waxs(   )    \n",
    "run_time( t0 )"
   ]
  },
  {
   "cell_type": "code",
   "execution_count": null,
   "metadata": {},
   "outputs": [],
   "source": []
  },
  {
   "cell_type": "code",
   "execution_count": null,
   "metadata": {},
   "outputs": [],
   "source": []
  },
  {
   "cell_type": "code",
   "execution_count": null,
   "metadata": {},
   "outputs": [],
   "source": [
    "t0 = time.time() \n",
    "_run_data_stitch_waxs(   )    \n",
    "run_time( t0 )"
   ]
  },
  {
   "cell_type": "code",
   "execution_count": null,
   "metadata": {},
   "outputs": [],
   "source": []
  },
  {
   "cell_type": "code",
   "execution_count": 10,
   "metadata": {},
   "outputs": [
    {
     "name": "stderr",
     "output_type": "stream",
     "text": [
      "WARNING:papermill:Input notebook does not contain a cell with tag 'parameters'\n"
     ]
    },
    {
     "data": {
      "application/vnd.jupyter.widget-view+json": {
       "model_id": "b687a3f4da334031ae57cac0bf902f03",
       "version_major": 2,
       "version_minor": 0
      },
      "text/plain": [
       "HBox(children=(IntProgress(value=0, description='Executing', max=34, style=ProgressStyle(description_width='in…"
      ]
     },
     "metadata": {},
     "output_type": "display_data"
    },
    {
     "name": "stderr",
     "output_type": "stream",
     "text": [
      "WARNING:papermill:Timeout waiting for IOPub output\n"
     ]
    },
    {
     "name": "stdout",
     "output_type": "stream",
     "text": [
      "\n"
     ]
    },
    {
     "ename": "PapermillExecutionError",
     "evalue": "\n---------------------------------------------------------------------------\nException encountered at \"In [18]\":\n--------------------\nValueErrorTraceback (most recent call last)\n~/Software/pyScatt/pyScatt/Pipeline_Funcs.py in <module>\n     34                                            mask= mask, x='Qr', y='Qz', method = 'ai'  )            \n     35             run_save_qimage_saxs(  SC, ki=i  )\n---> 36             run_plot_qimage_saxs(  SC, ki=i  )\n     37 \n     38         #######################################\n\n~/Software/pyScatt/pyScatt/Pipeline_Funcs.py in run_plot_qimage_saxs(SC, ki, zlim, vmin, vmax, fontsize)\n     60     SC.plot_stitched_waxs( img=SC.qimg,x=SC.qx,y=SC.qz, title=title, fontsize=fontsize,\n     61                           vmin= vmin, vmax=vmax,zlim=zlim,\n---> 62                           save=True, outDir= outDir  )  \n     63     _update_dict( SC.saved_plots, key, outDir + title + '.png'  )\n     64 \n\n~/Software/pyScatt/pyScatt/Pipeline_Funcs.py in plot_stitched_waxs(self, img, x, y, title, zlim, vmin, vmax, outDir, figsize, fontsize, save, dpi)\n   1139                       vmin=  vmin, vmax= vmax, zlim=zlim, dpi=dpi,\n   1140                        fontsize=fontsize, xlabel='$q_{par} \\, (\\AA^{-1})$',\n-> 1141                        ylabel='$q_{ver} \\, (\\AA^{-1})$', save=save,outDir=outDir )\n   1142 \n   1143 \n\n~/Software/pyScatt/pyScatt/Pipeline_Funcs.py in plot_img(self, img, fig_ax, x, y, title, zlim, vmin, vmax, xlim, ylim, logs, figsize, fontsize, xlabel, ylabel, mask, aspect, save, cmap, outDir, dpi)\n    818         plt.tight_layout()\n    819         if save:\n--> 820             plt.savefig( outDir + title + '.png', dpi=dpi)\n    821         return fig, ax\n    822 \n\n/opt/anaconda3/envs/pyScattering/lib/python3.7/site-packages/matplotlib/pyplot.py in savefig(*args, **kwargs)\n    841 def savefig(*args, **kwargs):\n    842     fig = gcf()\n--> 843     res = fig.savefig(*args, **kwargs)\n    844     fig.canvas.draw_idle()   # need this if 'transparent=True' to reset colors\n    845     return res\n\n/opt/anaconda3/envs/pyScattering/lib/python3.7/site-packages/matplotlib/figure.py in savefig(self, fname, transparent, **kwargs)\n   2309                 patch.set_edgecolor('none')\n   2310 \n-> 2311         self.canvas.print_figure(fname, **kwargs)\n   2312 \n   2313         if transparent:\n\n/opt/anaconda3/envs/pyScattering/lib/python3.7/site-packages/matplotlib/backend_bases.py in print_figure(self, filename, dpi, facecolor, edgecolor, orientation, format, bbox_inches, pad_inches, bbox_extra_artists, backend, **kwargs)\n   2215                     orientation=orientation,\n   2216                     bbox_inches_restore=_bbox_inches_restore,\n-> 2217                     **kwargs)\n   2218             finally:\n   2219                 if bbox_inches and restore_bbox:\n\n/opt/anaconda3/envs/pyScattering/lib/python3.7/site-packages/matplotlib/backend_bases.py in wrapper(*args, **kwargs)\n   1637             kwargs.pop(arg)\n   1638 \n-> 1639         return func(*args, **kwargs)\n   1640 \n   1641     return wrapper\n\n/opt/anaconda3/envs/pyScattering/lib/python3.7/site-packages/matplotlib/backends/backend_agg.py in print_png(self, filename_or_obj, metadata, pil_kwargs, *args)\n    507             *metadata*, including the default 'Software' key.\n    508         \"\"\"\n--> 509         FigureCanvasAgg.draw(self)\n    510         mpl.image.imsave(\n    511             filename_or_obj, self.buffer_rgba(), format=\"png\", origin=\"upper\",\n\n/opt/anaconda3/envs/pyScattering/lib/python3.7/site-packages/matplotlib/backends/backend_agg.py in draw(self)\n    405              (self.toolbar._wait_cursor_for_draw_cm() if self.toolbar\n    406               else nullcontext()):\n--> 407             self.figure.draw(self.renderer)\n    408             # A GUI class may be need to update a window using this draw, so\n    409             # don't forget to call the superclass.\n\n/opt/anaconda3/envs/pyScattering/lib/python3.7/site-packages/matplotlib/artist.py in draw_wrapper(artist, renderer, *args, **kwargs)\n     39                 renderer.start_filter()\n     40 \n---> 41             return draw(artist, renderer, *args, **kwargs)\n     42         finally:\n     43             if artist.get_agg_filter() is not None:\n\n/opt/anaconda3/envs/pyScattering/lib/python3.7/site-packages/matplotlib/figure.py in draw(self, renderer)\n   1862             self.patch.draw(renderer)\n   1863             mimage._draw_list_compositing_images(\n-> 1864                 renderer, self, artists, self.suppressComposite)\n   1865 \n   1866             renderer.close_group('figure')\n\n/opt/anaconda3/envs/pyScattering/lib/python3.7/site-packages/matplotlib/image.py in _draw_list_compositing_images(renderer, parent, artists, suppress_composite)\n    129     if not_composite or not has_images:\n    130         for a in artists:\n--> 131             a.draw(renderer)\n    132     else:\n    133         # Composite any adjacent images together\n\n/opt/anaconda3/envs/pyScattering/lib/python3.7/site-packages/matplotlib/artist.py in draw_wrapper(artist, renderer, *args, **kwargs)\n     39                 renderer.start_filter()\n     40 \n---> 41             return draw(artist, renderer, *args, **kwargs)\n     42         finally:\n     43             if artist.get_agg_filter() is not None:\n\n/opt/anaconda3/envs/pyScattering/lib/python3.7/site-packages/matplotlib/cbook/deprecation.py in wrapper(*inner_args, **inner_kwargs)\n    409                          else deprecation_addendum,\n    410                 **kwargs)\n--> 411         return func(*inner_args, **inner_kwargs)\n    412 \n    413     return wrapper\n\n/opt/anaconda3/envs/pyScattering/lib/python3.7/site-packages/matplotlib/axes/_base.py in draw(self, renderer, inframe)\n   2746             renderer.stop_rasterizing()\n   2747 \n-> 2748         mimage._draw_list_compositing_images(renderer, self, artists)\n   2749 \n   2750         renderer.close_group('axes')\n\n/opt/anaconda3/envs/pyScattering/lib/python3.7/site-packages/matplotlib/image.py in _draw_list_compositing_images(renderer, parent, artists, suppress_composite)\n    129     if not_composite or not has_images:\n    130         for a in artists:\n--> 131             a.draw(renderer)\n    132     else:\n    133         # Composite any adjacent images together\n\n/opt/anaconda3/envs/pyScattering/lib/python3.7/site-packages/matplotlib/artist.py in draw_wrapper(artist, renderer, *args, **kwargs)\n     39                 renderer.start_filter()\n     40 \n---> 41             return draw(artist, renderer, *args, **kwargs)\n     42         finally:\n     43             if artist.get_agg_filter() is not None:\n\n/opt/anaconda3/envs/pyScattering/lib/python3.7/site-packages/matplotlib/image.py in draw(self, renderer, *args, **kwargs)\n    636         else:\n    637             im, l, b, trans = self.make_image(\n--> 638                 renderer, renderer.get_image_magnification())\n    639             if im is not None:\n    640                 renderer.draw_image(gc, l, b, im)\n\n/opt/anaconda3/envs/pyScattering/lib/python3.7/site-packages/matplotlib/image.py in make_image(self, renderer, magnification, unsampled)\n    921                 else self.figure.bbox)\n    922         return self._make_image(self._A, bbox, transformed_bbox, clip,\n--> 923                                 magnification, unsampled=unsampled)\n    924 \n    925     def _check_unsampled_image(self):\n\n/opt/anaconda3/envs/pyScattering/lib/python3.7/site-packages/matplotlib/image.py in _make_image(self, A, in_bbox, out_bbox, clip_bbox, magnification, unsampled, round_to_pixel_border)\n    539                                        vmax=vrange[1],\n    540                                        ):\n--> 541                     output = self.norm(resampled_masked)\n    542             else:\n    543                 if A.shape[2] == 3:\n\n/opt/anaconda3/envs/pyScattering/lib/python3.7/site-packages/matplotlib/colors.py in __call__(self, value, clip)\n   1190 \n   1191         self.autoscale_None(result)\n-> 1192         self._check_vmin_vmax()\n   1193         vmin, vmax = self.vmin, self.vmax\n   1194         if vmin == vmax:\n\n/opt/anaconda3/envs/pyScattering/lib/python3.7/site-packages/matplotlib/colors.py in _check_vmin_vmax(self)\n   1179             raise ValueError(\"minvalue must be less than or equal to maxvalue\")\n   1180         elif self.vmin <= 0:\n-> 1181             raise ValueError(\"minvalue must be positive\")\n   1182 \n   1183     def __call__(self, value, clip=None):\n\nValueError: minvalue must be positive\n",
     "output_type": "error",
     "traceback": [
      "\u001b[0;31m--------------------\u001b[0m",
      "\u001b[0;31mPapermillExecutionError\u001b[0mTraceback (most recent call last)",
      "\u001b[0;32m<ipython-input-10-2c2facce0ef1>\u001b[0m in \u001b[0;36m<module>\u001b[0;34m\u001b[0m\n\u001b[1;32m      1\u001b[0m \u001b[0mt0\u001b[0m \u001b[0;34m=\u001b[0m \u001b[0mtime\u001b[0m\u001b[0;34m.\u001b[0m\u001b[0mtime\u001b[0m\u001b[0;34m(\u001b[0m\u001b[0;34m)\u001b[0m\u001b[0;34m\u001b[0m\u001b[0;34m\u001b[0m\u001b[0m\n\u001b[0;32m----> 2\u001b[0;31m \u001b[0m_run_data_reduction_saxs\u001b[0m\u001b[0;34m(\u001b[0m   \u001b[0;34m)\u001b[0m\u001b[0;34m\u001b[0m\u001b[0;34m\u001b[0m\u001b[0m\n\u001b[0m\u001b[1;32m      3\u001b[0m \u001b[0mrun_time\u001b[0m\u001b[0;34m(\u001b[0m \u001b[0mt0\u001b[0m \u001b[0;34m)\u001b[0m\u001b[0;34m\u001b[0m\u001b[0;34m\u001b[0m\u001b[0m\n",
      "\u001b[0;32m<ipython-input-9-610b8a43e2c6>\u001b[0m in \u001b[0;36m_run_data_reduction_saxs\u001b[0;34m(uid_list, template_pipeline)\u001b[0m\n\u001b[1;32m     39\u001b[0m                         \u001b[0mtemplate_pipeline\u001b[0m\u001b[0;34m,\u001b[0m \u001b[0moutput_pipeline\u001b[0m\u001b[0;34m,\u001b[0m\u001b[0;34m\u001b[0m\u001b[0;34m\u001b[0m\u001b[0m\n\u001b[1;32m     40\u001b[0m                         \u001b[0mparameters\u001b[0m \u001b[0;34m=\u001b[0m \u001b[0mdict\u001b[0m\u001b[0;34m(\u001b[0m \u001b[0muid_list\u001b[0m \u001b[0;34m=\u001b[0m \u001b[0muid_list\u001b[0m \u001b[0;34m)\u001b[0m\u001b[0;34m,\u001b[0m\u001b[0;34m\u001b[0m\u001b[0;34m\u001b[0m\u001b[0m\n\u001b[0;32m---> 41\u001b[0;31m                         \u001b[0mkernel_name\u001b[0m\u001b[0;34m=\u001b[0m\u001b[0;34m'python3'\u001b[0m\u001b[0;34m,\u001b[0m \u001b[0mreport_mode\u001b[0m\u001b[0;34m=\u001b[0m\u001b[0;32mFalse\u001b[0m\u001b[0;34m\u001b[0m\u001b[0;34m\u001b[0m\u001b[0m\n\u001b[0m\u001b[1;32m     42\u001b[0m                          ) \n\u001b[1;32m     43\u001b[0m \u001b[0;34m\u001b[0m\u001b[0m\n",
      "\u001b[0;32m/opt/anaconda3/envs/pyScattering/lib/python3.7/site-packages/papermill/execute.py\u001b[0m in \u001b[0;36mexecute_notebook\u001b[0;34m(input_path, output_path, parameters, engine_name, request_save_on_cell_execute, prepare_only, kernel_name, progress_bar, log_output, stdout_file, stderr_file, start_timeout, report_mode, cwd, **engine_kwargs)\u001b[0m\n\u001b[1;32m    106\u001b[0m \u001b[0;34m\u001b[0m\u001b[0m\n\u001b[1;32m    107\u001b[0m             \u001b[0;31m# Check for errors first (it saves on error before raising)\u001b[0m\u001b[0;34m\u001b[0m\u001b[0;34m\u001b[0m\u001b[0;34m\u001b[0m\u001b[0m\n\u001b[0;32m--> 108\u001b[0;31m             \u001b[0mraise_for_execution_errors\u001b[0m\u001b[0;34m(\u001b[0m\u001b[0mnb\u001b[0m\u001b[0;34m,\u001b[0m \u001b[0moutput_path\u001b[0m\u001b[0;34m)\u001b[0m\u001b[0;34m\u001b[0m\u001b[0;34m\u001b[0m\u001b[0m\n\u001b[0m\u001b[1;32m    109\u001b[0m \u001b[0;34m\u001b[0m\u001b[0m\n\u001b[1;32m    110\u001b[0m         \u001b[0;31m# Write final output in case the engine didn't write it on cell completion.\u001b[0m\u001b[0;34m\u001b[0m\u001b[0;34m\u001b[0m\u001b[0;34m\u001b[0m\u001b[0m\n",
      "\u001b[0;32m/opt/anaconda3/envs/pyScattering/lib/python3.7/site-packages/papermill/execute.py\u001b[0m in \u001b[0;36mraise_for_execution_errors\u001b[0;34m(nb, output_path)\u001b[0m\n\u001b[1;32m    190\u001b[0m         \u001b[0mnb\u001b[0m\u001b[0;34m.\u001b[0m\u001b[0mcells\u001b[0m \u001b[0;34m=\u001b[0m \u001b[0;34m[\u001b[0m\u001b[0merror_msg_cell\u001b[0m\u001b[0;34m]\u001b[0m \u001b[0;34m+\u001b[0m \u001b[0mnb\u001b[0m\u001b[0;34m.\u001b[0m\u001b[0mcells\u001b[0m\u001b[0;34m\u001b[0m\u001b[0;34m\u001b[0m\u001b[0m\n\u001b[1;32m    191\u001b[0m         \u001b[0mwrite_ipynb\u001b[0m\u001b[0;34m(\u001b[0m\u001b[0mnb\u001b[0m\u001b[0;34m,\u001b[0m \u001b[0moutput_path\u001b[0m\u001b[0;34m)\u001b[0m\u001b[0;34m\u001b[0m\u001b[0;34m\u001b[0m\u001b[0m\n\u001b[0;32m--> 192\u001b[0;31m         \u001b[0;32mraise\u001b[0m \u001b[0merror\u001b[0m\u001b[0;34m\u001b[0m\u001b[0;34m\u001b[0m\u001b[0m\n\u001b[0m",
      "\u001b[0;31mPapermillExecutionError\u001b[0m: \n---------------------------------------------------------------------------\nException encountered at \"In [18]\":\n--------------------\nValueErrorTraceback (most recent call last)\n~/Software/pyScatt/pyScatt/Pipeline_Funcs.py in <module>\n     34                                            mask= mask, x='Qr', y='Qz', method = 'ai'  )            \n     35             run_save_qimage_saxs(  SC, ki=i  )\n---> 36             run_plot_qimage_saxs(  SC, ki=i  )\n     37 \n     38         #######################################\n\n~/Software/pyScatt/pyScatt/Pipeline_Funcs.py in run_plot_qimage_saxs(SC, ki, zlim, vmin, vmax, fontsize)\n     60     SC.plot_stitched_waxs( img=SC.qimg,x=SC.qx,y=SC.qz, title=title, fontsize=fontsize,\n     61                           vmin= vmin, vmax=vmax,zlim=zlim,\n---> 62                           save=True, outDir= outDir  )  \n     63     _update_dict( SC.saved_plots, key, outDir + title + '.png'  )\n     64 \n\n~/Software/pyScatt/pyScatt/Pipeline_Funcs.py in plot_stitched_waxs(self, img, x, y, title, zlim, vmin, vmax, outDir, figsize, fontsize, save, dpi)\n   1139                       vmin=  vmin, vmax= vmax, zlim=zlim, dpi=dpi,\n   1140                        fontsize=fontsize, xlabel='$q_{par} \\, (\\AA^{-1})$',\n-> 1141                        ylabel='$q_{ver} \\, (\\AA^{-1})$', save=save,outDir=outDir )\n   1142 \n   1143 \n\n~/Software/pyScatt/pyScatt/Pipeline_Funcs.py in plot_img(self, img, fig_ax, x, y, title, zlim, vmin, vmax, xlim, ylim, logs, figsize, fontsize, xlabel, ylabel, mask, aspect, save, cmap, outDir, dpi)\n    818         plt.tight_layout()\n    819         if save:\n--> 820             plt.savefig( outDir + title + '.png', dpi=dpi)\n    821         return fig, ax\n    822 \n\n/opt/anaconda3/envs/pyScattering/lib/python3.7/site-packages/matplotlib/pyplot.py in savefig(*args, **kwargs)\n    841 def savefig(*args, **kwargs):\n    842     fig = gcf()\n--> 843     res = fig.savefig(*args, **kwargs)\n    844     fig.canvas.draw_idle()   # need this if 'transparent=True' to reset colors\n    845     return res\n\n/opt/anaconda3/envs/pyScattering/lib/python3.7/site-packages/matplotlib/figure.py in savefig(self, fname, transparent, **kwargs)\n   2309                 patch.set_edgecolor('none')\n   2310 \n-> 2311         self.canvas.print_figure(fname, **kwargs)\n   2312 \n   2313         if transparent:\n\n/opt/anaconda3/envs/pyScattering/lib/python3.7/site-packages/matplotlib/backend_bases.py in print_figure(self, filename, dpi, facecolor, edgecolor, orientation, format, bbox_inches, pad_inches, bbox_extra_artists, backend, **kwargs)\n   2215                     orientation=orientation,\n   2216                     bbox_inches_restore=_bbox_inches_restore,\n-> 2217                     **kwargs)\n   2218             finally:\n   2219                 if bbox_inches and restore_bbox:\n\n/opt/anaconda3/envs/pyScattering/lib/python3.7/site-packages/matplotlib/backend_bases.py in wrapper(*args, **kwargs)\n   1637             kwargs.pop(arg)\n   1638 \n-> 1639         return func(*args, **kwargs)\n   1640 \n   1641     return wrapper\n\n/opt/anaconda3/envs/pyScattering/lib/python3.7/site-packages/matplotlib/backends/backend_agg.py in print_png(self, filename_or_obj, metadata, pil_kwargs, *args)\n    507             *metadata*, including the default 'Software' key.\n    508         \"\"\"\n--> 509         FigureCanvasAgg.draw(self)\n    510         mpl.image.imsave(\n    511             filename_or_obj, self.buffer_rgba(), format=\"png\", origin=\"upper\",\n\n/opt/anaconda3/envs/pyScattering/lib/python3.7/site-packages/matplotlib/backends/backend_agg.py in draw(self)\n    405              (self.toolbar._wait_cursor_for_draw_cm() if self.toolbar\n    406               else nullcontext()):\n--> 407             self.figure.draw(self.renderer)\n    408             # A GUI class may be need to update a window using this draw, so\n    409             # don't forget to call the superclass.\n\n/opt/anaconda3/envs/pyScattering/lib/python3.7/site-packages/matplotlib/artist.py in draw_wrapper(artist, renderer, *args, **kwargs)\n     39                 renderer.start_filter()\n     40 \n---> 41             return draw(artist, renderer, *args, **kwargs)\n     42         finally:\n     43             if artist.get_agg_filter() is not None:\n\n/opt/anaconda3/envs/pyScattering/lib/python3.7/site-packages/matplotlib/figure.py in draw(self, renderer)\n   1862             self.patch.draw(renderer)\n   1863             mimage._draw_list_compositing_images(\n-> 1864                 renderer, self, artists, self.suppressComposite)\n   1865 \n   1866             renderer.close_group('figure')\n\n/opt/anaconda3/envs/pyScattering/lib/python3.7/site-packages/matplotlib/image.py in _draw_list_compositing_images(renderer, parent, artists, suppress_composite)\n    129     if not_composite or not has_images:\n    130         for a in artists:\n--> 131             a.draw(renderer)\n    132     else:\n    133         # Composite any adjacent images together\n\n/opt/anaconda3/envs/pyScattering/lib/python3.7/site-packages/matplotlib/artist.py in draw_wrapper(artist, renderer, *args, **kwargs)\n     39                 renderer.start_filter()\n     40 \n---> 41             return draw(artist, renderer, *args, **kwargs)\n     42         finally:\n     43             if artist.get_agg_filter() is not None:\n\n/opt/anaconda3/envs/pyScattering/lib/python3.7/site-packages/matplotlib/cbook/deprecation.py in wrapper(*inner_args, **inner_kwargs)\n    409                          else deprecation_addendum,\n    410                 **kwargs)\n--> 411         return func(*inner_args, **inner_kwargs)\n    412 \n    413     return wrapper\n\n/opt/anaconda3/envs/pyScattering/lib/python3.7/site-packages/matplotlib/axes/_base.py in draw(self, renderer, inframe)\n   2746             renderer.stop_rasterizing()\n   2747 \n-> 2748         mimage._draw_list_compositing_images(renderer, self, artists)\n   2749 \n   2750         renderer.close_group('axes')\n\n/opt/anaconda3/envs/pyScattering/lib/python3.7/site-packages/matplotlib/image.py in _draw_list_compositing_images(renderer, parent, artists, suppress_composite)\n    129     if not_composite or not has_images:\n    130         for a in artists:\n--> 131             a.draw(renderer)\n    132     else:\n    133         # Composite any adjacent images together\n\n/opt/anaconda3/envs/pyScattering/lib/python3.7/site-packages/matplotlib/artist.py in draw_wrapper(artist, renderer, *args, **kwargs)\n     39                 renderer.start_filter()\n     40 \n---> 41             return draw(artist, renderer, *args, **kwargs)\n     42         finally:\n     43             if artist.get_agg_filter() is not None:\n\n/opt/anaconda3/envs/pyScattering/lib/python3.7/site-packages/matplotlib/image.py in draw(self, renderer, *args, **kwargs)\n    636         else:\n    637             im, l, b, trans = self.make_image(\n--> 638                 renderer, renderer.get_image_magnification())\n    639             if im is not None:\n    640                 renderer.draw_image(gc, l, b, im)\n\n/opt/anaconda3/envs/pyScattering/lib/python3.7/site-packages/matplotlib/image.py in make_image(self, renderer, magnification, unsampled)\n    921                 else self.figure.bbox)\n    922         return self._make_image(self._A, bbox, transformed_bbox, clip,\n--> 923                                 magnification, unsampled=unsampled)\n    924 \n    925     def _check_unsampled_image(self):\n\n/opt/anaconda3/envs/pyScattering/lib/python3.7/site-packages/matplotlib/image.py in _make_image(self, A, in_bbox, out_bbox, clip_bbox, magnification, unsampled, round_to_pixel_border)\n    539                                        vmax=vrange[1],\n    540                                        ):\n--> 541                     output = self.norm(resampled_masked)\n    542             else:\n    543                 if A.shape[2] == 3:\n\n/opt/anaconda3/envs/pyScattering/lib/python3.7/site-packages/matplotlib/colors.py in __call__(self, value, clip)\n   1190 \n   1191         self.autoscale_None(result)\n-> 1192         self._check_vmin_vmax()\n   1193         vmin, vmax = self.vmin, self.vmax\n   1194         if vmin == vmax:\n\n/opt/anaconda3/envs/pyScattering/lib/python3.7/site-packages/matplotlib/colors.py in _check_vmin_vmax(self)\n   1179             raise ValueError(\"minvalue must be less than or equal to maxvalue\")\n   1180         elif self.vmin <= 0:\n-> 1181             raise ValueError(\"minvalue must be positive\")\n   1182 \n   1183     def __call__(self, value, clip=None):\n\nValueError: minvalue must be positive\n"
     ]
    }
   ],
   "source": [
    "t0 = time.time() \n",
    "_run_data_reduction_saxs(   )    \n",
    "run_time( t0 )"
   ]
  },
  {
   "cell_type": "code",
   "execution_count": null,
   "metadata": {},
   "outputs": [],
   "source": []
  },
  {
   "cell_type": "code",
   "execution_count": null,
   "metadata": {},
   "outputs": [],
   "source": [
    "if F:\n",
    "    t0 = time.time() \n",
    "    _run_data_reduction_waxs(   )    \n",
    "    run_time( t0 )"
   ]
  },
  {
   "cell_type": "code",
   "execution_count": null,
   "metadata": {},
   "outputs": [],
   "source": []
  },
  {
   "cell_type": "code",
   "execution_count": null,
   "metadata": {},
   "outputs": [],
   "source": []
  },
  {
   "cell_type": "code",
   "execution_count": null,
   "metadata": {},
   "outputs": [],
   "source": []
  },
  {
   "cell_type": "code",
   "execution_count": null,
   "metadata": {},
   "outputs": [],
   "source": []
  },
  {
   "cell_type": "code",
   "execution_count": null,
   "metadata": {},
   "outputs": [],
   "source": []
  },
  {
   "cell_type": "code",
   "execution_count": null,
   "metadata": {},
   "outputs": [],
   "source": []
  },
  {
   "cell_type": "markdown",
   "metadata": {},
   "source": [
    "## List all data"
   ]
  },
  {
   "cell_type": "code",
   "execution_count": null,
   "metadata": {
    "scrolled": true
   },
   "outputs": [],
   "source": [
    "uid_list_all = sorted( ls_dir( inDir, have_list=[    '.tiff'   ], exclude_list=[ 'waxs'  ]) )\n",
    "print(len(uid_list_all))\n",
    "uid_list_all"
   ]
  },
  {
   "cell_type": "markdown",
   "metadata": {},
   "source": [
    "## Run the template pipelines for batch data analysis"
   ]
  },
  {
   "cell_type": "markdown",
   "metadata": {},
   "source": [
    "* ## For data reduction"
   ]
  },
  {
   "cell_type": "markdown",
   "metadata": {},
   "source": [
    "* #### Find the interested data"
   ]
  },
  {
   "cell_type": "code",
   "execution_count": null,
   "metadata": {},
   "outputs": [],
   "source": [
    "uid_list1 = sorted( ls_dir( inDir, have_list=[    'F1',  ], exclude_list=['waxs', 'AgBH']) )\n",
    "uid_list2 = sorted( ls_dir( inDir, have_list=[    'F2',  ], exclude_list=['waxs', 'AgBH']) )\n",
    "uid_list3 = sorted( ls_dir( inDir, have_list=[    'f3b' ,], exclude_list=['waxs', 'AgBH']) )\n",
    "uid_list4 = sorted( ls_dir( inDir, have_list=[    '10nmSP' ,], exclude_list=['waxs', 'AgBH']) )\n",
    "uid_list =  list( np.concatenate( [uid_list1,uid_list2,uid_list3, uid_list4   ] ) )\n",
    "\n",
    "#uid_list = uid_list_all\n",
    "\n",
    "print(len(uid_list))"
   ]
  },
  {
   "cell_type": "code",
   "execution_count": null,
   "metadata": {},
   "outputs": [],
   "source": [
    "uid_list"
   ]
  },
  {
   "cell_type": "code",
   "execution_count": null,
   "metadata": {
    "scrolled": true
   },
   "outputs": [],
   "source": [
    "t0 = time.time() \n",
    "_run_data_reduction( uid_list )    \n",
    "run_time( t0 )"
   ]
  },
  {
   "cell_type": "markdown",
   "metadata": {},
   "source": [
    "* ## For Get Sq"
   ]
  },
  {
   "cell_type": "markdown",
   "metadata": {},
   "source": [
    "* #### Find the interested data"
   ]
  },
  {
   "cell_type": "code",
   "execution_count": null,
   "metadata": {},
   "outputs": [],
   "source": [
    "uid_list = sorted( ls_dir( outDir, have_list=[    'h5',  ], exclude_list=['waxs', 'AgBH', 'png', 'test', 'Free',\n",
    "                                                                          't65', 'csv',\n",
    "                                                                          'Form_Factor', 'setup']) )\n",
    "print(len(uid_list))"
   ]
  },
  {
   "cell_type": "code",
   "execution_count": null,
   "metadata": {},
   "outputs": [],
   "source": [
    "uid_list"
   ]
  },
  {
   "cell_type": "code",
   "execution_count": null,
   "metadata": {
    "scrolled": true
   },
   "outputs": [],
   "source": [
    "t0 = time.time() \n",
    "_run_get_Sq( uid_list )   \n",
    "run_time( t0 )"
   ]
  },
  {
   "cell_type": "markdown",
   "metadata": {},
   "source": [
    "# The End"
   ]
  },
  {
   "cell_type": "code",
   "execution_count": null,
   "metadata": {},
   "outputs": [],
   "source": []
  }
 ],
 "metadata": {
  "kernelspec": {
   "display_name": "Python 3",
   "language": "python",
   "name": "python3"
  },
  "language_info": {
   "codemirror_mode": {
    "name": "ipython",
    "version": 3
   },
   "file_extension": ".py",
   "mimetype": "text/x-python",
   "name": "python",
   "nbconvert_exporter": "python",
   "pygments_lexer": "ipython3",
   "version": "3.7.5"
  }
 },
 "nbformat": 4,
 "nbformat_minor": 2
}
