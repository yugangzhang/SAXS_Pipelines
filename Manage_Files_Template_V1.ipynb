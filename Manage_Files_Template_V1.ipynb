{
 "cells": [
  {
   "cell_type": "markdown",
   "metadata": {},
   "source": [
    "# Create list with filenames \n",
    "\n",
    "\n",
    "## Overview\n",
    "\n",
    "* Setup: load packages/setup path\n",
    "* Find the interested dataset for making a list, which can be viewed by pyH5_GUI https://github.com/yugangzhang/pyH5_GUI\n",
    "\n",
    " \n",
    "\n",
    "### DEV\n",
    "* V0: Initialize the pipeline (2019/10/26 by YG yuzhang@bnl.gov)\n",
    "* V1: Using the newly-developed pyScatt package (2019/12 by YG yuzhang@bnl.gov)\n",
    "\n",
    " \n",
    "\n",
    "## TODLIST\n",
    "* 1): Put codes into a package (Done)"
   ]
  },
  {
   "cell_type": "code",
   "execution_count": 1,
   "metadata": {},
   "outputs": [],
   "source": [
    "%matplotlib notebook\n",
    "from pyScatt.packages import *\n",
    "plt.rcParams.update({'figure.max_open_warning': 0})\n",
    "plt.rcParams.update({ 'image.origin': 'lower'   })\n",
    "plt.rcParams.update({ 'image.interpolation': 'none'   })"
   ]
  },
  {
   "cell_type": "markdown",
   "metadata": {},
   "source": [
    "# Setup paths"
   ]
  },
  {
   "cell_type": "code",
   "execution_count": 9,
   "metadata": {},
   "outputs": [],
   "source": [
    "####\n",
    "username = 'yuzhang'\n",
    "\n",
    "\n",
    "inDir = '/home/%s/Test_SAXS/Results/'%username\n",
    "outDir = '/home/%s/Test_SAXS/Results/'%username"
   ]
  },
  {
   "cell_type": "code",
   "execution_count": 10,
   "metadata": {},
   "outputs": [
    {
     "name": "stdout",
     "output_type": "stream",
     "text": [
      "9\n"
     ]
    },
    {
     "data": {
      "text/plain": [
       "['FL_1024Morn_F1_x0.100_y0.150_0.10s_2605949_saxs.tiff.h5',\n",
       " 'FL_1024Morn_F1_x0.100_y0.150_0.10s_2605950_saxs.tiff.h5',\n",
       " 'FL_1024Ngt_10nmSP_Form_Factor_x-0.900_y-0.400_5.00s_2606361_saxs.tiff.h5',\n",
       " 'FL_1026Morn_F2_x0.000_y0.000_1.00s_2607309_saxs.tiff.h5',\n",
       " 'SAXS_setup_pargs_test.h5',\n",
       " 'WAXS_setup_pargs_test.h5',\n",
       " 'f3b03825-edfa-43f3-b333_000001.tiff.h5',\n",
       " 'f3b03825-edfa-43f3-b333_000002.tiff.h5',\n",
       " 'f3b03825-edfa-43f3-b333_000003.tiff.h5']"
      ]
     },
     "execution_count": 10,
     "metadata": {},
     "output_type": "execute_result"
    }
   ],
   "source": [
    "flist_all = sorted(  ls_dir( inDir, have_list=[ 'h5' ], exclude_list=['png', 'h5.', 'h5_']) )\n",
    "print(len(flist_all))\n",
    "flist_all"
   ]
  },
  {
   "cell_type": "markdown",
   "metadata": {},
   "source": [
    "# Find the interested filename list giving patterns and create lst file "
   ]
  },
  {
   "cell_type": "code",
   "execution_count": 12,
   "metadata": {},
   "outputs": [
    {
     "name": "stdout",
     "output_type": "stream",
     "text": [
      "2\n",
      "The file: /home/yuzhang/Test_SAXS/Results/F1.lst is deleted.\n",
      "create new file\n",
      "All the filenames has been dumped to /home/yuzhang/Test_SAXS/Results/F1.lst.\n",
      "You can use pyH5_GUI to visualize all the h5 file.\n",
      "2\n",
      "The file: /home/yuzhang/Test_SAXS/Results/setup.lst is deleted.\n",
      "create new file\n",
      "All the filenames has been dumped to /home/yuzhang/Test_SAXS/Results/setup.lst.\n",
      "You can use pyH5_GUI to visualize all the h5 file.\n",
      "1\n",
      "The file: /home/yuzhang/Test_SAXS/Results/F2.lst is deleted.\n",
      "create new file\n",
      "All the filenames has been dumped to /home/yuzhang/Test_SAXS/Results/F2.lst.\n",
      "You can use pyH5_GUI to visualize all the h5 file.\n",
      "3\n",
      "The file: /home/yuzhang/Test_SAXS/Results/f3b.lst is deleted.\n",
      "create new file\n",
      "All the filenames has been dumped to /home/yuzhang/Test_SAXS/Results/f3b.lst.\n",
      "You can use pyH5_GUI to visualize all the h5 file.\n",
      "1\n",
      "The file: /home/yuzhang/Test_SAXS/Results/Form_Factor.lst is deleted.\n",
      "create new file\n",
      "All the filenames has been dumped to /home/yuzhang/Test_SAXS/Results/Form_Factor.lst.\n",
      "You can use pyH5_GUI to visualize all the h5 file.\n"
     ]
    }
   ],
   "source": [
    "patterns = ['F1', 'setup', 'F2', 'f3b', 'Form_Factor' ]\n",
    "for p in patterns:\n",
    "    output_filename= outDir + p + '.lst'\n",
    "    flist = sorted( ls_dir( inDir, have_list=[ p, 'h5' ], exclude_list=['png', 'h5.', 'h5_']) )\n",
    "    flist_full = [ inDir + fp for fp in flist]\n",
    "    print(len(flist))\n",
    "    #print(flist_full)\n",
    "    if len(flist)==1:\n",
    "        flist_full *= 2  #due to bug in the gui\n",
    "    dump_filenames_to_lst(  flist_full, output_filename, verbose=True, overwrite=True ) \n"
   ]
  },
  {
   "cell_type": "markdown",
   "metadata": {},
   "source": [
    "# The END"
   ]
  }
 ],
 "metadata": {
  "kernelspec": {
   "display_name": "Python 3",
   "language": "python",
   "name": "python3"
  },
  "language_info": {
   "codemirror_mode": {
    "name": "ipython",
    "version": 3
   },
   "file_extension": ".py",
   "mimetype": "text/x-python",
   "name": "python",
   "nbconvert_exporter": "python",
   "pygments_lexer": "ipython3",
   "version": "3.7.0"
  }
 },
 "nbformat": 4,
 "nbformat_minor": 2
}
