{
 "cells": [
  {
   "cell_type": "markdown",
   "metadata": {},
   "source": [
    "# Papermill for running batch data analysis using the template pipelines\n",
    "\n",
    "\n",
    "## Overview\n",
    "\n",
    "* Setup: load packages/setup path\n",
    "* Load calibration h5 file (genreated by calibration pipeline) to load Mask and beamline parameters\n",
    "* Check one data and convert scattering data to q-phi map, q-Iq, ang-Iang\n",
    "* Find the interested dataset and do batch reduction\n",
    "* Produce images (png format)\n",
    "* Export results to a hdf file \n",
    " \n",
    "\n",
    "### DEV\n",
    "* V0: Initialize the pipeline (2019/10/26 by YG yuzhang@bnl.gov)\n",
    "\n",
    "\n",
    " \n",
    "\n",
    "## TODLIST\n",
    "* 1): Put codes into a package"
   ]
  },
  {
   "cell_type": "markdown",
   "metadata": {},
   "source": [
    "# Load package"
   ]
  },
  {
   "cell_type": "code",
   "execution_count": 2,
   "metadata": {},
   "outputs": [],
   "source": [
    "%matplotlib notebook\n",
    "from pyScatt.packages import *\n",
    "plt.rcParams.update({'figure.max_open_warning': 0})\n",
    "plt.rcParams.update({ 'image.origin': 'lower'   })\n",
    "plt.rcParams.update({ 'image.interpolation': 'none'   })"
   ]
  },
  {
   "cell_type": "code",
   "execution_count": 3,
   "metadata": {},
   "outputs": [],
   "source": [
    "%run -i /home/yuzhang/Software/pyScatt/pyScatt/generic_functions.py"
   ]
  },
  {
   "cell_type": "markdown",
   "metadata": {},
   "source": [
    "# Setup paths"
   ]
  },
  {
   "cell_type": "code",
   "execution_count": 4,
   "metadata": {},
   "outputs": [],
   "source": [
    "####\n",
    "username = 'yuzhang'\n",
    "\n",
    "\n",
    "inDir = None\n",
    "outDir = None #'/home/group/NSLSII_Data/SMI/2020_Cycle2/304231_Dinca/Analysis_Results/Yugang/SAXS/ResPipes/'\n",
    "\n",
    "\n",
    "\n",
    "T=True\n",
    "F=False"
   ]
  },
  {
   "cell_type": "code",
   "execution_count": 5,
   "metadata": {},
   "outputs": [
    {
     "name": "stdout",
     "output_type": "stream",
     "text": [
      "2021_02_11_10\n"
     ]
    }
   ],
   "source": [
    "t = get_current_time( pattern = '%Y_%m_%d_%H' )\n",
    "print( t )"
   ]
  },
  {
   "cell_type": "markdown",
   "metadata": {},
   "source": [
    "# Papermill functions"
   ]
  },
  {
   "cell_type": "code",
   "execution_count": 8,
   "metadata": {},
   "outputs": [],
   "source": [
    "path =  '/home/yuzhang/XScattering/2021_1/SMI/Pipelines/Kim/'\n",
    "outDir = path\n",
    "\n",
    "def _run_data_reduction_giwaxs( uid_list=None,          \n",
    "        template_pipeline = path + 'General_Data_Reduction_Template_SMI_GIWAXS_WithStitch_V2.ipynb',                \n",
    "         ):\n",
    "    \n",
    "    ''' YG. Octo 26, 2019, Data reduction for SAXS/WAXS data using SAXS_Data_Reduction_Template_V0 pipeline\n",
    "    Input:\n",
    "        uid_list: list, a list of strings (the uique data id or filename)\n",
    "        template_pipeline: str, the filename of the template pipeline\n",
    "        output_pipeline:str, the filename of the output pipeline\n",
    "    Output:\n",
    "        None\n",
    "    '''     \n",
    "    t = get_current_time( pattern = '%Y_%m_%d_%H' )\n",
    "    output_pipeline = outDir + 'res_pipeline_%s_giwaxs.ipynb'%t\n",
    "    pm.execute_notebook(\n",
    "                        template_pipeline, output_pipeline,         \n",
    "                        parameters = dict( uid_list = uid_list ),\n",
    "                        kernel_name='python3', report_mode=False \n",
    "                         )  \n",
    "    \n",
    "    \n",
    "    \n",
    "def _run_data_reduction_gisaxs( uid_list=None,          \n",
    "        template_pipeline = path + 'General_Data_Reduction_Template_SMI_GISAXS_WithStitch_V2.ipynb',                \n",
    "         ):\n",
    "    \n",
    "    ''' YG. Octo 26, 2019, Data reduction for SAXS/WAXS data using SAXS_Data_Reduction_Template_V0 pipeline\n",
    "    Input:\n",
    "        uid_list: list, a list of strings (the uique data id or filename)\n",
    "        template_pipeline: str, the filename of the template pipeline\n",
    "        output_pipeline:str, the filename of the output pipeline\n",
    "    Output:\n",
    "        None\n",
    "    '''     \n",
    "    t = get_current_time( pattern = '%Y_%m_%d_%H' )\n",
    "    output_pipeline = outDir + 'res_pipeline_%s_waxs.ipynb'%t\n",
    "    pm.execute_notebook(\n",
    "                        template_pipeline, output_pipeline,         \n",
    "                        parameters = dict( uid_list = uid_list ),\n",
    "                        kernel_name='python3', report_mode=False \n",
    "                         ) \n",
    "    \n",
    " \n",
    "    \n",
    "    \n",
    "    \n",
    "def _run_data_reduction_waxs( uid_list=None,          \n",
    "        template_pipeline = path + 'General_Data_Reduction_Template_SMI_WAXS_WithStitch_V2.ipynb',                \n",
    "         ):\n",
    "    \n",
    "    ''' YG. Octo 26, 2019, Data reduction for SAXS/WAXS data using SAXS_Data_Reduction_Template_V0 pipeline\n",
    "    Input:\n",
    "        uid_list: list, a list of strings (the uique data id or filename)\n",
    "        template_pipeline: str, the filename of the template pipeline\n",
    "        output_pipeline:str, the filename of the output pipeline\n",
    "    Output:\n",
    "        None\n",
    "    '''     \n",
    "    t = get_current_time( pattern = '%Y_%m_%d_%H' )\n",
    "    output_pipeline = outDir + 'res_pipeline_%s_waxs.ipynb'%t\n",
    "    pm.execute_notebook(\n",
    "                        template_pipeline, output_pipeline,         \n",
    "                        parameters = dict( uid_list = uid_list ),\n",
    "                        kernel_name='python3', report_mode=False \n",
    "                         )      \n",
    "    \n",
    "def _run_data_reduction_saxs( uid_list=None,          \n",
    "        template_pipeline = path + 'General_Data_Reduction_Template_SMI_SAXS_V2.ipynb',                \n",
    "         ):\n",
    "    \n",
    "    ''' YG. Octo 26, 2019, Data reduction for SAXS/WAXS data using SAXS_Data_Reduction_Template_V0 pipeline\n",
    "    Input:\n",
    "        uid_list: list, a list of strings (the uique data id or filename)\n",
    "        template_pipeline: str, the filename of the template pipeline\n",
    "        output_pipeline:str, the filename of the output pipeline\n",
    "    Output:\n",
    "        None\n",
    "    '''     \n",
    "    t = get_current_time( pattern = '%Y_%m_%d_%H' )\n",
    "    output_pipeline = outDir + 'res_pipeline_%s_saxs.ipynb'%t\n",
    "    pm.execute_notebook(\n",
    "                        template_pipeline, output_pipeline,         \n",
    "                        parameters = dict( uid_list = uid_list ),\n",
    "                        kernel_name='python3', report_mode=False \n",
    "                         ) \n",
    "    \n",
    "    \n",
    "def _run_get_Sq( uid_list,          \n",
    "        template_pipeline = path + 'SAXS_Data_Analysis_SQ_Template_V2.ipynb',                \n",
    "        output_pipeline = outDir + 'test_GetSq.ipynb' ):\n",
    "    \n",
    "    ''' YG. Octo 26, 2019, Data analysis for SAXS/WAXS data using SAXS_Data_Analysis_SQ_Template_V0 pipeline\n",
    "    Input:\n",
    "        uid_list: list, a list of strings (the uique data id or filename)\n",
    "        template_pipeline: str, the filename of the template pipeline\n",
    "        output_pipeline:str, the filename of the output pipeline\n",
    "    Output:\n",
    "        None\n",
    "    '''     \n",
    "    pm.execute_notebook(\n",
    "                        template_pipeline, output_pipeline,         \n",
    "                        parameters = dict( uid_list = uid_list ),\n",
    "                        kernel_name='python3', report_mode=False \n",
    "                         )          \n",
    "    \n",
    "    \n",
    "def _run_data_stitch_waxs( uid_list=None,          \n",
    "        template_pipeline = path + 'General_Data_Reduction_Template_SMI_WAXS_Stitching_V2.ipynb',                \n",
    "         ):\n",
    "    \n",
    "    ''' YG. Octo 26, 2019, Data reduction for SAXS/WAXS data using SAXS_Data_Reduction_Template_V0 pipeline\n",
    "    Input:\n",
    "        uid_list: list, a list of strings (the uique data id or filename)\n",
    "        template_pipeline: str, the filename of the template pipeline\n",
    "        output_pipeline:str, the filename of the output pipeline\n",
    "    Output:\n",
    "        None\n",
    "    '''     \n",
    "    t = get_current_time( pattern = '%Y_%m_%d_%H' )\n",
    "    output_pipeline = outDir + 'res_pipeline_%s_stitch_waxs.ipynb'%t\n",
    "    pm.execute_notebook(\n",
    "                        template_pipeline, output_pipeline,         \n",
    "                        parameters = dict( uid_list = uid_list ),\n",
    "                        kernel_name='python3', report_mode=False \n",
    "                         )     "
   ]
  },
  {
   "cell_type": "code",
   "execution_count": null,
   "metadata": {},
   "outputs": [],
   "source": []
  },
  {
   "cell_type": "code",
   "execution_count": null,
   "metadata": {},
   "outputs": [],
   "source": []
  },
  {
   "cell_type": "markdown",
   "metadata": {},
   "source": [
    "## run the data reduction"
   ]
  },
  {
   "cell_type": "code",
   "execution_count": 9,
   "metadata": {},
   "outputs": [
    {
     "name": "stderr",
     "output_type": "stream",
     "text": [
      "WARNING:papermill:Input notebook does not contain a cell with tag 'parameters'\n"
     ]
    },
    {
     "data": {
      "application/vnd.jupyter.widget-view+json": {
       "model_id": "56edf9e74aac4fd5aac926cbb1097d7b",
       "version_major": 2,
       "version_minor": 0
      },
      "text/plain": [
       "HBox(children=(IntProgress(value=0, description='Executing', max=41, style=ProgressStyle(description_width='in…"
      ]
     },
     "metadata": {},
     "output_type": "display_data"
    },
    {
     "name": "stdout",
     "output_type": "stream",
     "text": [
      "\n",
      "Total time: 16.364 min\n"
     ]
    }
   ],
   "source": [
    "t0 = time.time() \n",
    "_run_data_reduction_gisaxs(   )    \n",
    "run_time( t0 )"
   ]
  },
  {
   "cell_type": "code",
   "execution_count": null,
   "metadata": {},
   "outputs": [],
   "source": []
  },
  {
   "cell_type": "code",
   "execution_count": null,
   "metadata": {},
   "outputs": [],
   "source": []
  },
  {
   "cell_type": "code",
   "execution_count": 7,
   "metadata": {},
   "outputs": [
    {
     "name": "stderr",
     "output_type": "stream",
     "text": [
      "WARNING:papermill:Input notebook does not contain a cell with tag 'parameters'\n"
     ]
    },
    {
     "data": {
      "application/vnd.jupyter.widget-view+json": {
       "model_id": "846b4bdba03c49739708cc8c451e1139",
       "version_major": 2,
       "version_minor": 0
      },
      "text/plain": [
       "HBox(children=(IntProgress(value=0, description='Executing', max=50, style=ProgressStyle(description_width='in…"
      ]
     },
     "metadata": {},
     "output_type": "display_data"
    },
    {
     "name": "stdout",
     "output_type": "stream",
     "text": [
      "\n",
      "Total time: 33.822 min\n"
     ]
    }
   ],
   "source": [
    "t0 = time.time() \n",
    "_run_data_reduction_giwaxs(   )    \n",
    "run_time( t0 )"
   ]
  },
  {
   "cell_type": "code",
   "execution_count": null,
   "metadata": {},
   "outputs": [],
   "source": [
    "t0 = time.time() \n",
    "_run_data_stitch_waxs(   )    \n",
    "run_time( t0 )"
   ]
  },
  {
   "cell_type": "code",
   "execution_count": null,
   "metadata": {},
   "outputs": [],
   "source": [
    "t0 = time.time() \n",
    "_run_data_reduction_waxs(   )    \n",
    "run_time( t0 )"
   ]
  },
  {
   "cell_type": "code",
   "execution_count": null,
   "metadata": {},
   "outputs": [],
   "source": []
  },
  {
   "cell_type": "code",
   "execution_count": null,
   "metadata": {},
   "outputs": [],
   "source": [
    "t0 = time.time() \n",
    "_run_data_reduction_saxs(   )    \n",
    "run_time( t0 )"
   ]
  },
  {
   "cell_type": "code",
   "execution_count": null,
   "metadata": {},
   "outputs": [],
   "source": []
  },
  {
   "cell_type": "code",
   "execution_count": null,
   "metadata": {},
   "outputs": [],
   "source": [
    "if F:\n",
    "    t0 = time.time() \n",
    "    _run_data_reduction_waxs(   )    \n",
    "    run_time( t0 )"
   ]
  },
  {
   "cell_type": "code",
   "execution_count": null,
   "metadata": {},
   "outputs": [],
   "source": []
  },
  {
   "cell_type": "code",
   "execution_count": null,
   "metadata": {},
   "outputs": [],
   "source": []
  },
  {
   "cell_type": "code",
   "execution_count": null,
   "metadata": {},
   "outputs": [],
   "source": []
  },
  {
   "cell_type": "code",
   "execution_count": null,
   "metadata": {},
   "outputs": [],
   "source": []
  },
  {
   "cell_type": "code",
   "execution_count": null,
   "metadata": {},
   "outputs": [],
   "source": []
  },
  {
   "cell_type": "code",
   "execution_count": null,
   "metadata": {},
   "outputs": [],
   "source": []
  },
  {
   "cell_type": "markdown",
   "metadata": {},
   "source": [
    "## List all data"
   ]
  },
  {
   "cell_type": "code",
   "execution_count": null,
   "metadata": {
    "scrolled": true
   },
   "outputs": [],
   "source": [
    "uid_list_all = sorted( ls_dir( inDir, have_list=[    '.tiff'   ], exclude_list=[ 'waxs'  ]) )\n",
    "print(len(uid_list_all))\n",
    "uid_list_all"
   ]
  },
  {
   "cell_type": "markdown",
   "metadata": {},
   "source": [
    "## Run the template pipelines for batch data analysis"
   ]
  },
  {
   "cell_type": "markdown",
   "metadata": {},
   "source": [
    "* ## For data reduction"
   ]
  },
  {
   "cell_type": "markdown",
   "metadata": {},
   "source": [
    "* #### Find the interested data"
   ]
  },
  {
   "cell_type": "code",
   "execution_count": null,
   "metadata": {},
   "outputs": [],
   "source": [
    "uid_list1 = sorted( ls_dir( inDir, have_list=[    'F1',  ], exclude_list=['waxs', 'AgBH']) )\n",
    "uid_list2 = sorted( ls_dir( inDir, have_list=[    'F2',  ], exclude_list=['waxs', 'AgBH']) )\n",
    "uid_list3 = sorted( ls_dir( inDir, have_list=[    'f3b' ,], exclude_list=['waxs', 'AgBH']) )\n",
    "uid_list4 = sorted( ls_dir( inDir, have_list=[    '10nmSP' ,], exclude_list=['waxs', 'AgBH']) )\n",
    "uid_list =  list( np.concatenate( [uid_list1,uid_list2,uid_list3, uid_list4   ] ) )\n",
    "\n",
    "#uid_list = uid_list_all\n",
    "\n",
    "print(len(uid_list))"
   ]
  },
  {
   "cell_type": "code",
   "execution_count": null,
   "metadata": {},
   "outputs": [],
   "source": [
    "uid_list"
   ]
  },
  {
   "cell_type": "code",
   "execution_count": null,
   "metadata": {
    "scrolled": true
   },
   "outputs": [],
   "source": [
    "t0 = time.time() \n",
    "_run_data_reduction( uid_list )    \n",
    "run_time( t0 )"
   ]
  },
  {
   "cell_type": "markdown",
   "metadata": {},
   "source": [
    "* ## For Get Sq"
   ]
  },
  {
   "cell_type": "markdown",
   "metadata": {},
   "source": [
    "* #### Find the interested data"
   ]
  },
  {
   "cell_type": "code",
   "execution_count": null,
   "metadata": {},
   "outputs": [],
   "source": [
    "uid_list = sorted( ls_dir( outDir, have_list=[    'h5',  ], exclude_list=['waxs', 'AgBH', 'png', 'test', 'Free',\n",
    "                                                                          't65', 'csv',\n",
    "                                                                          'Form_Factor', 'setup']) )\n",
    "print(len(uid_list))"
   ]
  },
  {
   "cell_type": "code",
   "execution_count": null,
   "metadata": {},
   "outputs": [],
   "source": [
    "uid_list"
   ]
  },
  {
   "cell_type": "code",
   "execution_count": null,
   "metadata": {
    "scrolled": true
   },
   "outputs": [],
   "source": [
    "t0 = time.time() \n",
    "_run_get_Sq( uid_list )   \n",
    "run_time( t0 )"
   ]
  },
  {
   "cell_type": "markdown",
   "metadata": {},
   "source": [
    "# The End"
   ]
  },
  {
   "cell_type": "code",
   "execution_count": null,
   "metadata": {},
   "outputs": [],
   "source": []
  }
 ],
 "metadata": {
  "kernelspec": {
   "display_name": "Python 3",
   "language": "python",
   "name": "python3"
  },
  "language_info": {
   "codemirror_mode": {
    "name": "ipython",
    "version": 3
   },
   "file_extension": ".py",
   "mimetype": "text/x-python",
   "name": "python",
   "nbconvert_exporter": "python",
   "pygments_lexer": "ipython3",
   "version": "3.7.9"
  }
 },
 "nbformat": 4,
 "nbformat_minor": 2
}
