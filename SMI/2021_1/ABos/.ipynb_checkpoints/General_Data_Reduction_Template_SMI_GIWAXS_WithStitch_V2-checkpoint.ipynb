{
 "cells": [
  {
   "cell_type": "markdown",
   "metadata": {},
   "source": [
    "# Template of  jupyter notebook for analysis of SAXS/WAXS/GiSAXS/GiWAXS"
   ]
  },
  {
   "cell_type": "markdown",
   "metadata": {},
   "source": [
    "## Load package"
   ]
  },
  {
   "cell_type": "code",
   "execution_count": 1,
   "metadata": {},
   "outputs": [
    {
     "name": "stderr",
     "output_type": "stream",
     "text": [
      "WARNING:silx.opencl.common:The module pyOpenCL has been imported but can't be used here\n"
     ]
    }
   ],
   "source": [
    "#%matplotlib notebook\n",
    "%matplotlib inline\n",
    "from pyScatt.packages import *\n",
    "plt.rcParams.update({'figure.max_open_warning': 0})\n",
    "plt.rcParams.update({ 'image.origin': 'lower'   })\n",
    "plt.rcParams.update({ 'image.interpolation': 'none'   })\n",
    "T = True\n",
    "F = False"
   ]
  },
  {
   "cell_type": "markdown",
   "metadata": {},
   "source": [
    "## Define IO"
   ]
  },
  {
   "cell_type": "code",
   "execution_count": 2,
   "metadata": {},
   "outputs": [
    {
     "name": "stdout",
     "output_type": "stream",
     "text": [
      "The input dir is: /home/group/NSLSII_Data/SMI/2021_Cycle1/304841_Kim/300KW/\n"
     ]
    }
   ],
   "source": [
    "inDir =  '/home/group/NSLSII_Data/SMI/2021_Cycle1/304841_Kim/300KW/'\n",
    "#inDir = '/home/yuzhang/NSLSII_Data_Link/SMI/2020_Cycle3/308052_Zhang/raw_data/300KW/'\n",
    "\n",
    "\n",
    "print('The input dir is: %s'%inDir)\n",
    "\n"
   ]
  },
  {
   "cell_type": "code",
   "execution_count": 15,
   "metadata": {},
   "outputs": [
    {
     "name": "stdout",
     "output_type": "stream",
     "text": [
      "Directory  /home/yuzhang/NSLSII_Data_Link/SMI/2021_Cycle1/ABos/  already exists\n",
      "Directory  /home/yuzhang/NSLSII_Data_Link/SMI/2021_Cycle1/ABos/Results/  already exists\n",
      "Directory  /home/yuzhang/NSLSII_Data_Link/SMI/2021_Cycle1/ABos/Results/HDF_Results/  already exists\n",
      "Directory  /home/yuzhang/NSLSII_Data_Link/SMI/2021_Cycle1/ABos/Results/PDF_Report/  already exists\n"
     ]
    }
   ],
   "source": [
    "outDir = '/home/yuzhang/NSLSII_Data_Link/SMI/2021_Cycle1/ABos/'\n",
    "outDir = create_fullpath(  outDir )\n",
    "outDir = '/home/yuzhang/NSLSII_Data_Link/SMI/2021_Cycle1/ABos/Results/'\n",
    "outDir = create_fullpath(  outDir )\n",
    "outDir_HDF =  create_dir(  'HDF_Results/', outDir )\n",
    "outDir_PDF =  create_dir(  'PDF_Report/', outDir )"
   ]
  },
  {
   "cell_type": "markdown",
   "metadata": {},
   "source": [
    "## Organize Data \n",
    "* the sorting method heavly relies on data acquisition strategy\n",
    "* Currently, there is no general method for sorting"
   ]
  },
  {
   "cell_type": "code",
   "execution_count": 16,
   "metadata": {},
   "outputs": [
    {
     "name": "stdout",
     "output_type": "stream",
     "text": [
      "There are 324 files for user: ABos in this run.\n"
     ]
    }
   ],
   "source": [
    "username_ = 'ABos'\n",
    "\n",
    "\n",
    "flist = ls_dir( inDir, and_list=[  username_,  ], no_list=[  ])\n",
    "#_, flists = sort_fnlist( flist,  cut_beg = -24, cut_end=-9, method = 'cut_from_end' ) #for waxs\n",
    "flists = flist\n",
    "\n",
    "#flists_clean = drop_xyz_float_filenames( flists, pattern_characters = ['_x', '_y', '_z', '_w' ] )\n",
    "#flists_clean = drop_xyz_float_filenames( flists, pattern_characters = ['_x', '_w'  ] )\n",
    "flists_clean = flist\n",
    "Nf = len( flists)\n",
    "print('There are %s files for user: %s in this run.'%(Nf, username_))"
   ]
  },
  {
   "cell_type": "code",
   "execution_count": 17,
   "metadata": {},
   "outputs": [
    {
     "data": {
      "text/plain": [
       "(324, 324)"
      ]
     },
     "execution_count": 17,
     "metadata": {},
     "output_type": "execute_result"
    }
   ],
   "source": [
    "# 70 samples * 3 position * 9 waxs angles * 3 inc_ang \n",
    "4*3*9*3,  4*3*9*3"
   ]
  },
  {
   "cell_type": "code",
   "execution_count": 18,
   "metadata": {},
   "outputs": [
    {
     "data": {
      "text/plain": [
       "array(['ABosc_2021C1_Dennis_S3_0.1000deg_waxsP45.50_x-30000.00_expt1s_sid00267814_000001_WAXS.tif',\n",
       "       'ABosc_2021C1_Dennis_S3_0.0800deg_waxsP45.50_x-29500.00_expt1s_sid00267816_000001_WAXS.tif',\n",
       "       'ABosc_2021C1_Dennis_S1_0.0800deg_waxsP19.50_x-50000.00_expt1s_sid00267601_000001_WAXS.tif',\n",
       "       'ABosc_2021C1_Dennis_S3_0.1000deg_waxsP45.50_x-29500.00_expt1s_sid00267817_000001_WAXS.tif',\n",
       "       'ABosc_2021C1_Dennis_S4_0.1000deg_waxsN19.50_x-24000.00_expt1s_sid00267887_000001_WAXS.tif',\n",
       "       'ABosc_2021C1_Dennis_S3_0.1000deg_waxsP19.50_x-30000.00_expt1s_sid00267778_000001_WAXS.tif',\n",
       "       'ABosc_2021C1_Dennis_S2_0.1000deg_waxsN19.50_x-38000.00_expt1s_sid00267714_000001_WAXS.tif',\n",
       "       'ABosc_2021C1_Dennis_S4_0.1000deg_waxsN06.50_x-24500.00_expt1s_sid00267902_000001_WAXS.tif',\n",
       "       'ABosc_2021C1_Dennis_S2_0.1500deg_waxsN32.50_x-39000.00_expt1s_sid00267691_000001_WAXS.tif',\n",
       "       'ABosc_2021C1_Dennis_S1_0.0800deg_waxsP26.00_x-50000.00_expt1s_sid00267610_000001_WAXS.tif',\n",
       "       'ABosc_2021C1_Dennis_S4_0.0800deg_waxsN13.00_x-24500.00_expt1s_sid00267892_000001_WAXS.tif',\n",
       "       'ABosc_2021C1_Dennis_S3_0.1500deg_waxsP13.00_x-30000.00_expt1s_sid00267770_000001_WAXS.tif',\n",
       "       'ABosc_2021C1_Dennis_S1_0.0800deg_waxsP13.00_x-49500.00_expt1s_sid00267595_000001_WAXS.tif',\n",
       "       'ABosc_2021C1_Dennis_S2_0.1000deg_waxsN00.00_x-39000.00_expt1s_sid00267735_000001_WAXS.tif',\n",
       "       'ABosc_2021C1_Dennis_S3_0.0800deg_waxsP13.00_x-29000.00_expt1s_sid00267774_000001_WAXS.tif',\n",
       "       'ABosc_2021C1_Dennis_S3_0.0800deg_waxsP26.00_x-29000.00_expt1s_sid00267792_000001_WAXS.tif',\n",
       "       'ABosc_2021C1_Dennis_S1_0.0800deg_waxsP06.50_x-50000.00_expt1s_sid00267583_000001_WAXS.tif',\n",
       "       'ABosc_2021C1_Dennis_S3_0.1000deg_waxsP45.50_x-29000.00_expt1s_sid00267820_000001_WAXS.tif',\n",
       "       'ABosc_2021C1_Dennis_S3_0.1500deg_waxsP26.00_x-30000.00_expt1s_sid00267788_000001_WAXS.tif',\n",
       "       'ABosc_2021C1_Dennis_S2_0.0800deg_waxsN52.00_x-39000.00_expt1s_sid00267662_000001_WAXS.tif',\n",
       "       'ABosc_2021C1_Dennis_S3_0.1000deg_waxsP19.50_x-29500.00_expt1s_sid00267781_000001_WAXS.tif',\n",
       "       'ABosc_2021C1_Dennis_S3_0.1500deg_waxsP19.50_x-29500.00_expt1s_sid00267782_000001_WAXS.tif',\n",
       "       'ABosc_2021C1_Dennis_S3_0.1000deg_waxsP13.00_x-29000.00_expt1s_sid00267775_000001_WAXS.tif',\n",
       "       'ABosc_2021C1_Dennis_S2_0.0800deg_waxsN32.50_x-39000.00_expt1s_sid00267689_000001_WAXS.tif',\n",
       "       'ABosc_2021C1_Dennis_S4_0.0800deg_waxsN52.00_x-24000.00_expt1s_sid00267841_000001_WAXS.tif',\n",
       "       'ABosc_2021C1_Dennis_S3_0.0800deg_waxsP00.00_x-30000.00_expt1s_sid00267750_000001_WAXS.tif',\n",
       "       'ABosc_2021C1_Dennis_S1_0.1500deg_waxsP13.00_x-50000.00_expt1s_sid00267594_000001_WAXS.tif',\n",
       "       'ABosc_2021C1_Dennis_S1_0.0800deg_waxsP45.50_x-49000.00_expt1s_sid00267643_000001_WAXS.tif',\n",
       "       'ABosc_2021C1_Dennis_S4_0.1500deg_waxsN00.00_x-23500.00_expt1s_sid00267918_000001_WAXS.tif',\n",
       "       'ABosc_2021C1_Dennis_S1_0.0800deg_waxsP06.50_x-49500.00_expt1s_sid00267586_000001_WAXS.tif',\n",
       "       'ABosc_2021C1_Dennis_S1_0.1000deg_waxsP26.00_x-50000.00_expt1s_sid00267611_000001_WAXS.tif',\n",
       "       'ABosc_2021C1_Dennis_S2_0.1000deg_waxsN06.50_x-38500.00_expt1s_sid00267729_000001_WAXS.tif',\n",
       "       'ABosc_2021C1_Dennis_S4_0.1000deg_waxsN32.50_x-23500.00_expt1s_sid00267872_000001_WAXS.tif',\n",
       "       'ABosc_2021C1_Dennis_S1_0.1000deg_waxsP32.50_x-49500.00_expt1s_sid00267623_000001_WAXS.tif',\n",
       "       'ABosc_2021C1_Dennis_S4_0.0800deg_waxsN45.50_x-24500.00_expt1s_sid00267847_000001_WAXS.tif',\n",
       "       'ABosc_2021C1_Dennis_S4_0.0800deg_waxsN06.50_x-24000.00_expt1s_sid00267904_000001_WAXS.tif',\n",
       "       'ABosc_2021C1_Dennis_S1_0.0800deg_waxsP19.50_x-49500.00_expt1s_sid00267604_000001_WAXS.tif',\n",
       "       'ABosc_2021C1_Dennis_S3_0.0800deg_waxsP32.50_x-30000.00_expt1s_sid00267795_000001_WAXS.tif',\n",
       "       'ABosc_2021C1_Dennis_S3_0.1000deg_waxsP26.00_x-29000.00_expt1s_sid00267793_000001_WAXS.tif',\n",
       "       'ABosc_2021C1_Dennis_S1_0.1000deg_waxsP39.00_x-50000.00_expt1s_sid00267629_000001_WAXS.tif',\n",
       "       'ABosc_2021C1_Dennis_S1_0.0800deg_waxsP52.00_x-50000.00_expt1s_sid00267646_000001_WAXS.tif',\n",
       "       'ABosc_2021C1_Dennis_S3_0.0800deg_waxsP13.00_x-29500.00_expt1s_sid00267771_000001_WAXS.tif',\n",
       "       'ABosc_2021C1_Dennis_S1_0.1500deg_waxsP45.50_x-49500.00_expt1s_sid00267642_000001_WAXS.tif',\n",
       "       'ABosc_2021C1_Dennis_S1_0.0800deg_waxsP13.00_x-50000.00_expt1s_sid00267592_000001_WAXS.tif',\n",
       "       'ABosc_2021C1_Dennis_S2_0.1500deg_waxsN39.00_x-38500.00_expt1s_sid00267685_000001_WAXS.tif',\n",
       "       'ABosc_2021C1_Dennis_S4_0.1000deg_waxsN52.00_x-24000.00_expt1s_sid00267842_000001_WAXS.tif',\n",
       "       'ABosc_2021C1_Dennis_S1_0.1500deg_waxsP52.00_x-50000.00_expt1s_sid00267648_000001_WAXS.tif',\n",
       "       'ABosc_2021C1_Dennis_S1_0.0800deg_waxsP39.00_x-49000.00_expt1s_sid00267634_000001_WAXS.tif',\n",
       "       'ABosc_2021C1_Dennis_S3_0.1500deg_waxsP26.00_x-29000.00_expt1s_sid00267794_000001_WAXS.tif',\n",
       "       'ABosc_2021C1_Dennis_S1_0.1500deg_waxsP06.50_x-49500.00_expt1s_sid00267588_000001_WAXS.tif',\n",
       "       'ABosc_2021C1_Dennis_S1_0.1500deg_waxsP00.00_x-49500.00_expt1s_sid00267579_000001_WAXS.tif',\n",
       "       'ABosc_2021C1_Dennis_S1_0.1000deg_waxsP06.50_x-49500.00_expt1s_sid00267587_000001_WAXS.tif',\n",
       "       'ABosc_2021C1_Dennis_S2_0.1000deg_waxsN06.50_x-39000.00_expt1s_sid00267726_000001_WAXS.tif',\n",
       "       'ABosc_2021C1_Dennis_S2_0.1000deg_waxsN52.00_x-39000.00_expt1s_sid00267663_000001_WAXS.tif',\n",
       "       'ABosc_2021C1_Dennis_S4_0.1000deg_waxsN00.00_x-23500.00_expt1s_sid00267917_000001_WAXS.tif',\n",
       "       'ABosc_2021C1_Dennis_S2_0.0800deg_waxsN00.00_x-38500.00_expt1s_sid00267737_000001_WAXS.tif',\n",
       "       'ABosc_2021C1_Dennis_S2_0.0800deg_waxsN06.50_x-39000.00_expt1s_sid00267725_000001_WAXS.tif',\n",
       "       'ABosc_2021C1_Dennis_S3_0.0800deg_waxsP52.00_x-29500.00_expt1s_sid00267825_000001_WAXS.tif',\n",
       "       'ABosc_2021C1_Dennis_S3_0.1500deg_waxsP52.00_x-29000.00_expt1s_sid00267830_000001_WAXS.tif',\n",
       "       'ABosc_2021C1_Dennis_S2_0.1500deg_waxsN13.00_x-38500.00_expt1s_sid00267721_000001_WAXS.tif',\n",
       "       'ABosc_2021C1_Dennis_S2_0.1500deg_waxsN00.00_x-38500.00_expt1s_sid00267739_000001_WAXS.tif',\n",
       "       'ABosc_2021C1_Dennis_S4_0.1000deg_waxsN13.00_x-24500.00_expt1s_sid00267893_000001_WAXS.tif',\n",
       "       'ABosc_2021C1_Dennis_S4_0.0800deg_waxsN06.50_x-24500.00_expt1s_sid00267901_000001_WAXS.tif',\n",
       "       'ABosc_2021C1_Dennis_S2_0.1000deg_waxsN26.00_x-39000.00_expt1s_sid00267699_000001_WAXS.tif',\n",
       "       'ABosc_2021C1_Dennis_S3_0.1000deg_waxsP00.00_x-30000.00_expt1s_sid00267751_000001_WAXS.tif',\n",
       "       'ABosc_2021C1_Dennis_S2_0.0800deg_waxsN32.50_x-38000.00_expt1s_sid00267695_000001_WAXS.tif',\n",
       "       'ABosc_2021C1_Dennis_S2_0.1500deg_waxsN39.00_x-38000.00_expt1s_sid00267688_000001_WAXS.tif',\n",
       "       'ABosc_2021C1_Dennis_S3_0.1500deg_waxsP32.50_x-29000.00_expt1s_sid00267803_000001_WAXS.tif',\n",
       "       'ABosc_2021C1_Dennis_S3_0.0800deg_waxsP26.00_x-29500.00_expt1s_sid00267789_000001_WAXS.tif',\n",
       "       'ABosc_2021C1_Dennis_S2_0.1500deg_waxsN39.00_x-39000.00_expt1s_sid00267682_000001_WAXS.tif',\n",
       "       'ABosc_2021C1_Dennis_S3_0.1000deg_waxsP39.00_x-29000.00_expt1s_sid00267811_000001_WAXS.tif',\n",
       "       'ABosc_2021C1_Dennis_S4_0.1500deg_waxsN13.00_x-23500.00_expt1s_sid00267900_000001_WAXS.tif',\n",
       "       'ABosc_2021C1_Dennis_S1_0.1500deg_waxsP19.50_x-49000.00_expt1s_sid00267609_000001_WAXS.tif',\n",
       "       'ABosc_2021C1_Dennis_S1_0.1500deg_waxsP13.00_x-49000.00_expt1s_sid00267600_000001_WAXS.tif',\n",
       "       'ABosc_2021C1_Dennis_S4_0.0800deg_waxsN06.50_x-23500.00_expt1s_sid00267907_000001_WAXS.tif',\n",
       "       'ABosc_2021C1_Dennis_S4_0.0800deg_waxsN39.00_x-24500.00_expt1s_sid00267856_000001_WAXS.tif',\n",
       "       'ABosc_2021C1_Dennis_S4_0.1500deg_waxsN06.50_x-24000.00_expt1s_sid00267906_000001_WAXS.tif',\n",
       "       'ABosc_2021C1_Dennis_S1_0.0800deg_waxsP39.00_x-49500.00_expt1s_sid00267631_000001_WAXS.tif',\n",
       "       'ABosc_2021C1_Dennis_S3_0.1500deg_waxsP39.00_x-29500.00_expt1s_sid00267809_000001_WAXS.tif',\n",
       "       'ABosc_2021C1_Dennis_S2_0.1500deg_waxsN19.50_x-38500.00_expt1s_sid00267712_000001_WAXS.tif',\n",
       "       'ABosc_2021C1_Dennis_S2_0.1000deg_waxsN45.50_x-38500.00_expt1s_sid00267675_000001_WAXS.tif',\n",
       "       'ABosc_2021C1_Dennis_S2_0.1500deg_waxsN52.00_x-39000.00_expt1s_sid00267664_000001_WAXS.tif',\n",
       "       'ABosc_2021C1_Dennis_S4_0.1000deg_waxsN06.50_x-23500.00_expt1s_sid00267908_000001_WAXS.tif',\n",
       "       'ABosc_2021C1_Dennis_S1_0.1000deg_waxsP19.50_x-49000.00_expt1s_sid00267608_000001_WAXS.tif',\n",
       "       'ABosc_2021C1_Dennis_S3_0.0800deg_waxsP26.00_x-30000.00_expt1s_sid00267786_000001_WAXS.tif',\n",
       "       'ABosc_2021C1_Dennis_S1_0.1000deg_waxsP06.50_x-50000.00_expt1s_sid00267584_000001_WAXS.tif',\n",
       "       'ABosc_2021C1_Dennis_S4_0.0800deg_waxsN39.00_x-23500.00_expt1s_sid00267862_000001_WAXS.tif',\n",
       "       'ABosc_2021C1_Dennis_S4_0.1500deg_waxsN39.00_x-23500.00_expt1s_sid00267864_000001_WAXS.tif',\n",
       "       'ABosc_2021C1_Dennis_S2_0.0800deg_waxsN45.50_x-38000.00_expt1s_sid00267677_000001_WAXS.tif',\n",
       "       'ABosc_2021C1_Dennis_S1_0.1000deg_waxsP00.00_x-49000.00_expt1s_sid00267581_000001_WAXS.tif',\n",
       "       'ABosc_2021C1_Dennis_S4_0.1500deg_waxsN00.00_x-24500.00_expt1s_sid00267912_000001_WAXS.tif',\n",
       "       'ABosc_2021C1_Dennis_S3_0.1000deg_waxsP32.50_x-30000.00_expt1s_sid00267796_000001_WAXS.tif',\n",
       "       'ABosc_2021C1_Dennis_S4_0.1500deg_waxsN52.00_x-24000.00_expt1s_sid00267843_000001_WAXS.tif',\n",
       "       'ABosc_2021C1_Dennis_S1_0.1500deg_waxsP52.00_x-49000.00_expt1s_sid00267654_000001_WAXS.tif',\n",
       "       'ABosc_2021C1_Dennis_S1_0.0800deg_waxsP06.50_x-49000.00_expt1s_sid00267589_000001_WAXS.tif',\n",
       "       'ABosc_2021C1_Dennis_S4_0.1500deg_waxsN45.50_x-24500.00_expt1s_sid00267849_000001_WAXS.tif',\n",
       "       'ABosc_2021C1_Dennis_S2_0.1500deg_waxsN52.00_x-38500.00_expt1s_sid00267667_000001_WAXS.tif',\n",
       "       'ABosc_2021C1_Dennis_S1_0.1000deg_waxsP06.50_x-49000.00_expt1s_sid00267590_000001_WAXS.tif',\n",
       "       'ABosc_2021C1_Dennis_S2_0.1500deg_waxsN06.50_x-38500.00_expt1s_sid00267730_000001_WAXS.tif',\n",
       "       'ABosc_2021C1_Dennis_S3_0.1000deg_waxsP13.00_x-30000.00_expt1s_sid00267769_000001_WAXS.tif',\n",
       "       'ABosc_2021C1_Dennis_S3_0.0800deg_waxsP52.00_x-30000.00_expt1s_sid00267822_000001_WAXS.tif',\n",
       "       'ABosc_2021C1_Dennis_S3_0.1500deg_waxsP00.00_x-29000.00_expt1s_sid00267758_000001_WAXS.tif',\n",
       "       'ABosc_2021C1_Dennis_S1_0.1000deg_waxsP39.00_x-49000.00_expt1s_sid00267635_000001_WAXS.tif',\n",
       "       'ABosc_2021C1_Dennis_S2_0.1000deg_waxsN32.50_x-38000.00_expt1s_sid00267696_000001_WAXS.tif',\n",
       "       'ABosc_2021C1_Dennis_S2_0.0800deg_waxsN13.00_x-38000.00_expt1s_sid00267722_000001_WAXS.tif',\n",
       "       'ABosc_2021C1_Dennis_S3_0.1000deg_waxsP26.00_x-30000.00_expt1s_sid00267787_000001_WAXS.tif',\n",
       "       'ABosc_2021C1_Dennis_S1_0.1500deg_waxsP39.00_x-49000.00_expt1s_sid00267636_000001_WAXS.tif',\n",
       "       'ABosc_2021C1_Dennis_S4_0.0800deg_waxsN52.00_x-23500.00_expt1s_sid00267844_000001_WAXS.tif',\n",
       "       'ABosc_2021C1_Dennis_S3_0.0800deg_waxsP32.50_x-29000.00_expt1s_sid00267801_000001_WAXS.tif',\n",
       "       'ABosc_2021C1_Dennis_S3_0.1500deg_waxsP06.50_x-29000.00_expt1s_sid00267767_000001_WAXS.tif',\n",
       "       'ABosc_2021C1_Dennis_S1_0.0800deg_waxsP00.00_x-49500.00_expt1s_sid00267577_000001_WAXS.tif',\n",
       "       'ABosc_2021C1_Dennis_S4_0.0800deg_waxsN32.50_x-23500.00_expt1s_sid00267871_000001_WAXS.tif',\n",
       "       'ABosc_2021C1_Dennis_S2_0.1000deg_waxsN06.50_x-38000.00_expt1s_sid00267732_000001_WAXS.tif',\n",
       "       'ABosc_2021C1_Dennis_S4_0.0800deg_waxsN26.00_x-24500.00_expt1s_sid00267874_000001_WAXS.tif',\n",
       "       'ABosc_2021C1_Dennis_S2_0.1500deg_waxsN32.50_x-38500.00_expt1s_sid00267694_000001_WAXS.tif',\n",
       "       'ABosc_2021C1_Dennis_S2_0.0800deg_waxsN19.50_x-38500.00_expt1s_sid00267710_000001_WAXS.tif',\n",
       "       'ABosc_2021C1_Dennis_S2_0.1500deg_waxsN45.50_x-39000.00_expt1s_sid00267673_000001_WAXS.tif',\n",
       "       'ABosc_2021C1_Dennis_S4_0.1000deg_waxsN45.50_x-24000.00_expt1s_sid00267851_000001_WAXS.tif',\n",
       "       'ABosc_2021C1_Dennis_S2_0.0800deg_waxsN26.00_x-38500.00_expt1s_sid00267701_000001_WAXS.tif',\n",
       "       'ABosc_2021C1_Dennis_S2_0.1500deg_waxsN52.00_x-38000.00_expt1s_sid00267670_000001_WAXS.tif',\n",
       "       'ABosc_2021C1_Dennis_S1_0.0800deg_waxsP00.00_x-49000.00_expt1s_sid00267580_000001_WAXS.tif',\n",
       "       'ABosc_2021C1_Dennis_S3_0.1000deg_waxsP00.00_x-29000.00_expt1s_sid00267757_000001_WAXS.tif',\n",
       "       'ABosc_2021C1_Dennis_S3_0.1500deg_waxsP26.00_x-29500.00_expt1s_sid00267791_000001_WAXS.tif',\n",
       "       'ABosc_2021C1_Dennis_S1_0.1500deg_waxsP13.00_x-49500.00_expt1s_sid00267597_000001_WAXS.tif',\n",
       "       'ABosc_2021C1_Dennis_S3_0.1000deg_waxsP00.00_x-29500.00_expt1s_sid00267754_000001_WAXS.tif',\n",
       "       'ABosc_2021C1_Dennis_S1_0.1000deg_waxsP45.50_x-49500.00_expt1s_sid00267641_000001_WAXS.tif',\n",
       "       'ABosc_2021C1_Dennis_S4_0.1000deg_waxsN19.50_x-24500.00_expt1s_sid00267884_000001_WAXS.tif',\n",
       "       'ABosc_2021C1_Dennis_S4_0.0800deg_waxsN19.50_x-24500.00_expt1s_sid00267883_000001_WAXS.tif',\n",
       "       'ABosc_2021C1_Dennis_S3_0.0800deg_waxsP52.00_x-29000.00_expt1s_sid00267828_000001_WAXS.tif',\n",
       "       'ABosc_2021C1_Dennis_S3_0.1000deg_waxsP13.00_x-29500.00_expt1s_sid00267772_000001_WAXS.tif',\n",
       "       'ABosc_2021C1_Dennis_S2_0.0800deg_waxsN39.00_x-38000.00_expt1s_sid00267686_000001_WAXS.tif',\n",
       "       'ABosc_2021C1_Dennis_S4_0.1000deg_waxsN39.00_x-23500.00_expt1s_sid00267863_000001_WAXS.tif',\n",
       "       'ABosc_2021C1_Dennis_S2_0.1000deg_waxsN26.00_x-38000.00_expt1s_sid00267705_000001_WAXS.tif',\n",
       "       'ABosc_2021C1_Dennis_S2_0.1500deg_waxsN26.00_x-38000.00_expt1s_sid00267706_000001_WAXS.tif',\n",
       "       'ABosc_2021C1_Dennis_S3_0.1500deg_waxsP52.00_x-30000.00_expt1s_sid00267824_000001_WAXS.tif',\n",
       "       'ABosc_2021C1_Dennis_S2_0.1000deg_waxsN19.50_x-39000.00_expt1s_sid00267708_000001_WAXS.tif',\n",
       "       'ABosc_2021C1_Dennis_S2_0.0800deg_waxsN39.00_x-38500.00_expt1s_sid00267683_000001_WAXS.tif',\n",
       "       'ABosc_2021C1_Dennis_S1_0.1500deg_waxsP00.00_x-50000.00_expt1s_sid00267576_000001_WAXS.tif',\n",
       "       'ABosc_2021C1_Dennis_S3_0.1000deg_waxsP39.00_x-30000.00_expt1s_sid00267805_000001_WAXS.tif',\n",
       "       'ABosc_2021C1_Dennis_S3_0.1000deg_waxsP32.50_x-29500.00_expt1s_sid00267799_000001_WAXS.tif',\n",
       "       'ABosc_2021C1_Dennis_S1_0.1500deg_waxsP06.50_x-50000.00_expt1s_sid00267585_000001_WAXS.tif',\n",
       "       'ABosc_2021C1_Dennis_S4_0.1000deg_waxsN39.00_x-24000.00_expt1s_sid00267860_000001_WAXS.tif',\n",
       "       'ABosc_2021C1_Dennis_S1_0.0800deg_waxsP13.00_x-49000.00_expt1s_sid00267598_000001_WAXS.tif',\n",
       "       'ABosc_2021C1_Dennis_S4_0.1500deg_waxsN19.50_x-23500.00_expt1s_sid00267891_000001_WAXS.tif',\n",
       "       'ABosc_2021C1_Dennis_S4_0.1000deg_waxsN06.50_x-24000.00_expt1s_sid00267905_000001_WAXS.tif',\n",
       "       'ABosc_2021C1_Dennis_S1_0.0800deg_waxsP52.00_x-49500.00_expt1s_sid00267649_000001_WAXS.tif',\n",
       "       'ABosc_2021C1_Dennis_S3_0.0800deg_waxsP19.50_x-29000.00_expt1s_sid00267783_000001_WAXS.tif',\n",
       "       'ABosc_2021C1_Dennis_S4_0.1500deg_waxsN39.00_x-24000.00_expt1s_sid00267861_000001_WAXS.tif',\n",
       "       'ABosc_2021C1_Dennis_S1_0.1500deg_waxsP45.50_x-50000.00_expt1s_sid00267639_000001_WAXS.tif',\n",
       "       'ABosc_2021C1_Dennis_S4_0.1500deg_waxsN19.50_x-24500.00_expt1s_sid00267885_000001_WAXS.tif',\n",
       "       'ABosc_2021C1_Dennis_S4_0.1500deg_waxsN06.50_x-23500.00_expt1s_sid00267909_000001_WAXS.tif',\n",
       "       'ABosc_2021C1_Dennis_S4_0.1000deg_waxsN13.00_x-23500.00_expt1s_sid00267899_000001_WAXS.tif',\n",
       "       'ABosc_2021C1_Dennis_S4_0.1500deg_waxsN32.50_x-24000.00_expt1s_sid00267870_000001_WAXS.tif',\n",
       "       'ABosc_2021C1_Dennis_S3_0.0800deg_waxsP19.50_x-29500.00_expt1s_sid00267780_000001_WAXS.tif',\n",
       "       'ABosc_2021C1_Dennis_S4_0.1000deg_waxsN32.50_x-24500.00_expt1s_sid00267866_000001_WAXS.tif',\n",
       "       'ABosc_2021C1_Dennis_S3_0.1000deg_waxsP06.50_x-30000.00_expt1s_sid00267760_000001_WAXS.tif',\n",
       "       'ABosc_2021C1_Dennis_S1_0.0800deg_waxsP45.50_x-50000.00_expt1s_sid00267637_000001_WAXS.tif',\n",
       "       'ABosc_2021C1_Dennis_S3_0.1500deg_waxsP45.50_x-29500.00_expt1s_sid00267818_000001_WAXS.tif',\n",
       "       'ABosc_2021C1_Dennis_S4_0.1500deg_waxsN52.00_x-24500.00_expt1s_sid00267840_000001_WAXS.tif',\n",
       "       'ABosc_2021C1_Dennis_S3_0.0800deg_waxsP39.00_x-30000.00_expt1s_sid00267804_000001_WAXS.tif',\n",
       "       'ABosc_2021C1_Dennis_S4_0.1500deg_waxsN39.00_x-24500.00_expt1s_sid00267858_000001_WAXS.tif',\n",
       "       'ABosc_2021C1_Dennis_S4_0.0800deg_waxsN45.50_x-24000.00_expt1s_sid00267850_000001_WAXS.tif',\n",
       "       'ABosc_2021C1_Dennis_S2_0.0800deg_waxsN06.50_x-38500.00_expt1s_sid00267728_000001_WAXS.tif',\n",
       "       'ABosc_2021C1_Dennis_S1_0.0800deg_waxsP45.50_x-49500.00_expt1s_sid00267640_000001_WAXS.tif',\n",
       "       'ABosc_2021C1_Dennis_S2_0.1500deg_waxsN32.50_x-38000.00_expt1s_sid00267697_000001_WAXS.tif',\n",
       "       'ABosc_2021C1_Dennis_S3_0.0800deg_waxsP00.00_x-29000.00_expt1s_sid00267756_000001_WAXS.tif',\n",
       "       'ABosc_2021C1_Dennis_S1_0.1000deg_waxsP52.00_x-49000.00_expt1s_sid00267653_000001_WAXS.tif',\n",
       "       'ABosc_2021C1_Dennis_S4_0.1000deg_waxsN00.00_x-24000.00_expt1s_sid00267914_000001_WAXS.tif',\n",
       "       'ABosc_2021C1_Dennis_S3_0.1000deg_waxsP39.00_x-29500.00_expt1s_sid00267808_000001_WAXS.tif',\n",
       "       'ABosc_2021C1_Dennis_S3_0.1000deg_waxsP32.50_x-29000.00_expt1s_sid00267802_000001_WAXS.tif',\n",
       "       'ABosc_2021C1_Dennis_S1_0.1000deg_waxsP39.00_x-49500.00_expt1s_sid00267632_000001_WAXS.tif',\n",
       "       'ABosc_2021C1_Dennis_S3_0.1500deg_waxsP32.50_x-29500.00_expt1s_sid00267800_000001_WAXS.tif',\n",
       "       'ABosc_2021C1_Dennis_S2_0.1000deg_waxsN32.50_x-39000.00_expt1s_sid00267690_000001_WAXS.tif',\n",
       "       'ABosc_2021C1_Dennis_S1_0.0800deg_waxsP00.00_x-50000.00_expt1s_sid00267574_000001_WAXS.tif',\n",
       "       'ABosc_2021C1_Dennis_S3_0.1500deg_waxsP19.50_x-29000.00_expt1s_sid00267785_000001_WAXS.tif',\n",
       "       'ABosc_2021C1_Dennis_S4_0.0800deg_waxsN45.50_x-23500.00_expt1s_sid00267853_000001_WAXS.tif',\n",
       "       'ABosc_2021C1_Dennis_S4_0.1000deg_waxsN45.50_x-23500.00_expt1s_sid00267854_000001_WAXS.tif',\n",
       "       'ABosc_2021C1_Dennis_S2_0.1000deg_waxsN39.00_x-38500.00_expt1s_sid00267684_000001_WAXS.tif',\n",
       "       'ABosc_2021C1_Dennis_S4_0.1500deg_waxsN13.00_x-24000.00_expt1s_sid00267897_000001_WAXS.tif',\n",
       "       'ABosc_2021C1_Dennis_S3_0.1500deg_waxsP00.00_x-29500.00_expt1s_sid00267755_000001_WAXS.tif',\n",
       "       'ABosc_2021C1_Dennis_S4_0.1000deg_waxsN26.00_x-24500.00_expt1s_sid00267875_000001_WAXS.tif',\n",
       "       'ABosc_2021C1_Dennis_S2_0.1000deg_waxsN45.50_x-39000.00_expt1s_sid00267672_000001_WAXS.tif',\n",
       "       'ABosc_2021C1_Dennis_S1_0.1500deg_waxsP26.00_x-50000.00_expt1s_sid00267612_000001_WAXS.tif',\n",
       "       'ABosc_2021C1_Dennis_S2_0.1500deg_waxsN26.00_x-38500.00_expt1s_sid00267703_000001_WAXS.tif',\n",
       "       'ABosc_2021C1_Dennis_S3_0.1000deg_waxsP26.00_x-29500.00_expt1s_sid00267790_000001_WAXS.tif',\n",
       "       'ABosc_2021C1_Dennis_S2_0.1500deg_waxsN19.50_x-38000.00_expt1s_sid00267715_000001_WAXS.tif',\n",
       "       'ABosc_2021C1_Dennis_S1_0.1500deg_waxsP39.00_x-49500.00_expt1s_sid00267633_000001_WAXS.tif',\n",
       "       'ABosc_2021C1_Dennis_S3_0.0800deg_waxsP32.50_x-29500.00_expt1s_sid00267798_000001_WAXS.tif',\n",
       "       'ABosc_2021C1_Dennis_S1_0.0800deg_waxsP26.00_x-49500.00_expt1s_sid00267613_000001_WAXS.tif',\n",
       "       'ABosc_2021C1_Dennis_S2_0.1500deg_waxsN45.50_x-38000.00_expt1s_sid00267679_000001_WAXS.tif',\n",
       "       'ABosc_2021C1_Dennis_S2_0.1000deg_waxsN52.00_x-38500.00_expt1s_sid00267666_000001_WAXS.tif',\n",
       "       'ABosc_2021C1_Dennis_S1_0.1000deg_waxsP45.50_x-50000.00_expt1s_sid00267638_000001_WAXS.tif',\n",
       "       'ABosc_2021C1_Dennis_S2_0.0800deg_waxsN52.00_x-38000.00_expt1s_sid00267668_000001_WAXS.tif',\n",
       "       'ABosc_2021C1_Dennis_S4_0.1500deg_waxsN52.00_x-23500.00_expt1s_sid00267846_000001_WAXS.tif',\n",
       "       'ABosc_2021C1_Dennis_S1_0.1000deg_waxsP32.50_x-49000.00_expt1s_sid00267626_000001_WAXS.tif',\n",
       "       'ABosc_2021C1_Dennis_S3_0.1000deg_waxsP52.00_x-30000.00_expt1s_sid00267823_000001_WAXS.tif',\n",
       "       'ABosc_2021C1_Dennis_S4_0.1500deg_waxsN06.50_x-24500.00_expt1s_sid00267903_000001_WAXS.tif',\n",
       "       'ABosc_2021C1_Dennis_S4_0.0800deg_waxsN19.50_x-24000.00_expt1s_sid00267886_000001_WAXS.tif',\n",
       "       'ABosc_2021C1_Dennis_S3_0.1500deg_waxsP06.50_x-30000.00_expt1s_sid00267761_000001_WAXS.tif',\n",
       "       'ABosc_2021C1_Dennis_S1_0.1500deg_waxsP32.50_x-50000.00_expt1s_sid00267621_000001_WAXS.tif',\n",
       "       'ABosc_2021C1_Dennis_S4_0.1500deg_waxsN26.00_x-23500.00_expt1s_sid00267882_000001_WAXS.tif',\n",
       "       'ABosc_2021C1_Dennis_S1_0.1000deg_waxsP52.00_x-50000.00_expt1s_sid00267647_000001_WAXS.tif',\n",
       "       'ABosc_2021C1_Dennis_S2_0.1500deg_waxsN45.50_x-38500.00_expt1s_sid00267676_000001_WAXS.tif',\n",
       "       'ABosc_2021C1_Dennis_S1_0.1000deg_waxsP26.00_x-49500.00_expt1s_sid00267614_000001_WAXS.tif',\n",
       "       'ABosc_2021C1_Dennis_S4_0.0800deg_waxsN32.50_x-24000.00_expt1s_sid00267868_000001_WAXS.tif',\n",
       "       'ABosc_2021C1_Dennis_S1_0.0800deg_waxsP19.50_x-49000.00_expt1s_sid00267607_000001_WAXS.tif',\n",
       "       'ABosc_2021C1_Dennis_S2_0.0800deg_waxsN13.00_x-39000.00_expt1s_sid00267716_000001_WAXS.tif',\n",
       "       'ABosc_2021C1_Dennis_S4_0.0800deg_waxsN39.00_x-24000.00_expt1s_sid00267859_000001_WAXS.tif',\n",
       "       'ABosc_2021C1_Dennis_S2_0.1000deg_waxsN00.00_x-38500.00_expt1s_sid00267738_000001_WAXS.tif',\n",
       "       'ABosc_2021C1_Dennis_S1_0.1500deg_waxsP32.50_x-49500.00_expt1s_sid00267624_000001_WAXS.tif',\n",
       "       'ABosc_2021C1_Dennis_S1_0.1500deg_waxsP32.50_x-49000.00_expt1s_sid00267627_000001_WAXS.tif',\n",
       "       'ABosc_2021C1_Dennis_S2_0.1000deg_waxsN19.50_x-38500.00_expt1s_sid00267711_000001_WAXS.tif',\n",
       "       'ABosc_2021C1_Dennis_S2_0.0800deg_waxsN45.50_x-39000.00_expt1s_sid00267671_000001_WAXS.tif',\n",
       "       'ABosc_2021C1_Dennis_S1_0.1000deg_waxsP52.00_x-49500.00_expt1s_sid00267650_000001_WAXS.tif',\n",
       "       'ABosc_2021C1_Dennis_S2_0.1500deg_waxsN00.00_x-39000.00_expt1s_sid00267736_000001_WAXS.tif',\n",
       "       'ABosc_2021C1_Dennis_S1_0.1500deg_waxsP00.00_x-49000.00_expt1s_sid00267582_000001_WAXS.tif',\n",
       "       'ABosc_2021C1_Dennis_S2_0.1000deg_waxsN45.50_x-38000.00_expt1s_sid00267678_000001_WAXS.tif',\n",
       "       'ABosc_2021C1_Dennis_S1_0.1500deg_waxsP06.50_x-49000.00_expt1s_sid00267591_000001_WAXS.tif',\n",
       "       'ABosc_2021C1_Dennis_S4_0.1500deg_waxsN45.50_x-24000.00_expt1s_sid00267852_000001_WAXS.tif',\n",
       "       'ABosc_2021C1_Dennis_S2_0.0800deg_waxsN06.50_x-38000.00_expt1s_sid00267731_000001_WAXS.tif',\n",
       "       'ABosc_2021C1_Dennis_S2_0.1000deg_waxsN13.00_x-38500.00_expt1s_sid00267720_000001_WAXS.tif',\n",
       "       'ABosc_2021C1_Dennis_S3_0.0800deg_waxsP39.00_x-29000.00_expt1s_sid00267810_000001_WAXS.tif',\n",
       "       'ABosc_2021C1_Dennis_S2_0.1500deg_waxsN13.00_x-38000.00_expt1s_sid00267724_000001_WAXS.tif',\n",
       "       'ABosc_2021C1_Dennis_S2_0.1500deg_waxsN00.00_x-38000.00_expt1s_sid00267742_000001_WAXS.tif',\n",
       "       'ABosc_2021C1_Dennis_S1_0.1500deg_waxsP45.50_x-49000.00_expt1s_sid00267645_000001_WAXS.tif',\n",
       "       'ABosc_2021C1_Dennis_S4_0.0800deg_waxsN00.00_x-23500.00_expt1s_sid00267916_000001_WAXS.tif',\n",
       "       'ABosc_2021C1_Dennis_S2_0.0800deg_waxsN13.00_x-38500.00_expt1s_sid00267719_000001_WAXS.tif',\n",
       "       'ABosc_2021C1_Dennis_S2_0.1000deg_waxsN13.00_x-39000.00_expt1s_sid00267717_000001_WAXS.tif',\n",
       "       'ABosc_2021C1_Dennis_S2_0.1500deg_waxsN06.50_x-39000.00_expt1s_sid00267727_000001_WAXS.tif',\n",
       "       'ABosc_2021C1_Dennis_S4_0.1500deg_waxsN32.50_x-23500.00_expt1s_sid00267873_000001_WAXS.tif',\n",
       "       'ABosc_2021C1_Dennis_S4_0.0800deg_waxsN00.00_x-24000.00_expt1s_sid00267913_000001_WAXS.tif',\n",
       "       'ABosc_2021C1_Dennis_S3_0.1000deg_waxsP06.50_x-29500.00_expt1s_sid00267763_000001_WAXS.tif',\n",
       "       'ABosc_2021C1_Dennis_S4_0.1000deg_waxsN52.00_x-23500.00_expt1s_sid00267845_000001_WAXS.tif',\n",
       "       'ABosc_2021C1_Dennis_S1_0.1000deg_waxsP19.50_x-49500.00_expt1s_sid00267605_000001_WAXS.tif',\n",
       "       'ABosc_2021C1_Dennis_S3_0.0800deg_waxsP39.00_x-29500.00_expt1s_sid00267807_000001_WAXS.tif',\n",
       "       'ABosc_2021C1_Dennis_S2_0.0800deg_waxsN19.50_x-39000.00_expt1s_sid00267707_000001_WAXS.tif',\n",
       "       'ABosc_2021C1_Dennis_S4_0.1500deg_waxsN45.50_x-23500.00_expt1s_sid00267855_000001_WAXS.tif',\n",
       "       'ABosc_2021C1_Dennis_S4_0.1500deg_waxsN13.00_x-24500.00_expt1s_sid00267894_000001_WAXS.tif',\n",
       "       'ABosc_2021C1_Dennis_S1_0.0800deg_waxsP52.00_x-49000.00_expt1s_sid00267652_000001_WAXS.tif',\n",
       "       'ABosc_2021C1_Dennis_S4_0.1000deg_waxsN26.00_x-23500.00_expt1s_sid00267881_000001_WAXS.tif',\n",
       "       'ABosc_2021C1_Dennis_S2_0.0800deg_waxsN32.50_x-38500.00_expt1s_sid00267692_000001_WAXS.tif',\n",
       "       'ABosc_2021C1_Dennis_S2_0.0800deg_waxsN26.00_x-38000.00_expt1s_sid00267704_000001_WAXS.tif',\n",
       "       'ABosc_2021C1_Dennis_S4_0.1500deg_waxsN00.00_x-24000.00_expt1s_sid00267915_000001_WAXS.tif',\n",
       "       'ABosc_2021C1_Dennis_S3_0.0800deg_waxsP00.00_x-29500.00_expt1s_sid00267753_000001_WAXS.tif',\n",
       "       'ABosc_2021C1_Dennis_S1_0.1000deg_waxsP13.00_x-49500.00_expt1s_sid00267596_000001_WAXS.tif',\n",
       "       'ABosc_2021C1_Dennis_S1_0.0800deg_waxsP32.50_x-49000.00_expt1s_sid00267625_000001_WAXS.tif',\n",
       "       'ABosc_2021C1_Dennis_S3_0.1500deg_waxsP13.00_x-29500.00_expt1s_sid00267773_000001_WAXS.tif',\n",
       "       'ABosc_2021C1_Dennis_S3_0.0800deg_waxsP06.50_x-29500.00_expt1s_sid00267762_000001_WAXS.tif',\n",
       "       'ABosc_2021C1_Dennis_S2_0.1000deg_waxsN39.00_x-39000.00_expt1s_sid00267681_000001_WAXS.tif',\n",
       "       'ABosc_2021C1_Dennis_S2_0.1000deg_waxsN13.00_x-38000.00_expt1s_sid00267723_000001_WAXS.tif',\n",
       "       'ABosc_2021C1_Dennis_S3_0.1000deg_waxsP52.00_x-29500.00_expt1s_sid00267826_000001_WAXS.tif',\n",
       "       'ABosc_2021C1_Dennis_S4_0.1000deg_waxsN32.50_x-24000.00_expt1s_sid00267869_000001_WAXS.tif',\n",
       "       'ABosc_2021C1_Dennis_S3_0.1500deg_waxsP45.50_x-30000.00_expt1s_sid00267815_000001_WAXS.tif',\n",
       "       'ABosc_2021C1_Dennis_S4_0.0800deg_waxsN19.50_x-23500.00_expt1s_sid00267889_000001_WAXS.tif',\n",
       "       'ABosc_2021C1_Dennis_S4_0.1000deg_waxsN13.00_x-24000.00_expt1s_sid00267896_000001_WAXS.tif',\n",
       "       'ABosc_2021C1_Dennis_S1_0.1500deg_waxsP52.00_x-49500.00_expt1s_sid00267651_000001_WAXS.tif',\n",
       "       'ABosc_2021C1_Dennis_S4_0.0800deg_waxsN00.00_x-24500.00_expt1s_sid00267910_000001_WAXS.tif',\n",
       "       'ABosc_2021C1_Dennis_S2_0.1500deg_waxsN19.50_x-39000.00_expt1s_sid00267709_000001_WAXS.tif',\n",
       "       'ABosc_2021C1_Dennis_S3_0.1500deg_waxsP45.50_x-29000.00_expt1s_sid00267821_000001_WAXS.tif',\n",
       "       'ABosc_2021C1_Dennis_S4_0.0800deg_waxsN13.00_x-23500.00_expt1s_sid00267898_000001_WAXS.tif',\n",
       "       'ABosc_2021C1_Dennis_S3_0.1000deg_waxsP19.50_x-29000.00_expt1s_sid00267784_000001_WAXS.tif',\n",
       "       'ABosc_2021C1_Dennis_S3_0.1500deg_waxsP13.00_x-29000.00_expt1s_sid00267776_000001_WAXS.tif',\n",
       "       'ABosc_2021C1_Dennis_S3_0.1500deg_waxsP00.00_x-30000.00_expt1s_sid00267752_000001_WAXS.tif',\n",
       "       'ABosc_2021C1_Dennis_S2_0.1000deg_waxsN26.00_x-38500.00_expt1s_sid00267702_000001_WAXS.tif',\n",
       "       'ABosc_2021C1_Dennis_S3_0.0800deg_waxsP19.50_x-30000.00_expt1s_sid00267777_000001_WAXS.tif',\n",
       "       'ABosc_2021C1_Dennis_S2_0.1000deg_waxsN52.00_x-38000.00_expt1s_sid00267669_000001_WAXS.tif',\n",
       "       'ABosc_2021C1_Dennis_S1_0.1000deg_waxsP26.00_x-49000.00_expt1s_sid00267617_000001_WAXS.tif',\n",
       "       'ABosc_2021C1_Dennis_S3_0.0800deg_waxsP06.50_x-30000.00_expt1s_sid00267759_000001_WAXS.tif',\n",
       "       'ABosc_2021C1_Dennis_S1_0.1500deg_waxsP39.00_x-50000.00_expt1s_sid00267630_000001_WAXS.tif',\n",
       "       'ABosc_2021C1_Dennis_S4_0.0800deg_waxsN52.00_x-24500.00_expt1s_sid00267838_000001_WAXS.tif',\n",
       "       'ABosc_2021C1_Dennis_S3_0.0800deg_waxsP45.50_x-30000.00_expt1s_sid00267813_000001_WAXS.tif',\n",
       "       'ABosc_2021C1_Dennis_S2_0.0800deg_waxsN26.00_x-39000.00_expt1s_sid00267698_000001_WAXS.tif',\n",
       "       'ABosc_2021C1_Dennis_S1_0.1000deg_waxsP13.00_x-49000.00_expt1s_sid00267599_000001_WAXS.tif',\n",
       "       'ABosc_2021C1_Dennis_S2_0.0800deg_waxsN45.50_x-38500.00_expt1s_sid00267674_000001_WAXS.tif',\n",
       "       'ABosc_2021C1_Dennis_S1_0.0800deg_waxsP32.50_x-49500.00_expt1s_sid00267622_000001_WAXS.tif',\n",
       "       'ABosc_2021C1_Dennis_S3_0.0800deg_waxsP13.00_x-30000.00_expt1s_sid00267768_000001_WAXS.tif',\n",
       "       'ABosc_2021C1_Dennis_S2_0.0800deg_waxsN00.00_x-38000.00_expt1s_sid00267740_000001_WAXS.tif',\n",
       "       'ABosc_2021C1_Dennis_S2_0.0800deg_waxsN19.50_x-38000.00_expt1s_sid00267713_000001_WAXS.tif',\n",
       "       'ABosc_2021C1_Dennis_S2_0.1000deg_waxsN32.50_x-38500.00_expt1s_sid00267693_000001_WAXS.tif',\n",
       "       'ABosc_2021C1_Dennis_S2_0.0800deg_waxsN52.00_x-38500.00_expt1s_sid00267665_000001_WAXS.tif',\n",
       "       'ABosc_2021C1_Dennis_S1_0.0800deg_waxsP39.00_x-50000.00_expt1s_sid00267628_000001_WAXS.tif',\n",
       "       'ABosc_2021C1_Dennis_S3_0.1500deg_waxsP32.50_x-30000.00_expt1s_sid00267797_000001_WAXS.tif',\n",
       "       'ABosc_2021C1_Dennis_S1_0.0800deg_waxsP26.00_x-49000.00_expt1s_sid00267616_000001_WAXS.tif',\n",
       "       'ABosc_2021C1_Dennis_S3_0.0800deg_waxsP45.50_x-29000.00_expt1s_sid00267819_000001_WAXS.tif',\n",
       "       'ABosc_2021C1_Dennis_S4_0.1500deg_waxsN26.00_x-24500.00_expt1s_sid00267876_000001_WAXS.tif',\n",
       "       'ABosc_2021C1_Dennis_S2_0.1500deg_waxsN13.00_x-39000.00_expt1s_sid00267718_000001_WAXS.tif',\n",
       "       'ABosc_2021C1_Dennis_S4_0.0800deg_waxsN13.00_x-24000.00_expt1s_sid00267895_000001_WAXS.tif',\n",
       "       'ABosc_2021C1_Dennis_S4_0.0800deg_waxsN26.00_x-24000.00_expt1s_sid00267877_000001_WAXS.tif',\n",
       "       'ABosc_2021C1_Dennis_S2_0.0800deg_waxsN00.00_x-39000.00_expt1s_sid00267734_000001_WAXS.tif',\n",
       "       'ABosc_2021C1_Dennis_S1_0.1000deg_waxsP19.50_x-50000.00_expt1s_sid00267602_000001_WAXS.tif',\n",
       "       'ABosc_2021C1_Dennis_S1_0.1000deg_waxsP00.00_x-50000.00_expt1s_sid00267575_000001_WAXS.tif',\n",
       "       'ABosc_2021C1_Dennis_S3_0.0800deg_waxsP06.50_x-29000.00_expt1s_sid00267765_000001_WAXS.tif',\n",
       "       'ABosc_2021C1_Dennis_S4_0.1000deg_waxsN45.50_x-24500.00_expt1s_sid00267848_000001_WAXS.tif',\n",
       "       'ABosc_2021C1_Dennis_S1_0.0800deg_waxsP32.50_x-50000.00_expt1s_sid00267619_000001_WAXS.tif',\n",
       "       'ABosc_2021C1_Dennis_S2_0.0800deg_waxsN39.00_x-39000.00_expt1s_sid00267680_000001_WAXS.tif',\n",
       "       'ABosc_2021C1_Dennis_S2_0.1500deg_waxsN26.00_x-39000.00_expt1s_sid00267700_000001_WAXS.tif',\n",
       "       'ABosc_2021C1_Dennis_S4_0.1000deg_waxsN39.00_x-24500.00_expt1s_sid00267857_000001_WAXS.tif',\n",
       "       'ABosc_2021C1_Dennis_S4_0.1500deg_waxsN26.00_x-24000.00_expt1s_sid00267879_000001_WAXS.tif',\n",
       "       'ABosc_2021C1_Dennis_S3_0.1500deg_waxsP39.00_x-30000.00_expt1s_sid00267806_000001_WAXS.tif',\n",
       "       'ABosc_2021C1_Dennis_S1_0.1000deg_waxsP45.50_x-49000.00_expt1s_sid00267644_000001_WAXS.tif',\n",
       "       'ABosc_2021C1_Dennis_S4_0.1000deg_waxsN19.50_x-23500.00_expt1s_sid00267890_000001_WAXS.tif',\n",
       "       'ABosc_2021C1_Dennis_S4_0.0800deg_waxsN32.50_x-24500.00_expt1s_sid00267865_000001_WAXS.tif',\n",
       "       'ABosc_2021C1_Dennis_S3_0.1000deg_waxsP52.00_x-29000.00_expt1s_sid00267829_000001_WAXS.tif',\n",
       "       'ABosc_2021C1_Dennis_S3_0.1500deg_waxsP19.50_x-30000.00_expt1s_sid00267779_000001_WAXS.tif',\n",
       "       'ABosc_2021C1_Dennis_S1_0.1500deg_waxsP19.50_x-50000.00_expt1s_sid00267603_000001_WAXS.tif',\n",
       "       'ABosc_2021C1_Dennis_S1_0.1000deg_waxsP32.50_x-50000.00_expt1s_sid00267620_000001_WAXS.tif',\n",
       "       'ABosc_2021C1_Dennis_S4_0.1500deg_waxsN32.50_x-24500.00_expt1s_sid00267867_000001_WAXS.tif',\n",
       "       'ABosc_2021C1_Dennis_S4_0.1500deg_waxsN19.50_x-24000.00_expt1s_sid00267888_000001_WAXS.tif',\n",
       "       'ABosc_2021C1_Dennis_S1_0.1500deg_waxsP19.50_x-49500.00_expt1s_sid00267606_000001_WAXS.tif',\n",
       "       'ABosc_2021C1_Dennis_S3_0.1500deg_waxsP52.00_x-29500.00_expt1s_sid00267827_000001_WAXS.tif',\n",
       "       'ABosc_2021C1_Dennis_S1_0.1500deg_waxsP26.00_x-49000.00_expt1s_sid00267618_000001_WAXS.tif',\n",
       "       'ABosc_2021C1_Dennis_S2_0.1500deg_waxsN06.50_x-38000.00_expt1s_sid00267733_000001_WAXS.tif',\n",
       "       'ABosc_2021C1_Dennis_S4_0.1000deg_waxsN52.00_x-24500.00_expt1s_sid00267839_000001_WAXS.tif',\n",
       "       'ABosc_2021C1_Dennis_S4_0.1000deg_waxsN00.00_x-24500.00_expt1s_sid00267911_000001_WAXS.tif',\n",
       "       'ABosc_2021C1_Dennis_S1_0.1000deg_waxsP00.00_x-49500.00_expt1s_sid00267578_000001_WAXS.tif',\n",
       "       'ABosc_2021C1_Dennis_S3_0.1000deg_waxsP06.50_x-29000.00_expt1s_sid00267766_000001_WAXS.tif',\n",
       "       'ABosc_2021C1_Dennis_S3_0.1500deg_waxsP39.00_x-29000.00_expt1s_sid00267812_000001_WAXS.tif',\n",
       "       'ABosc_2021C1_Dennis_S1_0.1500deg_waxsP26.00_x-49500.00_expt1s_sid00267615_000001_WAXS.tif',\n",
       "       'ABosc_2021C1_Dennis_S4_0.0800deg_waxsN26.00_x-23500.00_expt1s_sid00267880_000001_WAXS.tif',\n",
       "       'ABosc_2021C1_Dennis_S1_0.1000deg_waxsP13.00_x-50000.00_expt1s_sid00267593_000001_WAXS.tif',\n",
       "       'ABosc_2021C1_Dennis_S2_0.1000deg_waxsN39.00_x-38000.00_expt1s_sid00267687_000001_WAXS.tif',\n",
       "       'ABosc_2021C1_Dennis_S3_0.1500deg_waxsP06.50_x-29500.00_expt1s_sid00267764_000001_WAXS.tif',\n",
       "       'ABosc_2021C1_Dennis_S4_0.1000deg_waxsN26.00_x-24000.00_expt1s_sid00267878_000001_WAXS.tif',\n",
       "       'ABosc_2021C1_Dennis_S2_0.1000deg_waxsN00.00_x-38000.00_expt1s_sid00267741_000001_WAXS.tif'],\n",
       "      dtype='<U89')"
      ]
     },
     "execution_count": 18,
     "metadata": {},
     "output_type": "execute_result"
    }
   ],
   "source": [
    "flist"
   ]
  },
  {
   "cell_type": "code",
   "execution_count": 19,
   "metadata": {},
   "outputs": [
    {
     "data": {
      "text/plain": [
       "array(['ABosc_2021C1_Dennis_S3_0.1000deg_waxsP45.50_x-30000.00_expt1s_sid00267814_000001_WAXS.tif',\n",
       "       'ABosc_2021C1_Dennis_S3_0.0800deg_waxsP45.50_x-29500.00_expt1s_sid00267816_000001_WAXS.tif',\n",
       "       'ABosc_2021C1_Dennis_S1_0.0800deg_waxsP19.50_x-50000.00_expt1s_sid00267601_000001_WAXS.tif',\n",
       "       'ABosc_2021C1_Dennis_S3_0.1000deg_waxsP45.50_x-29500.00_expt1s_sid00267817_000001_WAXS.tif',\n",
       "       'ABosc_2021C1_Dennis_S4_0.1000deg_waxsN19.50_x-24000.00_expt1s_sid00267887_000001_WAXS.tif',\n",
       "       'ABosc_2021C1_Dennis_S3_0.1000deg_waxsP19.50_x-30000.00_expt1s_sid00267778_000001_WAXS.tif',\n",
       "       'ABosc_2021C1_Dennis_S2_0.1000deg_waxsN19.50_x-38000.00_expt1s_sid00267714_000001_WAXS.tif',\n",
       "       'ABosc_2021C1_Dennis_S4_0.1000deg_waxsN06.50_x-24500.00_expt1s_sid00267902_000001_WAXS.tif',\n",
       "       'ABosc_2021C1_Dennis_S2_0.1500deg_waxsN32.50_x-39000.00_expt1s_sid00267691_000001_WAXS.tif',\n",
       "       'ABosc_2021C1_Dennis_S1_0.0800deg_waxsP26.00_x-50000.00_expt1s_sid00267610_000001_WAXS.tif',\n",
       "       'ABosc_2021C1_Dennis_S4_0.0800deg_waxsN13.00_x-24500.00_expt1s_sid00267892_000001_WAXS.tif',\n",
       "       'ABosc_2021C1_Dennis_S3_0.1500deg_waxsP13.00_x-30000.00_expt1s_sid00267770_000001_WAXS.tif',\n",
       "       'ABosc_2021C1_Dennis_S1_0.0800deg_waxsP13.00_x-49500.00_expt1s_sid00267595_000001_WAXS.tif',\n",
       "       'ABosc_2021C1_Dennis_S2_0.1000deg_waxsN00.00_x-39000.00_expt1s_sid00267735_000001_WAXS.tif',\n",
       "       'ABosc_2021C1_Dennis_S3_0.0800deg_waxsP13.00_x-29000.00_expt1s_sid00267774_000001_WAXS.tif',\n",
       "       'ABosc_2021C1_Dennis_S3_0.0800deg_waxsP26.00_x-29000.00_expt1s_sid00267792_000001_WAXS.tif',\n",
       "       'ABosc_2021C1_Dennis_S1_0.0800deg_waxsP06.50_x-50000.00_expt1s_sid00267583_000001_WAXS.tif',\n",
       "       'ABosc_2021C1_Dennis_S3_0.1000deg_waxsP45.50_x-29000.00_expt1s_sid00267820_000001_WAXS.tif',\n",
       "       'ABosc_2021C1_Dennis_S3_0.1500deg_waxsP26.00_x-30000.00_expt1s_sid00267788_000001_WAXS.tif',\n",
       "       'ABosc_2021C1_Dennis_S2_0.0800deg_waxsN52.00_x-39000.00_expt1s_sid00267662_000001_WAXS.tif',\n",
       "       'ABosc_2021C1_Dennis_S3_0.1000deg_waxsP19.50_x-29500.00_expt1s_sid00267781_000001_WAXS.tif',\n",
       "       'ABosc_2021C1_Dennis_S3_0.1500deg_waxsP19.50_x-29500.00_expt1s_sid00267782_000001_WAXS.tif',\n",
       "       'ABosc_2021C1_Dennis_S3_0.1000deg_waxsP13.00_x-29000.00_expt1s_sid00267775_000001_WAXS.tif',\n",
       "       'ABosc_2021C1_Dennis_S2_0.0800deg_waxsN32.50_x-39000.00_expt1s_sid00267689_000001_WAXS.tif',\n",
       "       'ABosc_2021C1_Dennis_S4_0.0800deg_waxsN52.00_x-24000.00_expt1s_sid00267841_000001_WAXS.tif',\n",
       "       'ABosc_2021C1_Dennis_S3_0.0800deg_waxsP00.00_x-30000.00_expt1s_sid00267750_000001_WAXS.tif',\n",
       "       'ABosc_2021C1_Dennis_S1_0.1500deg_waxsP13.00_x-50000.00_expt1s_sid00267594_000001_WAXS.tif',\n",
       "       'ABosc_2021C1_Dennis_S1_0.0800deg_waxsP45.50_x-49000.00_expt1s_sid00267643_000001_WAXS.tif',\n",
       "       'ABosc_2021C1_Dennis_S4_0.1500deg_waxsN00.00_x-23500.00_expt1s_sid00267918_000001_WAXS.tif',\n",
       "       'ABosc_2021C1_Dennis_S1_0.0800deg_waxsP06.50_x-49500.00_expt1s_sid00267586_000001_WAXS.tif',\n",
       "       'ABosc_2021C1_Dennis_S1_0.1000deg_waxsP26.00_x-50000.00_expt1s_sid00267611_000001_WAXS.tif',\n",
       "       'ABosc_2021C1_Dennis_S2_0.1000deg_waxsN06.50_x-38500.00_expt1s_sid00267729_000001_WAXS.tif',\n",
       "       'ABosc_2021C1_Dennis_S4_0.1000deg_waxsN32.50_x-23500.00_expt1s_sid00267872_000001_WAXS.tif',\n",
       "       'ABosc_2021C1_Dennis_S1_0.1000deg_waxsP32.50_x-49500.00_expt1s_sid00267623_000001_WAXS.tif',\n",
       "       'ABosc_2021C1_Dennis_S4_0.0800deg_waxsN45.50_x-24500.00_expt1s_sid00267847_000001_WAXS.tif',\n",
       "       'ABosc_2021C1_Dennis_S4_0.0800deg_waxsN06.50_x-24000.00_expt1s_sid00267904_000001_WAXS.tif',\n",
       "       'ABosc_2021C1_Dennis_S1_0.0800deg_waxsP19.50_x-49500.00_expt1s_sid00267604_000001_WAXS.tif',\n",
       "       'ABosc_2021C1_Dennis_S3_0.0800deg_waxsP32.50_x-30000.00_expt1s_sid00267795_000001_WAXS.tif',\n",
       "       'ABosc_2021C1_Dennis_S3_0.1000deg_waxsP26.00_x-29000.00_expt1s_sid00267793_000001_WAXS.tif',\n",
       "       'ABosc_2021C1_Dennis_S1_0.1000deg_waxsP39.00_x-50000.00_expt1s_sid00267629_000001_WAXS.tif',\n",
       "       'ABosc_2021C1_Dennis_S1_0.0800deg_waxsP52.00_x-50000.00_expt1s_sid00267646_000001_WAXS.tif',\n",
       "       'ABosc_2021C1_Dennis_S3_0.0800deg_waxsP13.00_x-29500.00_expt1s_sid00267771_000001_WAXS.tif',\n",
       "       'ABosc_2021C1_Dennis_S1_0.1500deg_waxsP45.50_x-49500.00_expt1s_sid00267642_000001_WAXS.tif',\n",
       "       'ABosc_2021C1_Dennis_S1_0.0800deg_waxsP13.00_x-50000.00_expt1s_sid00267592_000001_WAXS.tif',\n",
       "       'ABosc_2021C1_Dennis_S2_0.1500deg_waxsN39.00_x-38500.00_expt1s_sid00267685_000001_WAXS.tif',\n",
       "       'ABosc_2021C1_Dennis_S4_0.1000deg_waxsN52.00_x-24000.00_expt1s_sid00267842_000001_WAXS.tif',\n",
       "       'ABosc_2021C1_Dennis_S1_0.1500deg_waxsP52.00_x-50000.00_expt1s_sid00267648_000001_WAXS.tif',\n",
       "       'ABosc_2021C1_Dennis_S1_0.0800deg_waxsP39.00_x-49000.00_expt1s_sid00267634_000001_WAXS.tif',\n",
       "       'ABosc_2021C1_Dennis_S3_0.1500deg_waxsP26.00_x-29000.00_expt1s_sid00267794_000001_WAXS.tif',\n",
       "       'ABosc_2021C1_Dennis_S1_0.1500deg_waxsP06.50_x-49500.00_expt1s_sid00267588_000001_WAXS.tif',\n",
       "       'ABosc_2021C1_Dennis_S1_0.1500deg_waxsP00.00_x-49500.00_expt1s_sid00267579_000001_WAXS.tif',\n",
       "       'ABosc_2021C1_Dennis_S1_0.1000deg_waxsP06.50_x-49500.00_expt1s_sid00267587_000001_WAXS.tif',\n",
       "       'ABosc_2021C1_Dennis_S2_0.1000deg_waxsN06.50_x-39000.00_expt1s_sid00267726_000001_WAXS.tif',\n",
       "       'ABosc_2021C1_Dennis_S2_0.1000deg_waxsN52.00_x-39000.00_expt1s_sid00267663_000001_WAXS.tif',\n",
       "       'ABosc_2021C1_Dennis_S4_0.1000deg_waxsN00.00_x-23500.00_expt1s_sid00267917_000001_WAXS.tif',\n",
       "       'ABosc_2021C1_Dennis_S2_0.0800deg_waxsN00.00_x-38500.00_expt1s_sid00267737_000001_WAXS.tif',\n",
       "       'ABosc_2021C1_Dennis_S2_0.0800deg_waxsN06.50_x-39000.00_expt1s_sid00267725_000001_WAXS.tif',\n",
       "       'ABosc_2021C1_Dennis_S3_0.0800deg_waxsP52.00_x-29500.00_expt1s_sid00267825_000001_WAXS.tif',\n",
       "       'ABosc_2021C1_Dennis_S3_0.1500deg_waxsP52.00_x-29000.00_expt1s_sid00267830_000001_WAXS.tif',\n",
       "       'ABosc_2021C1_Dennis_S2_0.1500deg_waxsN13.00_x-38500.00_expt1s_sid00267721_000001_WAXS.tif',\n",
       "       'ABosc_2021C1_Dennis_S2_0.1500deg_waxsN00.00_x-38500.00_expt1s_sid00267739_000001_WAXS.tif',\n",
       "       'ABosc_2021C1_Dennis_S4_0.1000deg_waxsN13.00_x-24500.00_expt1s_sid00267893_000001_WAXS.tif',\n",
       "       'ABosc_2021C1_Dennis_S4_0.0800deg_waxsN06.50_x-24500.00_expt1s_sid00267901_000001_WAXS.tif',\n",
       "       'ABosc_2021C1_Dennis_S2_0.1000deg_waxsN26.00_x-39000.00_expt1s_sid00267699_000001_WAXS.tif',\n",
       "       'ABosc_2021C1_Dennis_S3_0.1000deg_waxsP00.00_x-30000.00_expt1s_sid00267751_000001_WAXS.tif',\n",
       "       'ABosc_2021C1_Dennis_S2_0.0800deg_waxsN32.50_x-38000.00_expt1s_sid00267695_000001_WAXS.tif',\n",
       "       'ABosc_2021C1_Dennis_S2_0.1500deg_waxsN39.00_x-38000.00_expt1s_sid00267688_000001_WAXS.tif',\n",
       "       'ABosc_2021C1_Dennis_S3_0.1500deg_waxsP32.50_x-29000.00_expt1s_sid00267803_000001_WAXS.tif',\n",
       "       'ABosc_2021C1_Dennis_S3_0.0800deg_waxsP26.00_x-29500.00_expt1s_sid00267789_000001_WAXS.tif',\n",
       "       'ABosc_2021C1_Dennis_S2_0.1500deg_waxsN39.00_x-39000.00_expt1s_sid00267682_000001_WAXS.tif',\n",
       "       'ABosc_2021C1_Dennis_S3_0.1000deg_waxsP39.00_x-29000.00_expt1s_sid00267811_000001_WAXS.tif',\n",
       "       'ABosc_2021C1_Dennis_S4_0.1500deg_waxsN13.00_x-23500.00_expt1s_sid00267900_000001_WAXS.tif',\n",
       "       'ABosc_2021C1_Dennis_S1_0.1500deg_waxsP19.50_x-49000.00_expt1s_sid00267609_000001_WAXS.tif',\n",
       "       'ABosc_2021C1_Dennis_S1_0.1500deg_waxsP13.00_x-49000.00_expt1s_sid00267600_000001_WAXS.tif',\n",
       "       'ABosc_2021C1_Dennis_S4_0.0800deg_waxsN06.50_x-23500.00_expt1s_sid00267907_000001_WAXS.tif',\n",
       "       'ABosc_2021C1_Dennis_S4_0.0800deg_waxsN39.00_x-24500.00_expt1s_sid00267856_000001_WAXS.tif',\n",
       "       'ABosc_2021C1_Dennis_S4_0.1500deg_waxsN06.50_x-24000.00_expt1s_sid00267906_000001_WAXS.tif',\n",
       "       'ABosc_2021C1_Dennis_S1_0.0800deg_waxsP39.00_x-49500.00_expt1s_sid00267631_000001_WAXS.tif',\n",
       "       'ABosc_2021C1_Dennis_S3_0.1500deg_waxsP39.00_x-29500.00_expt1s_sid00267809_000001_WAXS.tif',\n",
       "       'ABosc_2021C1_Dennis_S2_0.1500deg_waxsN19.50_x-38500.00_expt1s_sid00267712_000001_WAXS.tif',\n",
       "       'ABosc_2021C1_Dennis_S2_0.1000deg_waxsN45.50_x-38500.00_expt1s_sid00267675_000001_WAXS.tif',\n",
       "       'ABosc_2021C1_Dennis_S2_0.1500deg_waxsN52.00_x-39000.00_expt1s_sid00267664_000001_WAXS.tif',\n",
       "       'ABosc_2021C1_Dennis_S4_0.1000deg_waxsN06.50_x-23500.00_expt1s_sid00267908_000001_WAXS.tif',\n",
       "       'ABosc_2021C1_Dennis_S1_0.1000deg_waxsP19.50_x-49000.00_expt1s_sid00267608_000001_WAXS.tif',\n",
       "       'ABosc_2021C1_Dennis_S3_0.0800deg_waxsP26.00_x-30000.00_expt1s_sid00267786_000001_WAXS.tif',\n",
       "       'ABosc_2021C1_Dennis_S1_0.1000deg_waxsP06.50_x-50000.00_expt1s_sid00267584_000001_WAXS.tif',\n",
       "       'ABosc_2021C1_Dennis_S4_0.0800deg_waxsN39.00_x-23500.00_expt1s_sid00267862_000001_WAXS.tif',\n",
       "       'ABosc_2021C1_Dennis_S4_0.1500deg_waxsN39.00_x-23500.00_expt1s_sid00267864_000001_WAXS.tif',\n",
       "       'ABosc_2021C1_Dennis_S2_0.0800deg_waxsN45.50_x-38000.00_expt1s_sid00267677_000001_WAXS.tif',\n",
       "       'ABosc_2021C1_Dennis_S1_0.1000deg_waxsP00.00_x-49000.00_expt1s_sid00267581_000001_WAXS.tif',\n",
       "       'ABosc_2021C1_Dennis_S4_0.1500deg_waxsN00.00_x-24500.00_expt1s_sid00267912_000001_WAXS.tif',\n",
       "       'ABosc_2021C1_Dennis_S3_0.1000deg_waxsP32.50_x-30000.00_expt1s_sid00267796_000001_WAXS.tif',\n",
       "       'ABosc_2021C1_Dennis_S4_0.1500deg_waxsN52.00_x-24000.00_expt1s_sid00267843_000001_WAXS.tif',\n",
       "       'ABosc_2021C1_Dennis_S1_0.1500deg_waxsP52.00_x-49000.00_expt1s_sid00267654_000001_WAXS.tif',\n",
       "       'ABosc_2021C1_Dennis_S1_0.0800deg_waxsP06.50_x-49000.00_expt1s_sid00267589_000001_WAXS.tif',\n",
       "       'ABosc_2021C1_Dennis_S4_0.1500deg_waxsN45.50_x-24500.00_expt1s_sid00267849_000001_WAXS.tif',\n",
       "       'ABosc_2021C1_Dennis_S2_0.1500deg_waxsN52.00_x-38500.00_expt1s_sid00267667_000001_WAXS.tif',\n",
       "       'ABosc_2021C1_Dennis_S1_0.1000deg_waxsP06.50_x-49000.00_expt1s_sid00267590_000001_WAXS.tif',\n",
       "       'ABosc_2021C1_Dennis_S2_0.1500deg_waxsN06.50_x-38500.00_expt1s_sid00267730_000001_WAXS.tif',\n",
       "       'ABosc_2021C1_Dennis_S3_0.1000deg_waxsP13.00_x-30000.00_expt1s_sid00267769_000001_WAXS.tif',\n",
       "       'ABosc_2021C1_Dennis_S3_0.0800deg_waxsP52.00_x-30000.00_expt1s_sid00267822_000001_WAXS.tif',\n",
       "       'ABosc_2021C1_Dennis_S3_0.1500deg_waxsP00.00_x-29000.00_expt1s_sid00267758_000001_WAXS.tif',\n",
       "       'ABosc_2021C1_Dennis_S1_0.1000deg_waxsP39.00_x-49000.00_expt1s_sid00267635_000001_WAXS.tif',\n",
       "       'ABosc_2021C1_Dennis_S2_0.1000deg_waxsN32.50_x-38000.00_expt1s_sid00267696_000001_WAXS.tif',\n",
       "       'ABosc_2021C1_Dennis_S2_0.0800deg_waxsN13.00_x-38000.00_expt1s_sid00267722_000001_WAXS.tif',\n",
       "       'ABosc_2021C1_Dennis_S3_0.1000deg_waxsP26.00_x-30000.00_expt1s_sid00267787_000001_WAXS.tif',\n",
       "       'ABosc_2021C1_Dennis_S1_0.1500deg_waxsP39.00_x-49000.00_expt1s_sid00267636_000001_WAXS.tif',\n",
       "       'ABosc_2021C1_Dennis_S4_0.0800deg_waxsN52.00_x-23500.00_expt1s_sid00267844_000001_WAXS.tif',\n",
       "       'ABosc_2021C1_Dennis_S3_0.0800deg_waxsP32.50_x-29000.00_expt1s_sid00267801_000001_WAXS.tif',\n",
       "       'ABosc_2021C1_Dennis_S3_0.1500deg_waxsP06.50_x-29000.00_expt1s_sid00267767_000001_WAXS.tif',\n",
       "       'ABosc_2021C1_Dennis_S1_0.0800deg_waxsP00.00_x-49500.00_expt1s_sid00267577_000001_WAXS.tif',\n",
       "       'ABosc_2021C1_Dennis_S4_0.0800deg_waxsN32.50_x-23500.00_expt1s_sid00267871_000001_WAXS.tif',\n",
       "       'ABosc_2021C1_Dennis_S2_0.1000deg_waxsN06.50_x-38000.00_expt1s_sid00267732_000001_WAXS.tif',\n",
       "       'ABosc_2021C1_Dennis_S4_0.0800deg_waxsN26.00_x-24500.00_expt1s_sid00267874_000001_WAXS.tif',\n",
       "       'ABosc_2021C1_Dennis_S2_0.1500deg_waxsN32.50_x-38500.00_expt1s_sid00267694_000001_WAXS.tif',\n",
       "       'ABosc_2021C1_Dennis_S2_0.0800deg_waxsN19.50_x-38500.00_expt1s_sid00267710_000001_WAXS.tif',\n",
       "       'ABosc_2021C1_Dennis_S2_0.1500deg_waxsN45.50_x-39000.00_expt1s_sid00267673_000001_WAXS.tif',\n",
       "       'ABosc_2021C1_Dennis_S4_0.1000deg_waxsN45.50_x-24000.00_expt1s_sid00267851_000001_WAXS.tif',\n",
       "       'ABosc_2021C1_Dennis_S2_0.0800deg_waxsN26.00_x-38500.00_expt1s_sid00267701_000001_WAXS.tif',\n",
       "       'ABosc_2021C1_Dennis_S2_0.1500deg_waxsN52.00_x-38000.00_expt1s_sid00267670_000001_WAXS.tif',\n",
       "       'ABosc_2021C1_Dennis_S1_0.0800deg_waxsP00.00_x-49000.00_expt1s_sid00267580_000001_WAXS.tif',\n",
       "       'ABosc_2021C1_Dennis_S3_0.1000deg_waxsP00.00_x-29000.00_expt1s_sid00267757_000001_WAXS.tif',\n",
       "       'ABosc_2021C1_Dennis_S3_0.1500deg_waxsP26.00_x-29500.00_expt1s_sid00267791_000001_WAXS.tif',\n",
       "       'ABosc_2021C1_Dennis_S1_0.1500deg_waxsP13.00_x-49500.00_expt1s_sid00267597_000001_WAXS.tif',\n",
       "       'ABosc_2021C1_Dennis_S3_0.1000deg_waxsP00.00_x-29500.00_expt1s_sid00267754_000001_WAXS.tif',\n",
       "       'ABosc_2021C1_Dennis_S1_0.1000deg_waxsP45.50_x-49500.00_expt1s_sid00267641_000001_WAXS.tif',\n",
       "       'ABosc_2021C1_Dennis_S4_0.1000deg_waxsN19.50_x-24500.00_expt1s_sid00267884_000001_WAXS.tif',\n",
       "       'ABosc_2021C1_Dennis_S4_0.0800deg_waxsN19.50_x-24500.00_expt1s_sid00267883_000001_WAXS.tif',\n",
       "       'ABosc_2021C1_Dennis_S3_0.0800deg_waxsP52.00_x-29000.00_expt1s_sid00267828_000001_WAXS.tif',\n",
       "       'ABosc_2021C1_Dennis_S3_0.1000deg_waxsP13.00_x-29500.00_expt1s_sid00267772_000001_WAXS.tif',\n",
       "       'ABosc_2021C1_Dennis_S2_0.0800deg_waxsN39.00_x-38000.00_expt1s_sid00267686_000001_WAXS.tif',\n",
       "       'ABosc_2021C1_Dennis_S4_0.1000deg_waxsN39.00_x-23500.00_expt1s_sid00267863_000001_WAXS.tif',\n",
       "       'ABosc_2021C1_Dennis_S2_0.1000deg_waxsN26.00_x-38000.00_expt1s_sid00267705_000001_WAXS.tif',\n",
       "       'ABosc_2021C1_Dennis_S2_0.1500deg_waxsN26.00_x-38000.00_expt1s_sid00267706_000001_WAXS.tif',\n",
       "       'ABosc_2021C1_Dennis_S3_0.1500deg_waxsP52.00_x-30000.00_expt1s_sid00267824_000001_WAXS.tif',\n",
       "       'ABosc_2021C1_Dennis_S2_0.1000deg_waxsN19.50_x-39000.00_expt1s_sid00267708_000001_WAXS.tif',\n",
       "       'ABosc_2021C1_Dennis_S2_0.0800deg_waxsN39.00_x-38500.00_expt1s_sid00267683_000001_WAXS.tif',\n",
       "       'ABosc_2021C1_Dennis_S1_0.1500deg_waxsP00.00_x-50000.00_expt1s_sid00267576_000001_WAXS.tif',\n",
       "       'ABosc_2021C1_Dennis_S3_0.1000deg_waxsP39.00_x-30000.00_expt1s_sid00267805_000001_WAXS.tif',\n",
       "       'ABosc_2021C1_Dennis_S3_0.1000deg_waxsP32.50_x-29500.00_expt1s_sid00267799_000001_WAXS.tif',\n",
       "       'ABosc_2021C1_Dennis_S1_0.1500deg_waxsP06.50_x-50000.00_expt1s_sid00267585_000001_WAXS.tif',\n",
       "       'ABosc_2021C1_Dennis_S4_0.1000deg_waxsN39.00_x-24000.00_expt1s_sid00267860_000001_WAXS.tif',\n",
       "       'ABosc_2021C1_Dennis_S1_0.0800deg_waxsP13.00_x-49000.00_expt1s_sid00267598_000001_WAXS.tif',\n",
       "       'ABosc_2021C1_Dennis_S4_0.1500deg_waxsN19.50_x-23500.00_expt1s_sid00267891_000001_WAXS.tif',\n",
       "       'ABosc_2021C1_Dennis_S4_0.1000deg_waxsN06.50_x-24000.00_expt1s_sid00267905_000001_WAXS.tif',\n",
       "       'ABosc_2021C1_Dennis_S1_0.0800deg_waxsP52.00_x-49500.00_expt1s_sid00267649_000001_WAXS.tif',\n",
       "       'ABosc_2021C1_Dennis_S3_0.0800deg_waxsP19.50_x-29000.00_expt1s_sid00267783_000001_WAXS.tif',\n",
       "       'ABosc_2021C1_Dennis_S4_0.1500deg_waxsN39.00_x-24000.00_expt1s_sid00267861_000001_WAXS.tif',\n",
       "       'ABosc_2021C1_Dennis_S1_0.1500deg_waxsP45.50_x-50000.00_expt1s_sid00267639_000001_WAXS.tif',\n",
       "       'ABosc_2021C1_Dennis_S4_0.1500deg_waxsN19.50_x-24500.00_expt1s_sid00267885_000001_WAXS.tif',\n",
       "       'ABosc_2021C1_Dennis_S4_0.1500deg_waxsN06.50_x-23500.00_expt1s_sid00267909_000001_WAXS.tif',\n",
       "       'ABosc_2021C1_Dennis_S4_0.1000deg_waxsN13.00_x-23500.00_expt1s_sid00267899_000001_WAXS.tif',\n",
       "       'ABosc_2021C1_Dennis_S4_0.1500deg_waxsN32.50_x-24000.00_expt1s_sid00267870_000001_WAXS.tif',\n",
       "       'ABosc_2021C1_Dennis_S3_0.0800deg_waxsP19.50_x-29500.00_expt1s_sid00267780_000001_WAXS.tif',\n",
       "       'ABosc_2021C1_Dennis_S4_0.1000deg_waxsN32.50_x-24500.00_expt1s_sid00267866_000001_WAXS.tif',\n",
       "       'ABosc_2021C1_Dennis_S3_0.1000deg_waxsP06.50_x-30000.00_expt1s_sid00267760_000001_WAXS.tif',\n",
       "       'ABosc_2021C1_Dennis_S1_0.0800deg_waxsP45.50_x-50000.00_expt1s_sid00267637_000001_WAXS.tif',\n",
       "       'ABosc_2021C1_Dennis_S3_0.1500deg_waxsP45.50_x-29500.00_expt1s_sid00267818_000001_WAXS.tif',\n",
       "       'ABosc_2021C1_Dennis_S4_0.1500deg_waxsN52.00_x-24500.00_expt1s_sid00267840_000001_WAXS.tif',\n",
       "       'ABosc_2021C1_Dennis_S3_0.0800deg_waxsP39.00_x-30000.00_expt1s_sid00267804_000001_WAXS.tif',\n",
       "       'ABosc_2021C1_Dennis_S4_0.1500deg_waxsN39.00_x-24500.00_expt1s_sid00267858_000001_WAXS.tif',\n",
       "       'ABosc_2021C1_Dennis_S4_0.0800deg_waxsN45.50_x-24000.00_expt1s_sid00267850_000001_WAXS.tif',\n",
       "       'ABosc_2021C1_Dennis_S2_0.0800deg_waxsN06.50_x-38500.00_expt1s_sid00267728_000001_WAXS.tif',\n",
       "       'ABosc_2021C1_Dennis_S1_0.0800deg_waxsP45.50_x-49500.00_expt1s_sid00267640_000001_WAXS.tif',\n",
       "       'ABosc_2021C1_Dennis_S2_0.1500deg_waxsN32.50_x-38000.00_expt1s_sid00267697_000001_WAXS.tif',\n",
       "       'ABosc_2021C1_Dennis_S3_0.0800deg_waxsP00.00_x-29000.00_expt1s_sid00267756_000001_WAXS.tif',\n",
       "       'ABosc_2021C1_Dennis_S1_0.1000deg_waxsP52.00_x-49000.00_expt1s_sid00267653_000001_WAXS.tif',\n",
       "       'ABosc_2021C1_Dennis_S4_0.1000deg_waxsN00.00_x-24000.00_expt1s_sid00267914_000001_WAXS.tif',\n",
       "       'ABosc_2021C1_Dennis_S3_0.1000deg_waxsP39.00_x-29500.00_expt1s_sid00267808_000001_WAXS.tif',\n",
       "       'ABosc_2021C1_Dennis_S3_0.1000deg_waxsP32.50_x-29000.00_expt1s_sid00267802_000001_WAXS.tif',\n",
       "       'ABosc_2021C1_Dennis_S1_0.1000deg_waxsP39.00_x-49500.00_expt1s_sid00267632_000001_WAXS.tif',\n",
       "       'ABosc_2021C1_Dennis_S3_0.1500deg_waxsP32.50_x-29500.00_expt1s_sid00267800_000001_WAXS.tif',\n",
       "       'ABosc_2021C1_Dennis_S2_0.1000deg_waxsN32.50_x-39000.00_expt1s_sid00267690_000001_WAXS.tif',\n",
       "       'ABosc_2021C1_Dennis_S1_0.0800deg_waxsP00.00_x-50000.00_expt1s_sid00267574_000001_WAXS.tif',\n",
       "       'ABosc_2021C1_Dennis_S3_0.1500deg_waxsP19.50_x-29000.00_expt1s_sid00267785_000001_WAXS.tif',\n",
       "       'ABosc_2021C1_Dennis_S4_0.0800deg_waxsN45.50_x-23500.00_expt1s_sid00267853_000001_WAXS.tif',\n",
       "       'ABosc_2021C1_Dennis_S4_0.1000deg_waxsN45.50_x-23500.00_expt1s_sid00267854_000001_WAXS.tif',\n",
       "       'ABosc_2021C1_Dennis_S2_0.1000deg_waxsN39.00_x-38500.00_expt1s_sid00267684_000001_WAXS.tif',\n",
       "       'ABosc_2021C1_Dennis_S4_0.1500deg_waxsN13.00_x-24000.00_expt1s_sid00267897_000001_WAXS.tif',\n",
       "       'ABosc_2021C1_Dennis_S3_0.1500deg_waxsP00.00_x-29500.00_expt1s_sid00267755_000001_WAXS.tif',\n",
       "       'ABosc_2021C1_Dennis_S4_0.1000deg_waxsN26.00_x-24500.00_expt1s_sid00267875_000001_WAXS.tif',\n",
       "       'ABosc_2021C1_Dennis_S2_0.1000deg_waxsN45.50_x-39000.00_expt1s_sid00267672_000001_WAXS.tif',\n",
       "       'ABosc_2021C1_Dennis_S1_0.1500deg_waxsP26.00_x-50000.00_expt1s_sid00267612_000001_WAXS.tif',\n",
       "       'ABosc_2021C1_Dennis_S2_0.1500deg_waxsN26.00_x-38500.00_expt1s_sid00267703_000001_WAXS.tif',\n",
       "       'ABosc_2021C1_Dennis_S3_0.1000deg_waxsP26.00_x-29500.00_expt1s_sid00267790_000001_WAXS.tif',\n",
       "       'ABosc_2021C1_Dennis_S2_0.1500deg_waxsN19.50_x-38000.00_expt1s_sid00267715_000001_WAXS.tif',\n",
       "       'ABosc_2021C1_Dennis_S1_0.1500deg_waxsP39.00_x-49500.00_expt1s_sid00267633_000001_WAXS.tif',\n",
       "       'ABosc_2021C1_Dennis_S3_0.0800deg_waxsP32.50_x-29500.00_expt1s_sid00267798_000001_WAXS.tif',\n",
       "       'ABosc_2021C1_Dennis_S1_0.0800deg_waxsP26.00_x-49500.00_expt1s_sid00267613_000001_WAXS.tif',\n",
       "       'ABosc_2021C1_Dennis_S2_0.1500deg_waxsN45.50_x-38000.00_expt1s_sid00267679_000001_WAXS.tif',\n",
       "       'ABosc_2021C1_Dennis_S2_0.1000deg_waxsN52.00_x-38500.00_expt1s_sid00267666_000001_WAXS.tif',\n",
       "       'ABosc_2021C1_Dennis_S1_0.1000deg_waxsP45.50_x-50000.00_expt1s_sid00267638_000001_WAXS.tif',\n",
       "       'ABosc_2021C1_Dennis_S2_0.0800deg_waxsN52.00_x-38000.00_expt1s_sid00267668_000001_WAXS.tif',\n",
       "       'ABosc_2021C1_Dennis_S4_0.1500deg_waxsN52.00_x-23500.00_expt1s_sid00267846_000001_WAXS.tif',\n",
       "       'ABosc_2021C1_Dennis_S1_0.1000deg_waxsP32.50_x-49000.00_expt1s_sid00267626_000001_WAXS.tif',\n",
       "       'ABosc_2021C1_Dennis_S3_0.1000deg_waxsP52.00_x-30000.00_expt1s_sid00267823_000001_WAXS.tif',\n",
       "       'ABosc_2021C1_Dennis_S4_0.1500deg_waxsN06.50_x-24500.00_expt1s_sid00267903_000001_WAXS.tif',\n",
       "       'ABosc_2021C1_Dennis_S4_0.0800deg_waxsN19.50_x-24000.00_expt1s_sid00267886_000001_WAXS.tif',\n",
       "       'ABosc_2021C1_Dennis_S3_0.1500deg_waxsP06.50_x-30000.00_expt1s_sid00267761_000001_WAXS.tif',\n",
       "       'ABosc_2021C1_Dennis_S1_0.1500deg_waxsP32.50_x-50000.00_expt1s_sid00267621_000001_WAXS.tif',\n",
       "       'ABosc_2021C1_Dennis_S4_0.1500deg_waxsN26.00_x-23500.00_expt1s_sid00267882_000001_WAXS.tif',\n",
       "       'ABosc_2021C1_Dennis_S1_0.1000deg_waxsP52.00_x-50000.00_expt1s_sid00267647_000001_WAXS.tif',\n",
       "       'ABosc_2021C1_Dennis_S2_0.1500deg_waxsN45.50_x-38500.00_expt1s_sid00267676_000001_WAXS.tif',\n",
       "       'ABosc_2021C1_Dennis_S1_0.1000deg_waxsP26.00_x-49500.00_expt1s_sid00267614_000001_WAXS.tif',\n",
       "       'ABosc_2021C1_Dennis_S4_0.0800deg_waxsN32.50_x-24000.00_expt1s_sid00267868_000001_WAXS.tif',\n",
       "       'ABosc_2021C1_Dennis_S1_0.0800deg_waxsP19.50_x-49000.00_expt1s_sid00267607_000001_WAXS.tif',\n",
       "       'ABosc_2021C1_Dennis_S2_0.0800deg_waxsN13.00_x-39000.00_expt1s_sid00267716_000001_WAXS.tif',\n",
       "       'ABosc_2021C1_Dennis_S4_0.0800deg_waxsN39.00_x-24000.00_expt1s_sid00267859_000001_WAXS.tif',\n",
       "       'ABosc_2021C1_Dennis_S2_0.1000deg_waxsN00.00_x-38500.00_expt1s_sid00267738_000001_WAXS.tif',\n",
       "       'ABosc_2021C1_Dennis_S1_0.1500deg_waxsP32.50_x-49500.00_expt1s_sid00267624_000001_WAXS.tif',\n",
       "       'ABosc_2021C1_Dennis_S1_0.1500deg_waxsP32.50_x-49000.00_expt1s_sid00267627_000001_WAXS.tif',\n",
       "       'ABosc_2021C1_Dennis_S2_0.1000deg_waxsN19.50_x-38500.00_expt1s_sid00267711_000001_WAXS.tif',\n",
       "       'ABosc_2021C1_Dennis_S2_0.0800deg_waxsN45.50_x-39000.00_expt1s_sid00267671_000001_WAXS.tif',\n",
       "       'ABosc_2021C1_Dennis_S1_0.1000deg_waxsP52.00_x-49500.00_expt1s_sid00267650_000001_WAXS.tif',\n",
       "       'ABosc_2021C1_Dennis_S2_0.1500deg_waxsN00.00_x-39000.00_expt1s_sid00267736_000001_WAXS.tif',\n",
       "       'ABosc_2021C1_Dennis_S1_0.1500deg_waxsP00.00_x-49000.00_expt1s_sid00267582_000001_WAXS.tif',\n",
       "       'ABosc_2021C1_Dennis_S2_0.1000deg_waxsN45.50_x-38000.00_expt1s_sid00267678_000001_WAXS.tif',\n",
       "       'ABosc_2021C1_Dennis_S1_0.1500deg_waxsP06.50_x-49000.00_expt1s_sid00267591_000001_WAXS.tif',\n",
       "       'ABosc_2021C1_Dennis_S4_0.1500deg_waxsN45.50_x-24000.00_expt1s_sid00267852_000001_WAXS.tif',\n",
       "       'ABosc_2021C1_Dennis_S2_0.0800deg_waxsN06.50_x-38000.00_expt1s_sid00267731_000001_WAXS.tif',\n",
       "       'ABosc_2021C1_Dennis_S2_0.1000deg_waxsN13.00_x-38500.00_expt1s_sid00267720_000001_WAXS.tif',\n",
       "       'ABosc_2021C1_Dennis_S3_0.0800deg_waxsP39.00_x-29000.00_expt1s_sid00267810_000001_WAXS.tif',\n",
       "       'ABosc_2021C1_Dennis_S2_0.1500deg_waxsN13.00_x-38000.00_expt1s_sid00267724_000001_WAXS.tif',\n",
       "       'ABosc_2021C1_Dennis_S2_0.1500deg_waxsN00.00_x-38000.00_expt1s_sid00267742_000001_WAXS.tif',\n",
       "       'ABosc_2021C1_Dennis_S1_0.1500deg_waxsP45.50_x-49000.00_expt1s_sid00267645_000001_WAXS.tif',\n",
       "       'ABosc_2021C1_Dennis_S4_0.0800deg_waxsN00.00_x-23500.00_expt1s_sid00267916_000001_WAXS.tif',\n",
       "       'ABosc_2021C1_Dennis_S2_0.0800deg_waxsN13.00_x-38500.00_expt1s_sid00267719_000001_WAXS.tif',\n",
       "       'ABosc_2021C1_Dennis_S2_0.1000deg_waxsN13.00_x-39000.00_expt1s_sid00267717_000001_WAXS.tif',\n",
       "       'ABosc_2021C1_Dennis_S2_0.1500deg_waxsN06.50_x-39000.00_expt1s_sid00267727_000001_WAXS.tif',\n",
       "       'ABosc_2021C1_Dennis_S4_0.1500deg_waxsN32.50_x-23500.00_expt1s_sid00267873_000001_WAXS.tif',\n",
       "       'ABosc_2021C1_Dennis_S4_0.0800deg_waxsN00.00_x-24000.00_expt1s_sid00267913_000001_WAXS.tif',\n",
       "       'ABosc_2021C1_Dennis_S3_0.1000deg_waxsP06.50_x-29500.00_expt1s_sid00267763_000001_WAXS.tif',\n",
       "       'ABosc_2021C1_Dennis_S4_0.1000deg_waxsN52.00_x-23500.00_expt1s_sid00267845_000001_WAXS.tif',\n",
       "       'ABosc_2021C1_Dennis_S1_0.1000deg_waxsP19.50_x-49500.00_expt1s_sid00267605_000001_WAXS.tif',\n",
       "       'ABosc_2021C1_Dennis_S3_0.0800deg_waxsP39.00_x-29500.00_expt1s_sid00267807_000001_WAXS.tif',\n",
       "       'ABosc_2021C1_Dennis_S2_0.0800deg_waxsN19.50_x-39000.00_expt1s_sid00267707_000001_WAXS.tif',\n",
       "       'ABosc_2021C1_Dennis_S4_0.1500deg_waxsN45.50_x-23500.00_expt1s_sid00267855_000001_WAXS.tif',\n",
       "       'ABosc_2021C1_Dennis_S4_0.1500deg_waxsN13.00_x-24500.00_expt1s_sid00267894_000001_WAXS.tif',\n",
       "       'ABosc_2021C1_Dennis_S1_0.0800deg_waxsP52.00_x-49000.00_expt1s_sid00267652_000001_WAXS.tif',\n",
       "       'ABosc_2021C1_Dennis_S4_0.1000deg_waxsN26.00_x-23500.00_expt1s_sid00267881_000001_WAXS.tif',\n",
       "       'ABosc_2021C1_Dennis_S2_0.0800deg_waxsN32.50_x-38500.00_expt1s_sid00267692_000001_WAXS.tif',\n",
       "       'ABosc_2021C1_Dennis_S2_0.0800deg_waxsN26.00_x-38000.00_expt1s_sid00267704_000001_WAXS.tif',\n",
       "       'ABosc_2021C1_Dennis_S4_0.1500deg_waxsN00.00_x-24000.00_expt1s_sid00267915_000001_WAXS.tif',\n",
       "       'ABosc_2021C1_Dennis_S3_0.0800deg_waxsP00.00_x-29500.00_expt1s_sid00267753_000001_WAXS.tif',\n",
       "       'ABosc_2021C1_Dennis_S1_0.1000deg_waxsP13.00_x-49500.00_expt1s_sid00267596_000001_WAXS.tif',\n",
       "       'ABosc_2021C1_Dennis_S1_0.0800deg_waxsP32.50_x-49000.00_expt1s_sid00267625_000001_WAXS.tif',\n",
       "       'ABosc_2021C1_Dennis_S3_0.1500deg_waxsP13.00_x-29500.00_expt1s_sid00267773_000001_WAXS.tif',\n",
       "       'ABosc_2021C1_Dennis_S3_0.0800deg_waxsP06.50_x-29500.00_expt1s_sid00267762_000001_WAXS.tif',\n",
       "       'ABosc_2021C1_Dennis_S2_0.1000deg_waxsN39.00_x-39000.00_expt1s_sid00267681_000001_WAXS.tif',\n",
       "       'ABosc_2021C1_Dennis_S2_0.1000deg_waxsN13.00_x-38000.00_expt1s_sid00267723_000001_WAXS.tif',\n",
       "       'ABosc_2021C1_Dennis_S3_0.1000deg_waxsP52.00_x-29500.00_expt1s_sid00267826_000001_WAXS.tif',\n",
       "       'ABosc_2021C1_Dennis_S4_0.1000deg_waxsN32.50_x-24000.00_expt1s_sid00267869_000001_WAXS.tif',\n",
       "       'ABosc_2021C1_Dennis_S3_0.1500deg_waxsP45.50_x-30000.00_expt1s_sid00267815_000001_WAXS.tif',\n",
       "       'ABosc_2021C1_Dennis_S4_0.0800deg_waxsN19.50_x-23500.00_expt1s_sid00267889_000001_WAXS.tif',\n",
       "       'ABosc_2021C1_Dennis_S4_0.1000deg_waxsN13.00_x-24000.00_expt1s_sid00267896_000001_WAXS.tif',\n",
       "       'ABosc_2021C1_Dennis_S1_0.1500deg_waxsP52.00_x-49500.00_expt1s_sid00267651_000001_WAXS.tif',\n",
       "       'ABosc_2021C1_Dennis_S4_0.0800deg_waxsN00.00_x-24500.00_expt1s_sid00267910_000001_WAXS.tif',\n",
       "       'ABosc_2021C1_Dennis_S2_0.1500deg_waxsN19.50_x-39000.00_expt1s_sid00267709_000001_WAXS.tif',\n",
       "       'ABosc_2021C1_Dennis_S3_0.1500deg_waxsP45.50_x-29000.00_expt1s_sid00267821_000001_WAXS.tif',\n",
       "       'ABosc_2021C1_Dennis_S4_0.0800deg_waxsN13.00_x-23500.00_expt1s_sid00267898_000001_WAXS.tif',\n",
       "       'ABosc_2021C1_Dennis_S3_0.1000deg_waxsP19.50_x-29000.00_expt1s_sid00267784_000001_WAXS.tif',\n",
       "       'ABosc_2021C1_Dennis_S3_0.1500deg_waxsP13.00_x-29000.00_expt1s_sid00267776_000001_WAXS.tif',\n",
       "       'ABosc_2021C1_Dennis_S3_0.1500deg_waxsP00.00_x-30000.00_expt1s_sid00267752_000001_WAXS.tif',\n",
       "       'ABosc_2021C1_Dennis_S2_0.1000deg_waxsN26.00_x-38500.00_expt1s_sid00267702_000001_WAXS.tif',\n",
       "       'ABosc_2021C1_Dennis_S3_0.0800deg_waxsP19.50_x-30000.00_expt1s_sid00267777_000001_WAXS.tif',\n",
       "       'ABosc_2021C1_Dennis_S2_0.1000deg_waxsN52.00_x-38000.00_expt1s_sid00267669_000001_WAXS.tif',\n",
       "       'ABosc_2021C1_Dennis_S1_0.1000deg_waxsP26.00_x-49000.00_expt1s_sid00267617_000001_WAXS.tif',\n",
       "       'ABosc_2021C1_Dennis_S3_0.0800deg_waxsP06.50_x-30000.00_expt1s_sid00267759_000001_WAXS.tif',\n",
       "       'ABosc_2021C1_Dennis_S1_0.1500deg_waxsP39.00_x-50000.00_expt1s_sid00267630_000001_WAXS.tif',\n",
       "       'ABosc_2021C1_Dennis_S4_0.0800deg_waxsN52.00_x-24500.00_expt1s_sid00267838_000001_WAXS.tif',\n",
       "       'ABosc_2021C1_Dennis_S3_0.0800deg_waxsP45.50_x-30000.00_expt1s_sid00267813_000001_WAXS.tif',\n",
       "       'ABosc_2021C1_Dennis_S2_0.0800deg_waxsN26.00_x-39000.00_expt1s_sid00267698_000001_WAXS.tif',\n",
       "       'ABosc_2021C1_Dennis_S1_0.1000deg_waxsP13.00_x-49000.00_expt1s_sid00267599_000001_WAXS.tif',\n",
       "       'ABosc_2021C1_Dennis_S2_0.0800deg_waxsN45.50_x-38500.00_expt1s_sid00267674_000001_WAXS.tif',\n",
       "       'ABosc_2021C1_Dennis_S1_0.0800deg_waxsP32.50_x-49500.00_expt1s_sid00267622_000001_WAXS.tif',\n",
       "       'ABosc_2021C1_Dennis_S3_0.0800deg_waxsP13.00_x-30000.00_expt1s_sid00267768_000001_WAXS.tif',\n",
       "       'ABosc_2021C1_Dennis_S2_0.0800deg_waxsN00.00_x-38000.00_expt1s_sid00267740_000001_WAXS.tif',\n",
       "       'ABosc_2021C1_Dennis_S2_0.0800deg_waxsN19.50_x-38000.00_expt1s_sid00267713_000001_WAXS.tif',\n",
       "       'ABosc_2021C1_Dennis_S2_0.1000deg_waxsN32.50_x-38500.00_expt1s_sid00267693_000001_WAXS.tif',\n",
       "       'ABosc_2021C1_Dennis_S2_0.0800deg_waxsN52.00_x-38500.00_expt1s_sid00267665_000001_WAXS.tif',\n",
       "       'ABosc_2021C1_Dennis_S1_0.0800deg_waxsP39.00_x-50000.00_expt1s_sid00267628_000001_WAXS.tif',\n",
       "       'ABosc_2021C1_Dennis_S3_0.1500deg_waxsP32.50_x-30000.00_expt1s_sid00267797_000001_WAXS.tif',\n",
       "       'ABosc_2021C1_Dennis_S1_0.0800deg_waxsP26.00_x-49000.00_expt1s_sid00267616_000001_WAXS.tif',\n",
       "       'ABosc_2021C1_Dennis_S3_0.0800deg_waxsP45.50_x-29000.00_expt1s_sid00267819_000001_WAXS.tif',\n",
       "       'ABosc_2021C1_Dennis_S4_0.1500deg_waxsN26.00_x-24500.00_expt1s_sid00267876_000001_WAXS.tif',\n",
       "       'ABosc_2021C1_Dennis_S2_0.1500deg_waxsN13.00_x-39000.00_expt1s_sid00267718_000001_WAXS.tif',\n",
       "       'ABosc_2021C1_Dennis_S4_0.0800deg_waxsN13.00_x-24000.00_expt1s_sid00267895_000001_WAXS.tif',\n",
       "       'ABosc_2021C1_Dennis_S4_0.0800deg_waxsN26.00_x-24000.00_expt1s_sid00267877_000001_WAXS.tif',\n",
       "       'ABosc_2021C1_Dennis_S2_0.0800deg_waxsN00.00_x-39000.00_expt1s_sid00267734_000001_WAXS.tif',\n",
       "       'ABosc_2021C1_Dennis_S1_0.1000deg_waxsP19.50_x-50000.00_expt1s_sid00267602_000001_WAXS.tif',\n",
       "       'ABosc_2021C1_Dennis_S1_0.1000deg_waxsP00.00_x-50000.00_expt1s_sid00267575_000001_WAXS.tif',\n",
       "       'ABosc_2021C1_Dennis_S3_0.0800deg_waxsP06.50_x-29000.00_expt1s_sid00267765_000001_WAXS.tif',\n",
       "       'ABosc_2021C1_Dennis_S4_0.1000deg_waxsN45.50_x-24500.00_expt1s_sid00267848_000001_WAXS.tif',\n",
       "       'ABosc_2021C1_Dennis_S1_0.0800deg_waxsP32.50_x-50000.00_expt1s_sid00267619_000001_WAXS.tif',\n",
       "       'ABosc_2021C1_Dennis_S2_0.0800deg_waxsN39.00_x-39000.00_expt1s_sid00267680_000001_WAXS.tif',\n",
       "       'ABosc_2021C1_Dennis_S2_0.1500deg_waxsN26.00_x-39000.00_expt1s_sid00267700_000001_WAXS.tif',\n",
       "       'ABosc_2021C1_Dennis_S4_0.1000deg_waxsN39.00_x-24500.00_expt1s_sid00267857_000001_WAXS.tif',\n",
       "       'ABosc_2021C1_Dennis_S4_0.1500deg_waxsN26.00_x-24000.00_expt1s_sid00267879_000001_WAXS.tif',\n",
       "       'ABosc_2021C1_Dennis_S3_0.1500deg_waxsP39.00_x-30000.00_expt1s_sid00267806_000001_WAXS.tif',\n",
       "       'ABosc_2021C1_Dennis_S1_0.1000deg_waxsP45.50_x-49000.00_expt1s_sid00267644_000001_WAXS.tif',\n",
       "       'ABosc_2021C1_Dennis_S4_0.1000deg_waxsN19.50_x-23500.00_expt1s_sid00267890_000001_WAXS.tif',\n",
       "       'ABosc_2021C1_Dennis_S4_0.0800deg_waxsN32.50_x-24500.00_expt1s_sid00267865_000001_WAXS.tif',\n",
       "       'ABosc_2021C1_Dennis_S3_0.1000deg_waxsP52.00_x-29000.00_expt1s_sid00267829_000001_WAXS.tif',\n",
       "       'ABosc_2021C1_Dennis_S3_0.1500deg_waxsP19.50_x-30000.00_expt1s_sid00267779_000001_WAXS.tif',\n",
       "       'ABosc_2021C1_Dennis_S1_0.1500deg_waxsP19.50_x-50000.00_expt1s_sid00267603_000001_WAXS.tif',\n",
       "       'ABosc_2021C1_Dennis_S1_0.1000deg_waxsP32.50_x-50000.00_expt1s_sid00267620_000001_WAXS.tif',\n",
       "       'ABosc_2021C1_Dennis_S4_0.1500deg_waxsN32.50_x-24500.00_expt1s_sid00267867_000001_WAXS.tif',\n",
       "       'ABosc_2021C1_Dennis_S4_0.1500deg_waxsN19.50_x-24000.00_expt1s_sid00267888_000001_WAXS.tif',\n",
       "       'ABosc_2021C1_Dennis_S1_0.1500deg_waxsP19.50_x-49500.00_expt1s_sid00267606_000001_WAXS.tif',\n",
       "       'ABosc_2021C1_Dennis_S3_0.1500deg_waxsP52.00_x-29500.00_expt1s_sid00267827_000001_WAXS.tif',\n",
       "       'ABosc_2021C1_Dennis_S1_0.1500deg_waxsP26.00_x-49000.00_expt1s_sid00267618_000001_WAXS.tif',\n",
       "       'ABosc_2021C1_Dennis_S2_0.1500deg_waxsN06.50_x-38000.00_expt1s_sid00267733_000001_WAXS.tif',\n",
       "       'ABosc_2021C1_Dennis_S4_0.1000deg_waxsN52.00_x-24500.00_expt1s_sid00267839_000001_WAXS.tif',\n",
       "       'ABosc_2021C1_Dennis_S4_0.1000deg_waxsN00.00_x-24500.00_expt1s_sid00267911_000001_WAXS.tif',\n",
       "       'ABosc_2021C1_Dennis_S1_0.1000deg_waxsP00.00_x-49500.00_expt1s_sid00267578_000001_WAXS.tif',\n",
       "       'ABosc_2021C1_Dennis_S3_0.1000deg_waxsP06.50_x-29000.00_expt1s_sid00267766_000001_WAXS.tif',\n",
       "       'ABosc_2021C1_Dennis_S3_0.1500deg_waxsP39.00_x-29000.00_expt1s_sid00267812_000001_WAXS.tif',\n",
       "       'ABosc_2021C1_Dennis_S1_0.1500deg_waxsP26.00_x-49500.00_expt1s_sid00267615_000001_WAXS.tif',\n",
       "       'ABosc_2021C1_Dennis_S4_0.0800deg_waxsN26.00_x-23500.00_expt1s_sid00267880_000001_WAXS.tif',\n",
       "       'ABosc_2021C1_Dennis_S1_0.1000deg_waxsP13.00_x-50000.00_expt1s_sid00267593_000001_WAXS.tif',\n",
       "       'ABosc_2021C1_Dennis_S2_0.1000deg_waxsN39.00_x-38000.00_expt1s_sid00267687_000001_WAXS.tif',\n",
       "       'ABosc_2021C1_Dennis_S3_0.1500deg_waxsP06.50_x-29500.00_expt1s_sid00267764_000001_WAXS.tif',\n",
       "       'ABosc_2021C1_Dennis_S4_0.1000deg_waxsN26.00_x-24000.00_expt1s_sid00267878_000001_WAXS.tif',\n",
       "       'ABosc_2021C1_Dennis_S2_0.1000deg_waxsN00.00_x-38000.00_expt1s_sid00267741_000001_WAXS.tif'],\n",
       "      dtype='<U89')"
      ]
     },
     "execution_count": 19,
     "metadata": {},
     "output_type": "execute_result"
    }
   ],
   "source": [
    "flists_clean"
   ]
  },
  {
   "cell_type": "markdown",
   "metadata": {},
   "source": [
    "### Using a two-layered dict to sort the files "
   ]
  },
  {
   "cell_type": "code",
   "execution_count": 20,
   "metadata": {},
   "outputs": [],
   "source": [
    "#%run -i /home/yuzhang/Software/pyScatt/pyScatt/generic_functions.py"
   ]
  },
  {
   "cell_type": "code",
   "execution_count": 21,
   "metadata": {},
   "outputs": [
    {
     "name": "stdout",
     "output_type": "stream",
     "text": [
      "There are 12 samples.\n"
     ]
    }
   ],
   "source": [
    "#cut_pattern= r'(_waxs)'\n",
    "cut_pattern= r'(_waxs)'\n",
    "#cut_pattern= r'(_deg)'\n",
    "sam_dict, sams = get_Unique_SamDict_from_list( flists, sam_list_clean=flists_clean, \n",
    "                                               cut_pattern= cut_pattern, starting_point=  0     )   \n",
    "#ks =  sorted(list(sams.keys()))\n",
    "ks =   sorted(list(sams.keys()))\n",
    "N = len(ks)\n",
    "print( 'There are %s samples.'%(N))"
   ]
  },
  {
   "cell_type": "code",
   "execution_count": 22,
   "metadata": {},
   "outputs": [
    {
     "data": {
      "text/plain": [
       "['ABosc_2021C1_Dennis_S1_0.0800deg',\n",
       " 'ABosc_2021C1_Dennis_S1_0.1000deg',\n",
       " 'ABosc_2021C1_Dennis_S1_0.1500deg',\n",
       " 'ABosc_2021C1_Dennis_S2_0.0800deg',\n",
       " 'ABosc_2021C1_Dennis_S2_0.1000deg',\n",
       " 'ABosc_2021C1_Dennis_S2_0.1500deg',\n",
       " 'ABosc_2021C1_Dennis_S3_0.0800deg',\n",
       " 'ABosc_2021C1_Dennis_S3_0.1000deg',\n",
       " 'ABosc_2021C1_Dennis_S3_0.1500deg',\n",
       " 'ABosc_2021C1_Dennis_S4_0.0800deg',\n",
       " 'ABosc_2021C1_Dennis_S4_0.1000deg',\n",
       " 'ABosc_2021C1_Dennis_S4_0.1500deg']"
      ]
     },
     "execution_count": 22,
     "metadata": {},
     "output_type": "execute_result"
    }
   ],
   "source": [
    "ks"
   ]
  },
  {
   "cell_type": "code",
   "execution_count": 23,
   "metadata": {},
   "outputs": [],
   "source": [
    "# import shutil\n",
    "# inDir\n",
    "# outDirM = '/home/group/NSLSII_Data/SMI/2021_Cycle1/304841_Kim/Deleted/'\n",
    "\n",
    "\n",
    "\n",
    "# delts= [     '2021C1_C28','2021C1_C29',\n",
    "#                    '2021C1_C30','2021C1_C31','2021C1_C32', '2021C1_C33',\n",
    "#                     '2021C1_D34','2021C1_D35','2021C1_D36', '2021C1_D37', ]\n",
    "# probs = []\n",
    "# for k in ks:\n",
    "#     for d in delts:\n",
    "#         if d in k:\n",
    "#             probs.append( k )\n",
    "\n",
    "    \n",
    "\n",
    "\n",
    "\n",
    "# for p in probs:\n",
    "#     fps = sam_dict[ p ] \n",
    "#     for fp in fps:\n",
    "#         sid = int( fp[-24: - 16] )\n",
    "#         if sid < 265110:\n",
    "#             original = inDir + fp\n",
    "#             target = outDirM + fp\n",
    "#             print(fp)\n",
    "#             shutil.move(original,target)"
   ]
  },
  {
   "cell_type": "code",
   "execution_count": 24,
   "metadata": {
    "scrolled": true
   },
   "outputs": [
    {
     "data": {
      "text/plain": [
       "{'ABosc_2021C1_Dennis_S3_0.1000deg': 27,\n",
       " 'ABosc_2021C1_Dennis_S3_0.0800deg': 27,\n",
       " 'ABosc_2021C1_Dennis_S1_0.0800deg': 27,\n",
       " 'ABosc_2021C1_Dennis_S4_0.1000deg': 27,\n",
       " 'ABosc_2021C1_Dennis_S2_0.1000deg': 27,\n",
       " 'ABosc_2021C1_Dennis_S2_0.1500deg': 27,\n",
       " 'ABosc_2021C1_Dennis_S4_0.0800deg': 27,\n",
       " 'ABosc_2021C1_Dennis_S3_0.1500deg': 27,\n",
       " 'ABosc_2021C1_Dennis_S2_0.0800deg': 27,\n",
       " 'ABosc_2021C1_Dennis_S1_0.1500deg': 27,\n",
       " 'ABosc_2021C1_Dennis_S4_0.1500deg': 27,\n",
       " 'ABosc_2021C1_Dennis_S1_0.1000deg': 27}"
      ]
     },
     "execution_count": 24,
     "metadata": {},
     "output_type": "execute_result"
    }
   ],
   "source": [
    "sams"
   ]
  },
  {
   "cell_type": "markdown",
   "metadata": {},
   "source": [
    " ## Create another layer of samples"
   ]
  },
  {
   "cell_type": "code",
   "execution_count": 25,
   "metadata": {},
   "outputs": [
    {
     "name": "stdout",
     "output_type": "stream",
     "text": [
      "There are 36 samples.\n"
     ]
    }
   ],
   "source": [
    "Sam_dict = {}\n",
    "\n",
    "for k in ks:\n",
    "#for k in [ ks[0] ] :\n",
    "    fdict, fl = sort_fnlist( sam_dict[k], pattern='_sid', lsid = 7, cut_beg = -24, cut_end=-16, method='cut_from_end' )\n",
    "    if 'waxsN' in fl[0]:\n",
    "        FL = fl[::-1]\n",
    "    else:\n",
    "        FL = fl\n",
    "    Sam_dict[k + '_pos1'] = FL[::3]\n",
    "    Sam_dict[k + '_pos2'] = FL[1::3]\n",
    "    Sam_dict[k + '_pos3'] = FL[2::3]    \n",
    " \n",
    "ks =   sorted(list(Sam_dict.keys()))\n",
    "N = len(ks)\n",
    "print( 'There are %s samples.'%(N))        \n",
    "    "
   ]
  },
  {
   "cell_type": "code",
   "execution_count": 26,
   "metadata": {},
   "outputs": [],
   "source": [
    " # 70 samples *  3 inc *  3 position   #9 angles"
   ]
  },
  {
   "cell_type": "code",
   "execution_count": null,
   "metadata": {},
   "outputs": [],
   "source": []
  },
  {
   "cell_type": "code",
   "execution_count": null,
   "metadata": {},
   "outputs": [],
   "source": []
  },
  {
   "cell_type": "markdown",
   "metadata": {},
   "source": [
    "##  Load Mask if has one"
   ]
  },
  {
   "cell_type": "code",
   "execution_count": 27,
   "metadata": {},
   "outputs": [],
   "source": [
    "#mask  =np.load( '/home/yuzhang/NSLSII_Data_Link/SMI/2020_Cycle3/308052_Zhang/Mask/mask_waxs_2020C3_YG.npy')\n",
    "#show_img(mask)\n",
    "mask = None"
   ]
  },
  {
   "cell_type": "markdown",
   "metadata": {},
   "source": [
    "## Define data analysis parameters and methods"
   ]
  },
  {
   "cell_type": "markdown",
   "metadata": {},
   "source": [
    "### A GiWAXS"
   ]
  },
  {
   "cell_type": "code",
   "execution_count": 28,
   "metadata": {},
   "outputs": [],
   "source": [
    "username = 'ABos'\n",
    "beamline = 'SMI'\n",
    "cycle='2021_C1'\n",
    "\n",
    "\n",
    "geometry   =  'Reflection'\n",
    "det_str =  'Pilatus300kw'\n",
    "\n",
    "wav_m = 1E-10 * (12.398/16.1)\n",
    "sdd_mm = 274.0\n",
    "b_xy = [96,  1475 - 88  ]   #[ 88, 96  ]\n",
    "bs_xy = [96, 1203]         #\n",
    "incident_angle = 0\n",
    "hotpixel_thres = 1e6\n",
    "  \n",
    "pargs_sc = dict( wav_m = wav_m, \n",
    "                sdd_mm = sdd_mm, \n",
    "                b_xy =b_xy, \n",
    "                bs_xy = bs_xy, \n",
    "                incident_angle = incident_angle,             \n",
    "                det_str = det_str, \n",
    "                bs_kind = None, \n",
    "                useqx = True,\n",
    "                geometry =  geometry,                \n",
    "                username = username, \n",
    "                cycle =  cycle, \n",
    "                beamline = beamline, \n",
    "                outDir = outDir, )\n",
    "              # mask = mask )\n",
    "    \n",
    "\n",
    "rot_angle_start = 0\n",
    "rot_angle_step = 6.5     \n",
    "## Setup the class\n",
    "SC = SMI_Scattering( pargs_sc  )\n",
    " \n"
   ]
  },
  {
   "cell_type": "code",
   "execution_count": null,
   "metadata": {},
   "outputs": [],
   "source": []
  },
  {
   "cell_type": "markdown",
   "metadata": {},
   "source": [
    "### Methods"
   ]
  },
  {
   "cell_type": "code",
   "execution_count": 29,
   "metadata": {},
   "outputs": [],
   "source": [
    "do_plot = T #True \n",
    "#do_inpait = True, make it True, the circular average does not use inpaited data \n",
    "do_show_plot = T\n",
    "save_raw = F\n",
    "do_qimg = F\n",
    "do_ciravg = F\n",
    "save_raw= F\n",
    "check_stitch = F\n",
    "do_stitch = F\n",
    "do_Qciravg = F\n",
    "show_Qciravg_roi = F \n",
    "do_Qciravg_sector = F   \n",
    "show_Qciravg_sector = F \n",
    "do_Qqphi = F \n",
    "do_q_qphi = F\n",
    "do_p_qphi = F  \n",
    "\n",
    "\n",
    "if T:    \n",
    "    ###########################\n",
    "    #for GiWAXS\n",
    "    ###########################  \n",
    "    do_plot_raw = F # True\n",
    "    check_stitch = F\n",
    "    do_stitch = T\n",
    "    do_plot_stich = F\n",
    "    save_stitch_to_tiff = F\n",
    "    do_Qciravg = T\n",
    "    show_Qciravg_roi = F     \n",
    "    do_Qciravg_sector =  F  \n",
    "    show_Qciravg_sector = F    \n",
    "    Qciravg_sector_angle_wid = 10 \n",
    "    Qciravg_sector_angles = [  10,  30,  50, 70, 90    ]   \n",
    "    \n",
    "    do_Qqphi = F\n",
    "    do_q_qphi = F\n",
    "    do_p_qphi = F\n",
    " \n",
    "    \n",
    "#ThresN = 100000\n",
    "\n"
   ]
  },
  {
   "cell_type": "code",
   "execution_count": 36,
   "metadata": {
    "scrolled": true
   },
   "outputs": [
    {
     "name": "stdout",
     "output_type": "stream",
     "text": [
      "36\n",
      "['ABosc_2021C1_Dennis_S1_0.0800deg_pos1', 'ABosc_2021C1_Dennis_S1_0.0800deg_pos2', 'ABosc_2021C1_Dennis_S1_0.0800deg_pos3', 'ABosc_2021C1_Dennis_S1_0.1000deg_pos1', 'ABosc_2021C1_Dennis_S1_0.1000deg_pos2', 'ABosc_2021C1_Dennis_S1_0.1000deg_pos3', 'ABosc_2021C1_Dennis_S1_0.1500deg_pos1', 'ABosc_2021C1_Dennis_S1_0.1500deg_pos2', 'ABosc_2021C1_Dennis_S1_0.1500deg_pos3', 'ABosc_2021C1_Dennis_S2_0.0800deg_pos1', 'ABosc_2021C1_Dennis_S2_0.0800deg_pos2', 'ABosc_2021C1_Dennis_S2_0.0800deg_pos3', 'ABosc_2021C1_Dennis_S2_0.1000deg_pos1', 'ABosc_2021C1_Dennis_S2_0.1000deg_pos2', 'ABosc_2021C1_Dennis_S2_0.1000deg_pos3', 'ABosc_2021C1_Dennis_S2_0.1500deg_pos1', 'ABosc_2021C1_Dennis_S2_0.1500deg_pos2', 'ABosc_2021C1_Dennis_S2_0.1500deg_pos3', 'ABosc_2021C1_Dennis_S3_0.0800deg_pos1', 'ABosc_2021C1_Dennis_S3_0.0800deg_pos2', 'ABosc_2021C1_Dennis_S3_0.0800deg_pos3', 'ABosc_2021C1_Dennis_S3_0.1000deg_pos1', 'ABosc_2021C1_Dennis_S3_0.1000deg_pos2', 'ABosc_2021C1_Dennis_S3_0.1000deg_pos3', 'ABosc_2021C1_Dennis_S3_0.1500deg_pos1', 'ABosc_2021C1_Dennis_S3_0.1500deg_pos2', 'ABosc_2021C1_Dennis_S3_0.1500deg_pos3', 'ABosc_2021C1_Dennis_S4_0.0800deg_pos1', 'ABosc_2021C1_Dennis_S4_0.0800deg_pos2', 'ABosc_2021C1_Dennis_S4_0.0800deg_pos3', 'ABosc_2021C1_Dennis_S4_0.1000deg_pos1', 'ABosc_2021C1_Dennis_S4_0.1000deg_pos2', 'ABosc_2021C1_Dennis_S4_0.1000deg_pos3', 'ABosc_2021C1_Dennis_S4_0.1500deg_pos1', 'ABosc_2021C1_Dennis_S4_0.1500deg_pos2', 'ABosc_2021C1_Dennis_S4_0.1500deg_pos3']\n"
     ]
    }
   ],
   "source": [
    "sample_list = ks \n",
    "\n",
    "#sample_list =[  ks[ 18 ]  ]\n",
    "\n",
    "sample_list =   ks[:]    \n",
    "#sample_list = ks   #use a dummy papemill to run this\n",
    "print( len(sample_list))\n",
    "print( sample_list )"
   ]
  },
  {
   "cell_type": "code",
   "execution_count": 31,
   "metadata": {},
   "outputs": [
    {
     "data": {
      "text/plain": [
       "['ABosc_2021C1_Dennis_S1_0.0800deg_pos1']"
      ]
     },
     "execution_count": 31,
     "metadata": {},
     "output_type": "execute_result"
    }
   ],
   "source": [
    "sample_list"
   ]
  },
  {
   "cell_type": "code",
   "execution_count": 33,
   "metadata": {},
   "outputs": [
    {
     "data": {
      "text/plain": [
       "36"
      ]
     },
     "execution_count": 33,
     "metadata": {},
     "output_type": "execute_result"
    }
   ],
   "source": [
    " len(ks)"
   ]
  },
  {
   "cell_type": "code",
   "execution_count": 111,
   "metadata": {
    "scrolled": true
   },
   "outputs": [],
   "source": [
    "#ks[450:]"
   ]
  },
  {
   "cell_type": "code",
   "execution_count": 34,
   "metadata": {},
   "outputs": [
    {
     "data": {
      "text/plain": [
       "(['ABosc_2021C1_Dennis_S1_0.0800deg_waxsP00.00_x-50000.00_expt1s_sid00267574_000001_WAXS.tif',\n",
       "  'ABosc_2021C1_Dennis_S1_0.0800deg_waxsP06.50_x-50000.00_expt1s_sid00267583_000001_WAXS.tif',\n",
       "  'ABosc_2021C1_Dennis_S1_0.0800deg_waxsP13.00_x-50000.00_expt1s_sid00267592_000001_WAXS.tif',\n",
       "  'ABosc_2021C1_Dennis_S1_0.0800deg_waxsP19.50_x-50000.00_expt1s_sid00267601_000001_WAXS.tif',\n",
       "  'ABosc_2021C1_Dennis_S1_0.0800deg_waxsP26.00_x-50000.00_expt1s_sid00267610_000001_WAXS.tif',\n",
       "  'ABosc_2021C1_Dennis_S1_0.0800deg_waxsP32.50_x-50000.00_expt1s_sid00267619_000001_WAXS.tif',\n",
       "  'ABosc_2021C1_Dennis_S1_0.0800deg_waxsP39.00_x-50000.00_expt1s_sid00267628_000001_WAXS.tif',\n",
       "  'ABosc_2021C1_Dennis_S1_0.0800deg_waxsP45.50_x-50000.00_expt1s_sid00267637_000001_WAXS.tif',\n",
       "  'ABosc_2021C1_Dennis_S1_0.0800deg_waxsP52.00_x-50000.00_expt1s_sid00267646_000001_WAXS.tif'],\n",
       " 9)"
      ]
     },
     "execution_count": 34,
     "metadata": {},
     "output_type": "execute_result"
    }
   ],
   "source": [
    " Sam_dict[sample_list[ 0 ]], len( Sam_dict[sample_list[ 0 ]] )"
   ]
  },
  {
   "cell_type": "code",
   "execution_count": 75,
   "metadata": {},
   "outputs": [],
   "source": [
    "#%run -i /home/yuzhang/Software/pyScatt/pyScatt/Pipeline_Funcs.py"
   ]
  },
  {
   "cell_type": "code",
   "execution_count": null,
   "metadata": {},
   "outputs": [],
   "source": []
  },
  {
   "cell_type": "markdown",
   "metadata": {},
   "source": [
    "# Run the data analysis"
   ]
  },
  {
   "cell_type": "code",
   "execution_count": 35,
   "metadata": {
    "scrolled": true
   },
   "outputs": [
    {
     "name": "stdout",
     "output_type": "stream",
     "text": [
      "The sample is: ABosc_2021C1_Dennis_S1_0.0800deg_pos1.\n",
      "The filelist for this sample is: ['ABosc_2021C1_Dennis_S1_0.0800deg_waxsP00.00_x-50000.00_expt1s_sid00267574_000001_WAXS.tif', 'ABosc_2021C1_Dennis_S1_0.0800deg_waxsP06.50_x-50000.00_expt1s_sid00267583_000001_WAXS.tif', 'ABosc_2021C1_Dennis_S1_0.0800deg_waxsP13.00_x-50000.00_expt1s_sid00267592_000001_WAXS.tif', 'ABosc_2021C1_Dennis_S1_0.0800deg_waxsP19.50_x-50000.00_expt1s_sid00267601_000001_WAXS.tif', 'ABosc_2021C1_Dennis_S1_0.0800deg_waxsP26.00_x-50000.00_expt1s_sid00267610_000001_WAXS.tif', 'ABosc_2021C1_Dennis_S1_0.0800deg_waxsP32.50_x-50000.00_expt1s_sid00267619_000001_WAXS.tif', 'ABosc_2021C1_Dennis_S1_0.0800deg_waxsP39.00_x-50000.00_expt1s_sid00267628_000001_WAXS.tif', 'ABosc_2021C1_Dennis_S1_0.0800deg_waxsP45.50_x-50000.00_expt1s_sid00267637_000001_WAXS.tif', 'ABosc_2021C1_Dennis_S1_0.0800deg_waxsP52.00_x-50000.00_expt1s_sid00267646_000001_WAXS.tif'].\n",
      "The rotation angles are: [ -0.   -6.5 -13.  -19.5 -26.  -32.5 -39.  -45.5 -52. ].\n",
      "The Directory  /home/yuzhang/NSLSII_Data_Link/SMI/2021_Cycle1/ABos/Results/GIWAXS/  is created.\n",
      "The incident angle is: 0.08.\n"
     ]
    },
    {
     "name": "stderr",
     "output_type": "stream",
     "text": [
      "/home/group/Software/pyScatt/pyScatt/Scattering_Functions.py:825: RuntimeWarning: invalid value encountered in true_divide\n",
      "  Intensity_map = np.nan_to_num( Intensity_map/count_map )\n",
      "/home/group/Software/pyScatt/pyScatt/plots.py:91: MatplotlibDeprecationWarning: Adding an axes using the same arguments as a previous axes currently reuses the earlier instance.  In a future version, a new instance will always be created and returned.  Meanwhile, this warning can be suppressed, and the future behavior ensured, by passing a unique label to each axes instance.\n",
      "  axes.append( fig.add_subplot(H,V,i+1)    )\n"
     ]
    },
    {
     "name": "stdout",
     "output_type": "stream",
     "text": [
      "The file: Cir_Avg_ABosc_2021C1_Dennis_S1_0.0800deg_pos1.csv is saved in /home/yuzhang/NSLSII_Data_Link/SMI/2021_Cycle1/ABos/Results/GIWAXS/Cir_Avg/\n",
      "Done\n"
     ]
    },
    {
     "data": {
      "image/png": "[encoded data removed]",
      "text/plain": [
       "<Figure size 576x288 with 2 Axes>"
      ]
     },
     "metadata": {
      "needs_background": "light"
     },
     "output_type": "display_data"
    },
    {
     "data": {
      "image/png": "[encoded data removed]",
      "text/plain": [
       "<Figure size 432x288 with 1 Axes>"
      ]
     },
     "metadata": {
      "needs_background": "light"
     },
     "output_type": "display_data"
    }
   ],
   "source": [
    "#loop samples\n",
    "for sam in sample_list:     \n",
    "    print( 'The sample is: %s.'%sam) \n",
    "    fps = Sam_dict[sam] \n",
    "    print( 'The filelist for this sample is: %s.'%fps)     \n",
    "    full_filenames = [ inDir +  fp for fp in fps   ] \n",
    "    N =  len(full_filenames)        \n",
    "    RES = {}\n",
    "    RES['Data']={}\n",
    "    PATH = 'GIWAXS'\n",
    "    rot_angle = - np.arange( rot_angle_start,  rot_angle_step * N,  rot_angle_step )\n",
    "    print('The rotation angles are: %s.'%rot_angle)\n",
    "    pargs_sc['rotation_angles'] = rot_angle\n",
    "    pargs_sc['outDir'] = create_fullpath( outDir + PATH + '/')          \n",
    "    try:\n",
    "        pz = float( re.search(   r'(_z)(.*)()', sam ).group()[2:]  )\n",
    "    except:\n",
    "        pz = 1400\n",
    "    pargs_sc['sdd_mm'] = sdd_mm  - pz/1000.   \n",
    "    \n",
    "    p0 = re.search( r'([d][e][g])', sam  ).span()[0]\n",
    "    inc = float( sam[ p0-6:p0] )\n",
    "    print('The incident angle is: %s.'%inc)\n",
    "    pargs_sc['incident_angle'] = inc \n",
    "        \n",
    "    SC = SMI_Scattering( pargs_sc  ) \n",
    "    SC.md['sample'] = sam\n",
    "    SC.load_data( full_filenames )   \n",
    "    SC.saved_plots, SC.saved_data  = {}, {}    \n",
    "    #######################################\n",
    "    #plot the raw data\n",
    "    ########################################\n",
    "    if do_plot_raw:\n",
    "        run_plot_raw( SC,  vmin= None, vmax=None,mask=None, fontsize=6, )        \n",
    "    #######################################\n",
    "    #Stitch WAXS data\n",
    "    ########################################    \n",
    "    SC.offset_y   =   - round( ( pz - 4250.0)/172.0,2 ) \n",
    "    \n",
    "    SC.offset_y   = [28]*11\n",
    "    SC.offset_y[1]   =  26\n",
    "    SC.offset_y[2]   =  22    \n",
    "    SC.offset_y[3]   =  20      \n",
    "    SC.offset_y[4]   =  18    \n",
    "    SC.offset_y[5]   =  18     \n",
    "    SC.offset_y[6]   =  16    \n",
    "    SC.offset_y[7]   =  14     \n",
    "    SC.offset_y[8]   =  14  \n",
    "    \n",
    "    \n",
    "    \n",
    "    if check_stitch:        \n",
    "        q_ch, iq_ch, int_dict_ch, qx_dict_ch, qz_dict_ch = SC.check_stitich( offset_y = SC.offset_y )  \n",
    "        peaks = None \n",
    "        run_plot_waxs_check_stitch_SMI( SC, peaks =peaks,xlim= None, ylim=None,fontsize=6, ) \n",
    "    if do_stitch:        \n",
    "        dq_mag = 5        \n",
    "        qimg_st, msk_st, qx_st, qz_st, sca_st = SC.stitich( dq_mag = dq_mag, offset_y= SC.offset_y, flag_scale= T ) \n",
    "        \n",
    "        if save_stitch_to_tiff:\n",
    "            run_save_qimage( SC, dtype='qimg_st'  )         \n",
    "        \n",
    "        \n",
    "        run_plot_qimage( SC, dtype='qimg_st', zlim=[.05, 1 ]   ) \n",
    "    else:      \n",
    "    #######################################\n",
    "    #Load Stitched WAXS data\n",
    "    ########################################\n",
    "        stitch_path = outDir + 'GIWAXS/Stitch_Data/'\n",
    "        SC.qimg_st = get_img('Stitch_Data_%s.tiff'%sam, stitch_path) \n",
    "        SC.qmask_st = (SC.qimg_st != 0)\n",
    "        SC.qx_st  = np.array( pds.read_csv( stitch_path + 'Stitch_Data_qx_%s.csv'%sam   )['qx_st'] )\n",
    "        SC.qz_st  = np.array( pds.read_csv( stitch_path + 'Stitch_Data_qz_%s.csv'%sam   )['qz_st'] )        \n",
    "    #######################################\n",
    "    #Plot Stitch WAXS data\n",
    "    ########################################   \n",
    "    if do_plot_stich:   \n",
    "        run_plot_qimage( SC, dtype='qimg_st', zlim=[.05, 1 ]   ) \n",
    "    #######################################\n",
    "    #Do circular average\n",
    "    ########################################  \n",
    "    if do_Qciravg: \n",
    "        qz_roi_range= None\n",
    "        qz_roi_range= [ 0.1,  qz_st.max() ]     \n",
    "        \n",
    "#         ################################\n",
    "#         Thres = np.sort( np.ravel( SC.qimg_st ) )[ -ThresN ]\n",
    "#         print( Thres )        \n",
    "#         Mask = SC.qimg_st < Thres\n",
    "#         SC.qmask_st *= Mask\n",
    "#         #######################################\n",
    "        \n",
    "        \n",
    "        qmaskn, q_ca,iq_ca,mask_ca = run_qciravg( SC, ciravg_bins=2500, Prange= [0,90], Qrange= None,\n",
    "                                  qx_roi_range=None,qz_roi_range=qz_roi_range, dtype='qimg_st',    )\n",
    "        run_save_ciravg(  SC  )  \n",
    "        peaks = None \n",
    "        run_plot_ciravg( SC, peaks = peaks,xlim= None, ylim=None,fontsize=6, )  \n",
    "        if show_Qciravg_roi:\n",
    "            run_plot_qciravg_roi( SC,img_roi=SC.qimg_st*mask_ca,zlim=[.05, 1 ],fontsize=6,)  \n",
    "        \n",
    "    #######################################\n",
    "    #Do sector circular average\n",
    "    ########################################  \n",
    "    if do_Qciravg_sector:  \n",
    "        Prange =   [ [w-Qciravg_sector_angle_wid, w+Qciravg_sector_angle_wid] for w in  Qciravg_sector_angles  ]\n",
    "        qiqs_cas,  qmask_cas = SC.qimg_circular_average_sector(SC.qimg_st , SC.qx_st, SC.qz_st,\n",
    "                                    Qrange=None,Prange=Prange,bins=1500,mask= qmaskn ) \n",
    "        run_save_ciravg_sector( SC  )\n",
    "        run_plot_ciravg_sector( SC, xlim=[0,8], )#ylim=[.1, 1e5]  )        \n",
    "        if show_Qciravg_sector:\n",
    "            run_plot_ciravg_sector_roi( SC  )    \n",
    "            \n",
    "    #######################################\n",
    "    #Do q-phi analysis\n",
    "    ########################################              \n",
    "    if do_Qqphi:  \n",
    "        qphi_bins = [ 500, 180 ];Prange= None;Qrange=None;            \n",
    "        q_QP, phi_QP, qphi_QP, qphi_mask = SC.qimg_to_qphi(SC.qimg_st, SC.qx_st, SC.qz_st,\n",
    "                                                  Qrange=Qrange,Prange=Prange,                                                      \n",
    "                                                  bins=qphi_bins,mask=SC.qmask_st) \n",
    "        run_save_Qqphi( SC  )\n",
    "        run_plot_Qqphi( SC,  fontsize=6, zlim=[.05, 1 ],aspect= 0.015, )\n",
    "        \n",
    "        if do_q_qphi:\n",
    "            q_QPq,  iq_QPq = SC.qphi_to_iq( qphi_QP, q_range=q_QP, p_range=phi_QP, )\n",
    "            run_save_Qqphi( SC   )\n",
    "            run_plot_q_iq_qphi( SC, peaks = None, xlim= None, ylim=None,fontsize=6, )\n",
    "            \n",
    "        if do_p_qphi:  \n",
    "            #q_range_roi = None \n",
    "            qPeak, iqPeak = find_max_peak(q_QPq,  iq_QPq, xrange=[0.1,6])\n",
    "            q_range_roi = [ qPeak -.05,  qPeak + .05 ]\n",
    "            p_QPp,  ip_QPp = SC.qphi_to_ip( qphi_QP, q_range=q_QP, p_range=phi_QP, Qrange=q_range_roi ) \n",
    "            run_save_q_iq_qphi( SC  )\n",
    "            run_plot_p_ip_qphi( SC, peaks = None, xlim= None, ylim=None,fontsize=6, )                    \n",
    "   ## save data to h5 file \n",
    "    res = SC.res_to_dict( save_raw=save_raw, do_stitch=do_stitch, \n",
    "                 do_ciravg = do_Qciravg, do_ciravg_sector = do_Qciravg_sector,\n",
    "                 do_qimg=do_qimg, do_qphi = do_Qqphi,  \n",
    "                do_q_qphi = do_q_qphi, do_p_qphi = do_p_qphi,                         \n",
    "                        )                        \n",
    " \n",
    "    RES['Data'] = res\n",
    "    K='saved_data';SC.md[K] = SC.saved_data\n",
    "    K='saved_plots';SC.md[K] = SC.saved_plots    \n",
    "    RES['md']= SC.md  \n",
    "\n",
    "    \n",
    "    dicttoh5( RES, os.path.join(outDir_HDF, '%s.h5'%sam),\n",
    "                     h5path='/%s/'%PATH, mode='a', overwrite_data=True)   \n",
    "    \n",
    "    \n",
    "print('Done')       \n",
    "\n",
    "        \n",
    "    \n",
    "    \n",
    "    \n",
    "    \n",
    "    "
   ]
  },
  {
   "cell_type": "code",
   "execution_count": null,
   "metadata": {},
   "outputs": [],
   "source": []
  },
  {
   "cell_type": "code",
   "execution_count": null,
   "metadata": {},
   "outputs": [],
   "source": [
    " "
   ]
  },
  {
   "cell_type": "code",
   "execution_count": null,
   "metadata": {},
   "outputs": [],
   "source": []
  },
  {
   "cell_type": "code",
   "execution_count": null,
   "metadata": {},
   "outputs": [],
   "source": [
    " "
   ]
  },
  {
   "cell_type": "code",
   "execution_count": null,
   "metadata": {},
   "outputs": [],
   "source": []
  },
  {
   "cell_type": "markdown",
   "metadata": {},
   "source": [
    "# THE END"
   ]
  },
  {
   "cell_type": "code",
   "execution_count": null,
   "metadata": {},
   "outputs": [],
   "source": []
  },
  {
   "cell_type": "code",
   "execution_count": null,
   "metadata": {},
   "outputs": [],
   "source": []
  },
  {
   "cell_type": "code",
   "execution_count": null,
   "metadata": {},
   "outputs": [],
   "source": [
    "#%run -i /home/yuzhang/Software/pyScatt/pyScatt/Scattering_Functions.py\n",
    "#%run -i /home/yuzhang/Software/pyScatt/pyScatt/Scattering.py\n",
    "#%run -i /home/yuzhang/Software/pyScatt/pyScatt/packages.py"
   ]
  },
  {
   "cell_type": "code",
   "execution_count": null,
   "metadata": {},
   "outputs": [],
   "source": []
  }
 ],
 "metadata": {
  "kernelspec": {
   "display_name": "Python 3",
   "language": "python",
   "name": "python3"
  },
  "language_info": {
   "codemirror_mode": {
    "name": "ipython",
    "version": 3
   },
   "file_extension": ".py",
   "mimetype": "text/x-python",
   "name": "python",
   "nbconvert_exporter": "python",
   "pygments_lexer": "ipython3",
   "version": "3.7.9"
  }
 },
 "nbformat": 4,
 "nbformat_minor": 2
}
