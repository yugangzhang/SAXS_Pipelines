{
 "cells": [
  {
   "cell_type": "markdown",
   "metadata": {},
   "source": [
    "# Make PDF Report pipeline \n",
    "\n",
    "\n",
    "## Overview\n",
    "\n",
    "* Setup: load packages/setup path\n",
    "* Find the interested dataset for makeing the pdf report\n",
    "* Make PDF report \n",
    " \n",
    "\n",
    "### DEV\n",
    "* V0: Initialize the pipeline (2019/10/26 by YG yuzhang@bnl.gov)\n",
    "* V1: Using the new developed pyScatt package  (2019/12 by YG yuzhang@bnl.gov)\n",
    "\n",
    " \n",
    "\n",
    "## TODLIST\n",
    "* 1): Put codes into a package (Done)"
   ]
  },
  {
   "cell_type": "code",
   "execution_count": 1,
   "metadata": {},
   "outputs": [
    {
     "name": "stderr",
     "output_type": "stream",
     "text": [
      "WARNING:silx.opencl.common:The module pyOpenCL has been imported but can't be used here\n"
     ]
    }
   ],
   "source": [
    "%matplotlib notebook\n",
    "from pyScatt.packages import *\n",
    "plt.rcParams.update({'figure.max_open_warning': 0})\n",
    "plt.rcParams.update({ 'image.origin': 'lower'   })\n",
    "plt.rcParams.update({ 'image.interpolation': 'none'   })"
   ]
  },
  {
   "cell_type": "markdown",
   "metadata": {},
   "source": [
    "# Setup paths"
   ]
  },
  {
   "cell_type": "code",
   "execution_count": 2,
   "metadata": {},
   "outputs": [
    {
     "name": "stdout",
     "output_type": "stream",
     "text": [
      "Directory  /home/yuzhang/NSLSII_Data_Link/SMI/2021_Cycle1/ABos/Results/  already exists\n",
      "Directory  /home/yuzhang/NSLSII_Data_Link/SMI/2021_Cycle1/ABos/Results//PDF_Report/  already exists\n"
     ]
    },
    {
     "data": {
      "text/plain": [
       "'/home/yuzhang/NSLSII_Data_Link/SMI/2021_Cycle1/ABos/Results//PDF_Report/'"
      ]
     },
     "execution_count": 2,
     "metadata": {},
     "output_type": "execute_result"
    }
   ],
   "source": [
    "####\n",
    "\n",
    "username = 'ABos'\n",
    "inDir =  '/home/yuzhang/NSLSII_Data_Link/SMI/2021_Cycle1/ABos/Results/'\n",
    "\n",
    "outDir0 = inDir\n",
    "outDir = '%s/PDF_Report/'%outDir0\n",
    "inDir_HDF = '%s/HDF_Results/'%outDir0\n",
    "\n",
    "\n",
    "\n",
    "create_fullpath(  outDir0 )\n",
    "create_fullpath(  outDir )\n"
   ]
  },
  {
   "cell_type": "markdown",
   "metadata": {},
   "source": [
    "# Find the interested filename list giving patterns"
   ]
  },
  {
   "cell_type": "code",
   "execution_count": 8,
   "metadata": {
    "scrolled": true
   },
   "outputs": [
    {
     "name": "stdout",
     "output_type": "stream",
     "text": [
      "32\n"
     ]
    },
    {
     "data": {
      "text/plain": [
       "['ABosc_2021C1_Dennis_S1_0.0800deg_pos1.h5',\n",
       " 'ABosc_2021C1_Dennis_S1_0.0800deg_pos2.h5',\n",
       " 'ABosc_2021C1_Dennis_S1_0.0800deg_pos3.h5',\n",
       " 'ABosc_2021C1_Dennis_S1_0.1000deg_pos1.h5',\n",
       " 'ABosc_2021C1_Dennis_S1_0.1000deg_pos2.h5',\n",
       " 'ABosc_2021C1_Dennis_S1_0.1000deg_pos3.h5',\n",
       " 'ABosc_2021C1_Dennis_S1_0.1500deg_pos1.h5',\n",
       " 'ABosc_2021C1_Dennis_S1_0.1500deg_pos2.h5',\n",
       " 'ABosc_2021C1_Dennis_S1_0.1500deg_pos3.h5',\n",
       " 'ABosc_2021C1_Dennis_S2_0.0800deg_pos1.h5',\n",
       " 'ABosc_2021C1_Dennis_S2_0.0800deg_pos2.h5',\n",
       " 'ABosc_2021C1_Dennis_S2_0.0800deg_pos3.h5',\n",
       " 'ABosc_2021C1_Dennis_S2_0.1000deg_pos1.h5',\n",
       " 'ABosc_2021C1_Dennis_S2_0.1000deg_pos2.h5',\n",
       " 'ABosc_2021C1_Dennis_S2_0.1000deg_pos3.h5',\n",
       " 'ABosc_2021C1_Dennis_S2_0.1500deg_pos1.h5',\n",
       " 'ABosc_2021C1_Dennis_S2_0.1500deg_pos2.h5',\n",
       " 'ABosc_2021C1_Dennis_S2_0.1500deg_pos3.h5',\n",
       " 'ABosc_2021C1_Dennis_S3_0.0800deg_pos1.h5',\n",
       " 'ABosc_2021C1_Dennis_S3_0.0800deg_pos2.h5',\n",
       " 'ABosc_2021C1_Dennis_S3_0.0800deg_pos3.h5',\n",
       " 'ABosc_2021C1_Dennis_S3_0.1000deg_pos1.h5',\n",
       " 'ABosc_2021C1_Dennis_S3_0.1000deg_pos2.h5',\n",
       " 'ABosc_2021C1_Dennis_S3_0.1000deg_pos3.h5',\n",
       " 'ABosc_2021C1_Dennis_S3_0.1500deg_pos1.h5',\n",
       " 'ABosc_2021C1_Dennis_S3_0.1500deg_pos2.h5',\n",
       " 'ABosc_2021C1_Dennis_S3_0.1500deg_pos3.h5',\n",
       " 'ABosc_2021C1_Dennis_S4_0.0800deg_pos1.h5',\n",
       " 'ABosc_2021C1_Dennis_S4_0.0800deg_pos2.h5',\n",
       " 'ABosc_2021C1_Dennis_S4_0.0800deg_pos3.h5',\n",
       " 'ABosc_2021C1_Dennis_S4_0.1000deg_pos1.h5',\n",
       " 'ABosc_2021C1_Dennis_S4_0.1000deg_pos2.h5']"
      ]
     },
     "execution_count": 8,
     "metadata": {},
     "output_type": "execute_result"
    }
   ],
   "source": [
    "#flist_all = sorted(  ls_dir( inDir, and_list=[ 'png' ], no_list=['Form_Factor']) )\n",
    "flist_all = sorted(  ls_dir( inDir_HDF, and_list=[ 'h5', 'pos'  ], no_list=['Form_Factor']) )\n",
    "print(len(flist_all))\n",
    "flist_all"
   ]
  },
  {
   "cell_type": "code",
   "execution_count": 9,
   "metadata": {},
   "outputs": [
    {
     "name": "stdout",
     "output_type": "stream",
     "text": [
      "32\n",
      "['ABosc_2021C1_Dennis_S1_0.0800deg_pos1', 'ABosc_2021C1_Dennis_S1_0.0800deg_pos2', 'ABosc_2021C1_Dennis_S1_0.0800deg_pos3', 'ABosc_2021C1_Dennis_S1_0.1000deg_pos1', 'ABosc_2021C1_Dennis_S1_0.1000deg_pos2', 'ABosc_2021C1_Dennis_S1_0.1000deg_pos3', 'ABosc_2021C1_Dennis_S1_0.1500deg_pos1', 'ABosc_2021C1_Dennis_S1_0.1500deg_pos2', 'ABosc_2021C1_Dennis_S1_0.1500deg_pos3', 'ABosc_2021C1_Dennis_S2_0.0800deg_pos1', 'ABosc_2021C1_Dennis_S2_0.0800deg_pos2', 'ABosc_2021C1_Dennis_S2_0.0800deg_pos3', 'ABosc_2021C1_Dennis_S2_0.1000deg_pos1', 'ABosc_2021C1_Dennis_S2_0.1000deg_pos2', 'ABosc_2021C1_Dennis_S2_0.1000deg_pos3', 'ABosc_2021C1_Dennis_S2_0.1500deg_pos1', 'ABosc_2021C1_Dennis_S2_0.1500deg_pos2', 'ABosc_2021C1_Dennis_S2_0.1500deg_pos3', 'ABosc_2021C1_Dennis_S3_0.0800deg_pos1', 'ABosc_2021C1_Dennis_S3_0.0800deg_pos2', 'ABosc_2021C1_Dennis_S3_0.0800deg_pos3', 'ABosc_2021C1_Dennis_S3_0.1000deg_pos1', 'ABosc_2021C1_Dennis_S3_0.1000deg_pos2', 'ABosc_2021C1_Dennis_S3_0.1000deg_pos3', 'ABosc_2021C1_Dennis_S3_0.1500deg_pos1', 'ABosc_2021C1_Dennis_S3_0.1500deg_pos2', 'ABosc_2021C1_Dennis_S3_0.1500deg_pos3', 'ABosc_2021C1_Dennis_S4_0.0800deg_pos1', 'ABosc_2021C1_Dennis_S4_0.0800deg_pos2', 'ABosc_2021C1_Dennis_S4_0.0800deg_pos3', 'ABosc_2021C1_Dennis_S4_0.1000deg_pos1', 'ABosc_2021C1_Dennis_S4_0.1000deg_pos2']\n"
     ]
    }
   ],
   "source": [
    "sams =[ fp[:-3] for fp in flist_all ]\n",
    "print( len(sams))\n",
    "print(sams)"
   ]
  },
  {
   "cell_type": "code",
   "execution_count": null,
   "metadata": {},
   "outputs": [],
   "source": []
  },
  {
   "cell_type": "markdown",
   "metadata": {},
   "source": [
    "## Check one HDF file to load the sample png info"
   ]
  },
  {
   "cell_type": "code",
   "execution_count": 10,
   "metadata": {},
   "outputs": [
    {
     "data": {
      "text/plain": [
       "('/home/yuzhang/NSLSII_Data_Link/SMI/2021_Cycle1/ABos/Results//HDF_Results/',\n",
       " 'ABosc_2021C1_Dennis_S1_0.0800deg_pos3')"
      ]
     },
     "execution_count": 10,
     "metadata": {},
     "output_type": "execute_result"
    }
   ],
   "source": [
    "inDir_HDF, sams[2]"
   ]
  },
  {
   "cell_type": "code",
   "execution_count": null,
   "metadata": {},
   "outputs": [],
   "source": []
  },
  {
   "cell_type": "markdown",
   "metadata": {},
   "source": [
    "## Test SAXS"
   ]
  },
  {
   "cell_type": "code",
   "execution_count": 11,
   "metadata": {},
   "outputs": [
    {
     "name": "stdout",
     "output_type": "stream",
     "text": [
      "ABosc_2021C1_Dennis_S1_0.0800deg_pos1.h5\n"
     ]
    },
    {
     "ename": "KeyError",
     "evalue": "'GISAXS'",
     "output_type": "error",
     "traceback": [
      "\u001b[0;31m---------------------------------------------\u001b[0m",
      "\u001b[0;31mKeyError\u001b[0m    Traceback (most recent call last)",
      "\u001b[0;32m<ipython-input-11-26e795f8b45e>\u001b[0m in \u001b[0;36m<module>\u001b[0;34m\u001b[0m\n\u001b[1;32m      4\u001b[0m     \u001b[0mRES\u001b[0m \u001b[0;34m=\u001b[0m \u001b[0mh5todict\u001b[0m\u001b[0;34m(\u001b[0m \u001b[0minDir_HDF\u001b[0m \u001b[0;34m+\u001b[0m \u001b[0msamk\u001b[0m \u001b[0;34m)\u001b[0m\u001b[0;34m\u001b[0m\u001b[0;34m\u001b[0m\u001b[0m\n\u001b[1;32m      5\u001b[0m     \u001b[0mK0\u001b[0m \u001b[0;34m=\u001b[0m \u001b[0;34m'GISAXS'\u001b[0m\u001b[0;34m\u001b[0m\u001b[0;34m\u001b[0m\u001b[0m\n\u001b[0;32m----> 6\u001b[0;31m     \u001b[0mres\u001b[0m \u001b[0;34m=\u001b[0m \u001b[0mRES\u001b[0m\u001b[0;34m[\u001b[0m\u001b[0mK0\u001b[0m\u001b[0;34m]\u001b[0m\u001b[0;34m\u001b[0m\u001b[0;34m\u001b[0m\u001b[0m\n\u001b[0m\u001b[1;32m      7\u001b[0m     \u001b[0mmd\u001b[0m \u001b[0;34m=\u001b[0m \u001b[0mres\u001b[0m\u001b[0;34m[\u001b[0m\u001b[0;34m'md'\u001b[0m\u001b[0;34m]\u001b[0m\u001b[0;34m\u001b[0m\u001b[0;34m\u001b[0m\u001b[0m\n\u001b[1;32m      8\u001b[0m     \u001b[0mpngs\u001b[0m \u001b[0;34m=\u001b[0m \u001b[0mmd\u001b[0m\u001b[0;34m[\u001b[0m\u001b[0;34m'saved_plots'\u001b[0m\u001b[0;34m]\u001b[0m\u001b[0;34m\u001b[0m\u001b[0;34m\u001b[0m\u001b[0m\n",
      "\u001b[0;31mKeyError\u001b[0m: 'GISAXS'"
     ]
    }
   ],
   "source": [
    "for samk in sams[0:1]:    \n",
    "    samk += '.h5'\n",
    "    print(samk)\n",
    "    RES = h5todict( inDir_HDF + samk ) \n",
    "    K0 = 'GISAXS'\n",
    "    res = RES[K0] \n",
    "    md = res['md']   \n",
    "    pngs = md['saved_plots']\n",
    "    ks = list( pngs.keys() ) \n",
    "    print(ks)\n",
    "    raw = pngs['Qimage']  \n",
    "    qiq = pngs['Raw_Plot']\n",
    "    print( raw, qiq)\n",
    "    "
   ]
  },
  {
   "cell_type": "markdown",
   "metadata": {},
   "source": [
    "# Test WAXS"
   ]
  },
  {
   "cell_type": "code",
   "execution_count": 12,
   "metadata": {},
   "outputs": [
    {
     "name": "stdout",
     "output_type": "stream",
     "text": [
      "ABosc_2021C1_Dennis_S1_0.0800deg_pos2.h5\n",
      "['Cir_Avg', 'Stitch_Image']\n",
      "['/home/yuzhang/NSLSII_Data_Link/SMI/2021_Cycle1/ABos/Results/GIWAXS/Stitch_Image/Stitch_Image_ABosc_2021C1_Dennis_S1_0.0800deg_pos2.png'] ['/home/yuzhang/NSLSII_Data_Link/SMI/2021_Cycle1/ABos/Results/GIWAXS/Cir_Avg/Cir_Avg_ABosc_2021C1_Dennis_S1_0.0800deg_pos2.png']\n"
     ]
    }
   ],
   "source": [
    "for samk in sams[1:2]:    \n",
    "    samk += '.h5'\n",
    "    print(samk)\n",
    "    RES = h5todict( inDir_HDF + samk ) \n",
    "    K0 = 'GIWAXS'\n",
    "    res = RES[K0] \n",
    "    md = res['md']   \n",
    "    pngs = md['saved_plots']\n",
    "    ks = list( pngs.keys() ) \n",
    "    print(ks)\n",
    "    raw = pngs['Stitch_Image']  \n",
    "    qiq = pngs['Cir_Avg']\n",
    "    print( raw, qiq)\n",
    "    "
   ]
  },
  {
   "cell_type": "code",
   "execution_count": 13,
   "metadata": {},
   "outputs": [
    {
     "data": {
      "text/plain": [
       "['ABosc_2021C1_Dennis_S1_0.0800deg_pos1',\n",
       " 'ABosc_2021C1_Dennis_S1_0.0800deg_pos2',\n",
       " 'ABosc_2021C1_Dennis_S1_0.0800deg_pos3',\n",
       " 'ABosc_2021C1_Dennis_S1_0.1000deg_pos1',\n",
       " 'ABosc_2021C1_Dennis_S1_0.1000deg_pos2',\n",
       " 'ABosc_2021C1_Dennis_S1_0.1000deg_pos3',\n",
       " 'ABosc_2021C1_Dennis_S1_0.1500deg_pos1',\n",
       " 'ABosc_2021C1_Dennis_S1_0.1500deg_pos2',\n",
       " 'ABosc_2021C1_Dennis_S1_0.1500deg_pos3',\n",
       " 'ABosc_2021C1_Dennis_S2_0.0800deg_pos1',\n",
       " 'ABosc_2021C1_Dennis_S2_0.0800deg_pos2',\n",
       " 'ABosc_2021C1_Dennis_S2_0.0800deg_pos3',\n",
       " 'ABosc_2021C1_Dennis_S2_0.1000deg_pos1',\n",
       " 'ABosc_2021C1_Dennis_S2_0.1000deg_pos2',\n",
       " 'ABosc_2021C1_Dennis_S2_0.1000deg_pos3',\n",
       " 'ABosc_2021C1_Dennis_S2_0.1500deg_pos1',\n",
       " 'ABosc_2021C1_Dennis_S2_0.1500deg_pos2',\n",
       " 'ABosc_2021C1_Dennis_S2_0.1500deg_pos3',\n",
       " 'ABosc_2021C1_Dennis_S3_0.0800deg_pos1',\n",
       " 'ABosc_2021C1_Dennis_S3_0.0800deg_pos2',\n",
       " 'ABosc_2021C1_Dennis_S3_0.0800deg_pos3',\n",
       " 'ABosc_2021C1_Dennis_S3_0.1000deg_pos1',\n",
       " 'ABosc_2021C1_Dennis_S3_0.1000deg_pos2',\n",
       " 'ABosc_2021C1_Dennis_S3_0.1000deg_pos3',\n",
       " 'ABosc_2021C1_Dennis_S3_0.1500deg_pos1',\n",
       " 'ABosc_2021C1_Dennis_S3_0.1500deg_pos2',\n",
       " 'ABosc_2021C1_Dennis_S3_0.1500deg_pos3',\n",
       " 'ABosc_2021C1_Dennis_S4_0.0800deg_pos1',\n",
       " 'ABosc_2021C1_Dennis_S4_0.0800deg_pos2',\n",
       " 'ABosc_2021C1_Dennis_S4_0.0800deg_pos3',\n",
       " 'ABosc_2021C1_Dennis_S4_0.1000deg_pos1',\n",
       " 'ABosc_2021C1_Dennis_S4_0.1000deg_pos2']"
      ]
     },
     "execution_count": 13,
     "metadata": {},
     "output_type": "execute_result"
    }
   ],
   "source": [
    "sams"
   ]
  },
  {
   "cell_type": "code",
   "execution_count": 64,
   "metadata": {},
   "outputs": [
    {
     "data": {
      "text/plain": [
       "'Kim_2021C1_F70_0.1500deg_pos3'"
      ]
     },
     "execution_count": 64,
     "metadata": {},
     "output_type": "execute_result"
    }
   ],
   "source": [
    "Sams[70*9-1]"
   ]
  },
  {
   "cell_type": "code",
   "execution_count": null,
   "metadata": {},
   "outputs": [],
   "source": []
  },
  {
   "cell_type": "code",
   "execution_count": null,
   "metadata": {},
   "outputs": [],
   "source": []
  },
  {
   "cell_type": "code",
   "execution_count": 14,
   "metadata": {},
   "outputs": [],
   "source": [
    "Sams= np.sort(sams)\n",
    "#sam1 = Sams[: 9*15]\n",
    "#sam2 = Sams[  9*15: 9 * 30  ]\n",
    "#sam3 = Sams[  9*30: 9 * 45  ]\n",
    "#sam4 = Sams[  9*45: 9 * 70-1  ]\n"
   ]
  },
  {
   "cell_type": "code",
   "execution_count": 16,
   "metadata": {},
   "outputs": [
    {
     "data": {
      "text/plain": [
       "(32,)"
      ]
     },
     "execution_count": 16,
     "metadata": {},
     "output_type": "execute_result"
    }
   ],
   "source": [
    " Sams.shape"
   ]
  },
  {
   "cell_type": "code",
   "execution_count": null,
   "metadata": {},
   "outputs": [],
   "source": []
  },
  {
   "cell_type": "code",
   "execution_count": null,
   "metadata": {},
   "outputs": [],
   "source": []
  },
  {
   "cell_type": "markdown",
   "metadata": {},
   "source": [
    "# Make PDF Report"
   ]
  },
  {
   "cell_type": "code",
   "execution_count": null,
   "metadata": {},
   "outputs": [],
   "source": []
  },
  {
   "cell_type": "code",
   "execution_count": 17,
   "metadata": {},
   "outputs": [],
   "source": [
    "username=\"ABos\"\n",
    "maker=\"YZhang\""
   ]
  },
  {
   "cell_type": "code",
   "execution_count": null,
   "metadata": {},
   "outputs": [],
   "source": []
  },
  {
   "cell_type": "code",
   "execution_count": 19,
   "metadata": {
    "scrolled": true
   },
   "outputs": [
    {
     "name": "stdout",
     "output_type": "stream",
     "text": [
      "ABos_Samples_2021_C1\n",
      "PDF_Report_ABos_Samples_2021_C1.pdf\n",
      "ABosc_2021C1_Dennis_S1_0.0800deg_pos1.h5\n",
      "Stitch_Image_ABosc_2021C1_Dennis_S1_0.0800deg_pos1.png\n",
      "Cir_Avg_ABosc_2021C1_Dennis_S1_0.0800deg_pos1.png\n",
      "ABosc_2021C1_Dennis_S1_0.0800deg_pos2.h5\n",
      "Stitch_Image_ABosc_2021C1_Dennis_S1_0.0800deg_pos2.png\n",
      "Cir_Avg_ABosc_2021C1_Dennis_S1_0.0800deg_pos2.png\n",
      "ABosc_2021C1_Dennis_S1_0.0800deg_pos3.h5\n",
      "Stitch_Image_ABosc_2021C1_Dennis_S1_0.0800deg_pos3.png\n",
      "Cir_Avg_ABosc_2021C1_Dennis_S1_0.0800deg_pos3.png\n",
      "ABosc_2021C1_Dennis_S1_0.1000deg_pos1.h5\n",
      "Stitch_Image_ABosc_2021C1_Dennis_S1_0.1000deg_pos1.png\n",
      "Cir_Avg_ABosc_2021C1_Dennis_S1_0.1000deg_pos1.png\n",
      "ABosc_2021C1_Dennis_S1_0.1000deg_pos2.h5\n",
      "Stitch_Image_ABosc_2021C1_Dennis_S1_0.1000deg_pos2.png\n",
      "Cir_Avg_ABosc_2021C1_Dennis_S1_0.1000deg_pos2.png\n",
      "ABosc_2021C1_Dennis_S1_0.1000deg_pos3.h5\n",
      "Stitch_Image_ABosc_2021C1_Dennis_S1_0.1000deg_pos3.png\n",
      "Cir_Avg_ABosc_2021C1_Dennis_S1_0.1000deg_pos3.png\n",
      "ABosc_2021C1_Dennis_S1_0.1500deg_pos1.h5\n",
      "Stitch_Image_ABosc_2021C1_Dennis_S1_0.1500deg_pos1.png\n",
      "Cir_Avg_ABosc_2021C1_Dennis_S1_0.1500deg_pos1.png\n",
      "ABosc_2021C1_Dennis_S1_0.1500deg_pos2.h5\n",
      "Stitch_Image_ABosc_2021C1_Dennis_S1_0.1500deg_pos2.png\n",
      "Cir_Avg_ABosc_2021C1_Dennis_S1_0.1500deg_pos2.png\n",
      "ABosc_2021C1_Dennis_S1_0.1500deg_pos3.h5\n",
      "Stitch_Image_ABosc_2021C1_Dennis_S1_0.1500deg_pos3.png\n",
      "Cir_Avg_ABosc_2021C1_Dennis_S1_0.1500deg_pos3.png\n",
      "ABosc_2021C1_Dennis_S2_0.0800deg_pos1.h5\n",
      "Stitch_Image_ABosc_2021C1_Dennis_S2_0.0800deg_pos1.png\n",
      "Cir_Avg_ABosc_2021C1_Dennis_S2_0.0800deg_pos1.png\n",
      "ABosc_2021C1_Dennis_S2_0.0800deg_pos2.h5\n",
      "Stitch_Image_ABosc_2021C1_Dennis_S2_0.0800deg_pos2.png\n",
      "Cir_Avg_ABosc_2021C1_Dennis_S2_0.0800deg_pos2.png\n",
      "ABosc_2021C1_Dennis_S2_0.0800deg_pos3.h5\n",
      "Stitch_Image_ABosc_2021C1_Dennis_S2_0.0800deg_pos3.png\n",
      "Cir_Avg_ABosc_2021C1_Dennis_S2_0.0800deg_pos3.png\n",
      "ABosc_2021C1_Dennis_S2_0.1000deg_pos1.h5\n",
      "Stitch_Image_ABosc_2021C1_Dennis_S2_0.1000deg_pos1.png\n",
      "Cir_Avg_ABosc_2021C1_Dennis_S2_0.1000deg_pos1.png\n",
      "ABosc_2021C1_Dennis_S2_0.1000deg_pos2.h5\n",
      "Stitch_Image_ABosc_2021C1_Dennis_S2_0.1000deg_pos2.png\n",
      "Cir_Avg_ABosc_2021C1_Dennis_S2_0.1000deg_pos2.png\n",
      "ABosc_2021C1_Dennis_S2_0.1000deg_pos3.h5\n",
      "Stitch_Image_ABosc_2021C1_Dennis_S2_0.1000deg_pos3.png\n",
      "Cir_Avg_ABosc_2021C1_Dennis_S2_0.1000deg_pos3.png\n",
      "ABosc_2021C1_Dennis_S2_0.1500deg_pos1.h5\n",
      "Stitch_Image_ABosc_2021C1_Dennis_S2_0.1500deg_pos1.png\n",
      "Cir_Avg_ABosc_2021C1_Dennis_S2_0.1500deg_pos1.png\n",
      "ABosc_2021C1_Dennis_S2_0.1500deg_pos2.h5\n",
      "Stitch_Image_ABosc_2021C1_Dennis_S2_0.1500deg_pos2.png\n",
      "Cir_Avg_ABosc_2021C1_Dennis_S2_0.1500deg_pos2.png\n",
      "ABosc_2021C1_Dennis_S2_0.1500deg_pos3.h5\n",
      "Stitch_Image_ABosc_2021C1_Dennis_S2_0.1500deg_pos3.png\n",
      "Cir_Avg_ABosc_2021C1_Dennis_S2_0.1500deg_pos3.png\n",
      "ABosc_2021C1_Dennis_S3_0.0800deg_pos1.h5\n",
      "Stitch_Image_ABosc_2021C1_Dennis_S3_0.0800deg_pos1.png\n",
      "Cir_Avg_ABosc_2021C1_Dennis_S3_0.0800deg_pos1.png\n",
      "ABosc_2021C1_Dennis_S3_0.0800deg_pos2.h5\n",
      "Stitch_Image_ABosc_2021C1_Dennis_S3_0.0800deg_pos2.png\n",
      "Cir_Avg_ABosc_2021C1_Dennis_S3_0.0800deg_pos2.png\n",
      "ABosc_2021C1_Dennis_S3_0.0800deg_pos3.h5\n",
      "Stitch_Image_ABosc_2021C1_Dennis_S3_0.0800deg_pos3.png\n",
      "Cir_Avg_ABosc_2021C1_Dennis_S3_0.0800deg_pos3.png\n",
      "ABosc_2021C1_Dennis_S3_0.1000deg_pos1.h5\n",
      "Stitch_Image_ABosc_2021C1_Dennis_S3_0.1000deg_pos1.png\n",
      "Cir_Avg_ABosc_2021C1_Dennis_S3_0.1000deg_pos1.png\n",
      "ABosc_2021C1_Dennis_S3_0.1000deg_pos2.h5\n",
      "Stitch_Image_ABosc_2021C1_Dennis_S3_0.1000deg_pos2.png\n",
      "Cir_Avg_ABosc_2021C1_Dennis_S3_0.1000deg_pos2.png\n",
      "ABosc_2021C1_Dennis_S3_0.1000deg_pos3.h5\n",
      "Stitch_Image_ABosc_2021C1_Dennis_S3_0.1000deg_pos3.png\n",
      "Cir_Avg_ABosc_2021C1_Dennis_S3_0.1000deg_pos3.png\n",
      "ABosc_2021C1_Dennis_S3_0.1500deg_pos1.h5\n",
      "Stitch_Image_ABosc_2021C1_Dennis_S3_0.1500deg_pos1.png\n",
      "Cir_Avg_ABosc_2021C1_Dennis_S3_0.1500deg_pos1.png\n",
      "ABosc_2021C1_Dennis_S3_0.1500deg_pos2.h5\n",
      "Stitch_Image_ABosc_2021C1_Dennis_S3_0.1500deg_pos2.png\n",
      "Cir_Avg_ABosc_2021C1_Dennis_S3_0.1500deg_pos2.png\n",
      "ABosc_2021C1_Dennis_S3_0.1500deg_pos3.h5\n",
      "Stitch_Image_ABosc_2021C1_Dennis_S3_0.1500deg_pos3.png\n",
      "Cir_Avg_ABosc_2021C1_Dennis_S3_0.1500deg_pos3.png\n",
      "ABosc_2021C1_Dennis_S4_0.0800deg_pos1.h5\n",
      "Stitch_Image_ABosc_2021C1_Dennis_S4_0.0800deg_pos1.png\n",
      "Cir_Avg_ABosc_2021C1_Dennis_S4_0.0800deg_pos1.png\n",
      "ABosc_2021C1_Dennis_S4_0.0800deg_pos2.h5\n",
      "Stitch_Image_ABosc_2021C1_Dennis_S4_0.0800deg_pos2.png\n",
      "Cir_Avg_ABosc_2021C1_Dennis_S4_0.0800deg_pos2.png\n",
      "ABosc_2021C1_Dennis_S4_0.0800deg_pos3.h5\n",
      "Stitch_Image_ABosc_2021C1_Dennis_S4_0.0800deg_pos3.png\n",
      "Cir_Avg_ABosc_2021C1_Dennis_S4_0.0800deg_pos3.png\n",
      "ABosc_2021C1_Dennis_S4_0.1000deg_pos1.h5\n",
      "Stitch_Image_ABosc_2021C1_Dennis_S4_0.1000deg_pos1.png\n",
      "Cir_Avg_ABosc_2021C1_Dennis_S4_0.1000deg_pos1.png\n",
      "ABosc_2021C1_Dennis_S4_0.1000deg_pos2.h5\n",
      "Stitch_Image_ABosc_2021C1_Dennis_S4_0.1000deg_pos2.png\n",
      "Cir_Avg_ABosc_2021C1_Dennis_S4_0.1000deg_pos2.png\n",
      "\n",
      "****************************************\n",
      "The pdf report is created with filename as: /home/yuzhang/NSLSII_Data_Link/SMI/2021_Cycle1/ABos/Results//PDF_Report/PDF_Report_ABos_Samples_2021_C1.pdf\n",
      "****************************************\n"
     ]
    }
   ],
   "source": [
    "#sample = \"%s_Samples_2021_C1_Sam1_15\"%(username )\n",
    "#sample = \"%s_Samples_2021_C1_Sam16_30\"%(username )\n",
    "#sample = \"%s_Samples_2021_C1_Sam31_45\"%(username )\n",
    "sample = \"%s_Samples_2021_C1\"%(username )\n",
    "\n",
    "pdf_filename  = 'PDF_Report_%s.pdf'%sample\n",
    "print(    sample  )\n",
    "print( pdf_filename )\n",
    "pdf= PDFBase( inDir, outDir, filename=pdf_filename, user = '%s'%maker, pagesize = ( 1021  , 792) ) \n",
    "c = pdf.c     \n",
    "header = 'Report for X-ray scattering analyis of %s systems'%(  sample )\n",
    "j = 1    \n",
    "#for sam in sams[0:1]:   \n",
    "for sam in sams :     \n",
    "    samk = sam +  '.h5'\n",
    "    print(samk)\n",
    "    RES = h5todict( inDir_HDF + samk )    \n",
    "            \n",
    "    K0 = 'GIWAXS'\n",
    "    res = RES[K0] \n",
    "    md = res['md']   \n",
    "    ps = md['saved_plots']\n",
    "    WImage = ps[ 'Stitch_Image' ] [0]\n",
    "    Wiq = ps[ 'Cir_Avg' ] [0]    \n",
    "    \n",
    "    pdf.report_header( header = header, page = j ) \n",
    "    str_list  =  [  'Sample=%s--WAXS'%( sam)]                \n",
    "    pdf.report_string_list( str_list, top= 740, left = 260, spacing = 15,\n",
    "                           fontsize=24, fontcolor = red )\n",
    "\n",
    "    imgf0 =   WImage\n",
    "    imgf = WImage.split('/')[-1]\n",
    "    print(imgf)\n",
    "    str_list = [ '%s'%(imgf) ]\n",
    "    pdf.report_string_list( str_list, top= 700, left = 60, spacing = 15, fontsize=16, fontcolor = red )\n",
    "    img_left = 150\n",
    "    img_top= 350      \n",
    "    img_height= 320 \n",
    "    width = add_image_string( c, imgf= imgf0, data_dir= '',img_left= img_left,\n",
    "            img_top= img_top, img_height= img_height, return_ = True  )\n",
    "\n",
    "    imgf0 =   Wiq\n",
    "    imgf =   Wiq.split('/')[-1]\n",
    "    print(imgf)\n",
    "    str_list = [ '%s'%(imgf) ]\n",
    "    pdf.report_string_list( str_list, top= 370, left = 60, spacing = 15, fontsize=16, fontcolor = red )            \n",
    "    img_left = 250\n",
    "    img_top= 20      \n",
    "    img_height= 320 \n",
    "    width = add_image_string( c, imgf= imgf0, data_dir= '',img_left= img_left,\n",
    "            img_top= img_top, img_height= img_height, return_ = True  )  \n",
    "    pdf.new_page() \n",
    "    j +=1     \n",
    "\n",
    " \n",
    "\n",
    "pdf.save_page()\n",
    "pdf.done()     \n",
    "\n"
   ]
  },
  {
   "cell_type": "code",
   "execution_count": null,
   "metadata": {},
   "outputs": [],
   "source": []
  },
  {
   "cell_type": "code",
   "execution_count": null,
   "metadata": {},
   "outputs": [],
   "source": []
  },
  {
   "cell_type": "code",
   "execution_count": null,
   "metadata": {},
   "outputs": [],
   "source": []
  },
  {
   "cell_type": "markdown",
   "metadata": {},
   "source": [
    "# The END !"
   ]
  },
  {
   "cell_type": "code",
   "execution_count": null,
   "metadata": {},
   "outputs": [],
   "source": []
  },
  {
   "cell_type": "code",
   "execution_count": null,
   "metadata": {},
   "outputs": [],
   "source": []
  }
 ],
 "metadata": {
  "kernelspec": {
   "display_name": "Python 3",
   "language": "python",
   "name": "python3"
  },
  "language_info": {
   "codemirror_mode": {
    "name": "ipython",
    "version": 3
   },
   "file_extension": ".py",
   "mimetype": "text/x-python",
   "name": "python",
   "nbconvert_exporter": "python",
   "pygments_lexer": "ipython3",
   "version": "3.7.9"
  }
 },
 "nbformat": 4,
 "nbformat_minor": 2
}
