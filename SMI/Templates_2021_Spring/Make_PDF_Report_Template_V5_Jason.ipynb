{
 "cells": [
  {
   "cell_type": "markdown",
   "metadata": {},
   "source": [
    "# Make PDF Report pipeline \n",
    "\n",
    "\n",
    "## Overview\n",
    "\n",
    "* Setup: load packages/setup path\n",
    "* Find the interested dataset for makeing the pdf report\n",
    "* Make PDF report \n",
    " \n",
    "\n",
    "### DEV\n",
    "* V0: Initialize the pipeline (2019/10/26 by YG yuzhang@bnl.gov)\n",
    "* V1: Using the new developed pyScatt package  (2019/12 by YG yuzhang@bnl.gov)\n",
    "\n",
    " \n",
    "\n",
    "## TODLIST\n",
    "* 1): Put codes into a package (Done)"
   ]
  },
  {
   "cell_type": "code",
   "execution_count": 18,
   "metadata": {},
   "outputs": [],
   "source": [
    "%matplotlib notebook\n",
    "from pyScatt.packages import *\n",
    "plt.rcParams.update({'figure.max_open_warning': 0})\n",
    "plt.rcParams.update({ 'image.origin': 'lower'   })\n",
    "plt.rcParams.update({ 'image.interpolation': 'none'   })"
   ]
  },
  {
   "cell_type": "markdown",
   "metadata": {},
   "source": [
    "# Setup paths"
   ]
  },
  {
   "cell_type": "code",
   "execution_count": 19,
   "metadata": {},
   "outputs": [
    {
     "name": "stdout",
     "output_type": "stream",
     "text": [
      "Directory  /home/yuzhang/NSLSII_Data_Link/SMI/2021_Cycle1/Jason/  already exists\n",
      "Directory  /home/yuzhang/NSLSII_Data_Link/SMI/2021_Cycle1/Jason//PDF_Report/  already exists\n"
     ]
    },
    {
     "data": {
      "text/plain": [
       "'/home/yuzhang/NSLSII_Data_Link/SMI/2021_Cycle1/Jason//PDF_Report/'"
      ]
     },
     "execution_count": 19,
     "metadata": {},
     "output_type": "execute_result"
    }
   ],
   "source": [
    "####\n",
    "\n",
    "username = 'Jason'\n",
    "#inDir = '/home/yuzhang/NSLSII_Data_Link/SMI/2020_Cycle3/308052_Zhang/Results/%s'%username\n",
    "\n",
    "inDir = '/home/yuzhang/NSLSII_Data_Link/SMI/2021_Cycle1/Jason/'\n",
    "\n",
    "outDir0 = inDir\n",
    "outDir = '%s/PDF_Report/'%outDir0\n",
    "inDir_HDF = '%s/HDF_Results/'%outDir0\n",
    "\n",
    "\n",
    "\n",
    "create_fullpath(  outDir0 )\n",
    "create_fullpath(  outDir )\n"
   ]
  },
  {
   "cell_type": "markdown",
   "metadata": {},
   "source": [
    "# Find the interested filename list giving patterns"
   ]
  },
  {
   "cell_type": "code",
   "execution_count": 20,
   "metadata": {
    "scrolled": true
   },
   "outputs": [
    {
     "name": "stdout",
     "output_type": "stream",
     "text": [
      "4\n"
     ]
    },
    {
     "data": {
      "text/plain": [
       "['_Jason_Conc_1.h5',\n",
       " '_Jason_Conc_10.h5',\n",
       " '_Jason_Conc_40.h5',\n",
       " '_Jason_Conc_60.h5']"
      ]
     },
     "execution_count": 20,
     "metadata": {},
     "output_type": "execute_result"
    }
   ],
   "source": [
    "#flist_all = sorted(  ls_dir( inDir, and_list=[ 'png' ], no_list=['Form_Factor']) )\n",
    "flist_all = sorted(  ls_dir( inDir_HDF, and_list=[ 'h5'  ], no_list=['Form_Factor']) )\n",
    "print(len(flist_all))\n",
    "flist_all"
   ]
  },
  {
   "cell_type": "code",
   "execution_count": 21,
   "metadata": {},
   "outputs": [
    {
     "name": "stdout",
     "output_type": "stream",
     "text": [
      "4\n",
      "['_Jason_Conc_1', '_Jason_Conc_10', '_Jason_Conc_40', '_Jason_Conc_60']\n"
     ]
    }
   ],
   "source": [
    "sams =[ fp[:-3] for fp in flist_all ]\n",
    "print( len(sams))\n",
    "print(sams)"
   ]
  },
  {
   "cell_type": "code",
   "execution_count": null,
   "metadata": {},
   "outputs": [],
   "source": []
  },
  {
   "cell_type": "markdown",
   "metadata": {},
   "source": [
    "## Check one HDF file to load the sample png info"
   ]
  },
  {
   "cell_type": "code",
   "execution_count": 22,
   "metadata": {},
   "outputs": [
    {
     "data": {
      "text/plain": [
       "('/home/yuzhang/NSLSII_Data_Link/SMI/2021_Cycle1/Jason//HDF_Results/',\n",
       " '_Jason_Conc_40')"
      ]
     },
     "execution_count": 22,
     "metadata": {},
     "output_type": "execute_result"
    }
   ],
   "source": [
    "inDir_HDF, sams[2]"
   ]
  },
  {
   "cell_type": "code",
   "execution_count": null,
   "metadata": {},
   "outputs": [],
   "source": []
  },
  {
   "cell_type": "markdown",
   "metadata": {},
   "source": [
    "## Test SAXS"
   ]
  },
  {
   "cell_type": "code",
   "execution_count": 27,
   "metadata": {},
   "outputs": [
    {
     "name": "stdout",
     "output_type": "stream",
     "text": [
      "_Jason_Conc_1.h5\n",
      "['Cir_Avg', 'Raw_Plot']\n",
      "['/home/yuzhang/NSLSII_Data_Link/SMI/2021_Cycle1/Jason/SAXS/Raw_Plot/Raw_Plot__Jason_Conc_1_x-43501.21_y-5019.76_det5000.0m_expt0.1s_attSn60umX1_sid00268271_000001_SAXS.tif.png'\n",
      " '/home/yuzhang/NSLSII_Data_Link/SMI/2021_Cycle1/Jason/SAXS/Raw_Plot/Raw_Plot__Jason_Conc_1_x-43399.82_y-4719.77_det5000.0m_expt1s_attNone_sid00268272_000001_SAXS.tif.png'\n",
      " '/home/yuzhang/NSLSII_Data_Link/SMI/2021_Cycle1/Jason/SAXS/Raw_Plot/Raw_Plot__Jason_Conc_1_x-43399.84_y-5419.8_det5000.0m_expt1s_attSn60umX1_sid00268275_000001_SAXS.tif.png'] ['/home/yuzhang/NSLSII_Data_Link/SMI/2021_Cycle1/Jason/SAXS/Cir_Avg/Cir_Avg__Jason_Conc_1_x-43501.21_y-5019.76_det5000.0m_expt0.1s_attSn60umX1_sid00268271_000001_SAXS.tif.png'\n",
      " '/home/yuzhang/NSLSII_Data_Link/SMI/2021_Cycle1/Jason/SAXS/Cir_Avg/Cir_Avg__Jason_Conc_1_x-43399.82_y-4719.77_det5000.0m_expt1s_attNone_sid00268272_000001_SAXS.tif.png'\n",
      " '/home/yuzhang/NSLSII_Data_Link/SMI/2021_Cycle1/Jason/SAXS/Cir_Avg/Cir_Avg__Jason_Conc_1_x-43399.84_y-5419.8_det5000.0m_expt1s_attSn60umX1_sid00268275_000001_SAXS.tif.png']\n"
     ]
    }
   ],
   "source": [
    "for samk in sams[0:1]:    \n",
    "    samk += '.h5'\n",
    "    print(samk)\n",
    "    RES = h5todict( inDir_HDF + samk ) \n",
    "    K0 = 'SAXS'\n",
    "    res = RES[K0] \n",
    "    md = res['md']   \n",
    "    pngs = md['saved_plots']\n",
    "    ks = list( pngs.keys() ) \n",
    "    print(ks)\n",
    "    raw = pngs['Raw_Plot']  \n",
    "    qiq = pngs['Cir_Avg']\n",
    "    print( raw, qiq)\n",
    "    \n",
    "    \n",
    "    "
   ]
  },
  {
   "cell_type": "code",
   "execution_count": null,
   "metadata": {},
   "outputs": [],
   "source": []
  },
  {
   "cell_type": "markdown",
   "metadata": {},
   "source": [
    "# Make PDF Report"
   ]
  },
  {
   "cell_type": "code",
   "execution_count": 29,
   "metadata": {},
   "outputs": [
    {
     "name": "stdout",
     "output_type": "stream",
     "text": [
      "Jason_Samples_2021_C1\n",
      "PDF_Report_Jason_Samples_2021_C1.pdf\n",
      "_Jason_Conc_1.h5\n",
      "_Jason_Conc_10.h5\n",
      "_Jason_Conc_40.h5\n",
      "_Jason_Conc_60.h5\n",
      "\n",
      "****************************************\n",
      "The pdf report is created with filename as: /home/yuzhang/NSLSII_Data_Link/SMI/2021_Cycle1/Jason//PDF_Report/PDF_Report_Jason_Samples_2021_C1.pdf\n",
      "****************************************\n"
     ]
    }
   ],
   "source": [
    "sample = \"%s_Samples_2021_C1\"%(username )\n",
    "pdf_filename  = 'PDF_Report_%s.pdf'%sample\n",
    "print(    sample  )\n",
    "print( pdf_filename )\n",
    "pdf= PDFBase( inDir, outDir, filename=pdf_filename, user = '%s'%username, pagesize = ( 1021  , 792) ) \n",
    "c = pdf.c     \n",
    "header = 'Report for X-ray scattering analyis of %s systems'%(  sample )\n",
    "j = 1    \n",
    "for sam in sams[0:]:    \n",
    "    samk = sam +  '.h5'\n",
    "    print(samk)\n",
    "    RES = h5todict( inDir_HDF + samk ) \n",
    "    K0 = 'SAXS'\n",
    "    res = RES[K0] \n",
    "    md = res['md']   \n",
    "    pngs = md['saved_plots']\n",
    "    ks = list( pngs.keys() ) \n",
    "    #print(ks)\n",
    "    raw = pngs['Raw_Plot']  \n",
    "    qiq = pngs['Cir_Avg']\n",
    "    #print( raw, qiq)    \n",
    "\n",
    "    Nimg = len(raw)\n",
    "    for ci in range(Nimg):\n",
    "        pdf.report_header( header = header, page = j ) \n",
    "        #str_list  =  [  'SAXS--Sample=%s--%s'%( sam, k1)]\n",
    "        str_list  =  [  'Sample=%s--SAXS'%( sam)]                \n",
    "        pdf.report_string_list( str_list, top= 720, left = 260, spacing = 15,\n",
    "                               fontsize=36, fontcolor = red )\n",
    "\n",
    "        imgf0 =   raw[ci]\n",
    "        imgf = raw[ci].split('/')[-1]\n",
    "        #print(imgf)\n",
    "        str_list = [ '%s'%(imgf) ]\n",
    "        pdf.report_string_list( str_list, top= 630, left = 60, spacing = 15, fontsize=24, fontcolor = red )\n",
    "        img_left = -200\n",
    "        img_top= 200      \n",
    "        img_height= 400 \n",
    "        width = add_image_string( c, imgf= imgf0, data_dir= '',img_left= img_left,\n",
    "                img_top= img_top, img_height= img_height, return_ = True  )\n",
    "\n",
    "        imgf0 =   qiq[ci]\n",
    "        imgf =   qiq[ci].split('/')[-1]\n",
    "        #print(imgf)\n",
    "        str_list = [ '%s'%(imgf) ]\n",
    "        pdf.report_string_list( str_list, top= 230, left = 500, spacing = 15, fontsize=24, fontcolor = red )            \n",
    "        img_left = 600\n",
    "        img_top= 250      \n",
    "        img_height= 300 \n",
    "        width = add_image_string( c, imgf= imgf0, data_dir= '',img_left= img_left,\n",
    "                img_top= img_top, img_height= img_height, return_ = True  )  \n",
    "        pdf.new_page() \n",
    "        j +=1  \n",
    "\n",
    "\n",
    "pdf.save_page()\n",
    "pdf.done()     \n",
    "\n"
   ]
  },
  {
   "cell_type": "code",
   "execution_count": null,
   "metadata": {},
   "outputs": [],
   "source": []
  },
  {
   "cell_type": "code",
   "execution_count": null,
   "metadata": {},
   "outputs": [],
   "source": []
  },
  {
   "cell_type": "code",
   "execution_count": null,
   "metadata": {},
   "outputs": [],
   "source": []
  },
  {
   "cell_type": "markdown",
   "metadata": {},
   "source": [
    "# The END !"
   ]
  },
  {
   "cell_type": "code",
   "execution_count": null,
   "metadata": {},
   "outputs": [],
   "source": []
  },
  {
   "cell_type": "code",
   "execution_count": null,
   "metadata": {},
   "outputs": [],
   "source": []
  }
 ],
 "metadata": {
  "kernelspec": {
   "display_name": "Python 3",
   "language": "python",
   "name": "python3"
  },
  "language_info": {
   "codemirror_mode": {
    "name": "ipython",
    "version": 3
   },
   "file_extension": ".py",
   "mimetype": "text/x-python",
   "name": "python",
   "nbconvert_exporter": "python",
   "pygments_lexer": "ipython3",
   "version": "3.7.9"
  }
 },
 "nbformat": 4,
 "nbformat_minor": 2
}
