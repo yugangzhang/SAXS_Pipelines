{
 "cells": [
  {
   "cell_type": "markdown",
   "metadata": {},
   "source": [
    "# Make PDF Report pipeline \n",
    "\n",
    "\n",
    "## Overview\n",
    "\n",
    "* Setup: load packages/setup path\n",
    "* Find the interested dataset for makeing the pdf report\n",
    "* Make PDF report \n",
    " \n",
    "\n",
    "### DEV\n",
    "* V0: Initialize the pipeline (2019/10/26 by YG yuzhang@bnl.gov)\n",
    "* V1: Using the new developed pyScatt package  (2019/12 by YG yuzhang@bnl.gov)\n",
    "\n",
    " \n",
    "\n",
    "## TODLIST\n",
    "* 1): Put codes into a package (Done)"
   ]
  },
  {
   "cell_type": "code",
   "execution_count": 1,
   "metadata": {},
   "outputs": [
    {
     "name": "stderr",
     "output_type": "stream",
     "text": [
      "WARNING:silx.opencl.common:The module pyOpenCL has been imported but can't be used here\n"
     ]
    }
   ],
   "source": [
    "%matplotlib notebook\n",
    "from pyScatt.packages import *\n",
    "plt.rcParams.update({'figure.max_open_warning': 0})\n",
    "plt.rcParams.update({ 'image.origin': 'lower'   })\n",
    "plt.rcParams.update({ 'image.interpolation': 'none'   })"
   ]
  },
  {
   "cell_type": "markdown",
   "metadata": {},
   "source": [
    "# Setup paths"
   ]
  },
  {
   "cell_type": "code",
   "execution_count": 2,
   "metadata": {},
   "outputs": [
    {
     "name": "stdout",
     "output_type": "stream",
     "text": [
      "Directory  /home/yuzhang/NSLSII_Data_Link/SMI/2021_Cycle1/308052_Dinca/Results/  already exists\n",
      "Directory  /home/yuzhang/NSLSII_Data_Link/SMI/2021_Cycle1/308052_Dinca/Results//PDF_Report/  already exists\n"
     ]
    },
    {
     "data": {
      "text/plain": [
       "'/home/yuzhang/NSLSII_Data_Link/SMI/2021_Cycle1/308052_Dinca/Results//PDF_Report/'"
      ]
     },
     "execution_count": 2,
     "metadata": {},
     "output_type": "execute_result"
    }
   ],
   "source": [
    "####\n",
    "\n",
    "username = 'Dinca'\n",
    "#inDir = '/home/yuzhang/NSLSII_Data_Link/SMI/2020_Cycle3/308052_Zhang/Results/%s'%username\n",
    "\n",
    "inDir = '/home/yuzhang/NSLSII_Data_Link/SMI/2021_Cycle1/308052_Dinca/Results/'\n",
    "\n",
    "outDir0 = inDir\n",
    "outDir = '%s/PDF_Report/'%outDir0\n",
    "inDir_HDF = '%s/HDF_Results/'%outDir0\n",
    "\n",
    "\n",
    "\n",
    "create_fullpath(  outDir0 )\n",
    "create_fullpath(  outDir )\n"
   ]
  },
  {
   "cell_type": "markdown",
   "metadata": {},
   "source": [
    "# Find the interested filename list giving patterns"
   ]
  },
  {
   "cell_type": "code",
   "execution_count": 3,
   "metadata": {
    "scrolled": true
   },
   "outputs": [
    {
     "name": "stdout",
     "output_type": "stream",
     "text": [
      "11\n"
     ]
    },
    {
     "data": {
      "text/plain": [
       "['_Dinca_Mn_PDI.h5',\n",
       " '_Dinca_Mn_PDI_32.h5',\n",
       " '_Dinca_NiBHT.h5',\n",
       " '_Dinca_NiBHT_Neg.h5',\n",
       " '_Dinca_NiBHT_Pos.h5',\n",
       " '_Dinca_PDI_Ligand.h5',\n",
       " '_Dinca_RW_1315.h5',\n",
       " '_Dinca_TIBA_COF_CTAB.h5',\n",
       " '_Dinca_TIBQ_COF_DMA.h5',\n",
       " '_Dinca_Zn_PDI.h5',\n",
       " '_Dinca_Zn_PDI_2.h5']"
      ]
     },
     "execution_count": 3,
     "metadata": {},
     "output_type": "execute_result"
    }
   ],
   "source": [
    "#flist_all = sorted(  ls_dir( inDir, and_list=[ 'png' ], no_list=['Form_Factor']) )\n",
    "flist_all = sorted(  ls_dir( inDir_HDF, and_list=[ 'h5'  ], no_list=['Form_Factor']) )\n",
    "print(len(flist_all))\n",
    "flist_all"
   ]
  },
  {
   "cell_type": "code",
   "execution_count": 4,
   "metadata": {},
   "outputs": [
    {
     "name": "stdout",
     "output_type": "stream",
     "text": [
      "11\n",
      "['_Dinca_Mn_PDI', '_Dinca_Mn_PDI_32', '_Dinca_NiBHT', '_Dinca_NiBHT_Neg', '_Dinca_NiBHT_Pos', '_Dinca_PDI_Ligand', '_Dinca_RW_1315', '_Dinca_TIBA_COF_CTAB', '_Dinca_TIBQ_COF_DMA', '_Dinca_Zn_PDI', '_Dinca_Zn_PDI_2']\n"
     ]
    }
   ],
   "source": [
    "sams =[ fp[:-3] for fp in flist_all ]\n",
    "print( len(sams))\n",
    "print(sams)"
   ]
  },
  {
   "cell_type": "code",
   "execution_count": null,
   "metadata": {},
   "outputs": [],
   "source": []
  },
  {
   "cell_type": "markdown",
   "metadata": {},
   "source": [
    "## Check one HDF file to load the sample png info"
   ]
  },
  {
   "cell_type": "code",
   "execution_count": 5,
   "metadata": {},
   "outputs": [
    {
     "data": {
      "text/plain": [
       "('/home/yuzhang/NSLSII_Data_Link/SMI/2021_Cycle1/308052_Dinca/Results//HDF_Results/',\n",
       " '_Dinca_NiBHT')"
      ]
     },
     "execution_count": 5,
     "metadata": {},
     "output_type": "execute_result"
    }
   ],
   "source": [
    "inDir_HDF, sams[2]"
   ]
  },
  {
   "cell_type": "code",
   "execution_count": null,
   "metadata": {},
   "outputs": [],
   "source": []
  },
  {
   "cell_type": "markdown",
   "metadata": {},
   "source": [
    "## Test SAXS"
   ]
  },
  {
   "cell_type": "code",
   "execution_count": 6,
   "metadata": {},
   "outputs": [
    {
     "name": "stdout",
     "output_type": "stream",
     "text": [
      "_Dinca_Mn_PDI.h5\n",
      "['Cir_Avg', 'Raw_Plot']\n",
      "['/home/yuzhang/NSLSII_Data_Link/SMI/2021_Cycle1/308052_Dinca/Results/SAXS/Raw_Plot/Raw_Plot__Dinca_Mn_PDI_x-11600.03_y-5019.9_det5000.0m_expt0.1s_attNone_sid00268288_000001_SAXS.tif.png'] ['/home/yuzhang/NSLSII_Data_Link/SMI/2021_Cycle1/308052_Dinca/Results/SAXS/Cir_Avg/Cir_Avg__Dinca_Mn_PDI_x-11600.03_y-5019.9_det5000.0m_expt0.1s_attNone_sid00268288_000001_SAXS.tif.png']\n"
     ]
    }
   ],
   "source": [
    "for samk in sams[0:1]:    \n",
    "    samk += '.h5'\n",
    "    print(samk)\n",
    "    RES = h5todict( inDir_HDF + samk ) \n",
    "    K0 = 'SAXS'\n",
    "    res = RES[K0] \n",
    "    md = res['md']   \n",
    "    pngs = md['saved_plots']\n",
    "    ks = list( pngs.keys() ) \n",
    "    print(ks)\n",
    "    raw = pngs['Raw_Plot']  \n",
    "    qiq = pngs['Cir_Avg']\n",
    "    print( raw, qiq)\n",
    "    "
   ]
  },
  {
   "cell_type": "code",
   "execution_count": 59,
   "metadata": {},
   "outputs": [
    {
     "data": {
      "text/plain": [
       "dict_keys(['_Dinca_Mn_PDI_x-11600.03_y-5019.9_det5000.0m_expt0.1s_attNone_sid00268288_000001_SAXS.tif', 'md'])"
      ]
     },
     "execution_count": 59,
     "metadata": {},
     "output_type": "execute_result"
    }
   ],
   "source": [
    "res.keys()"
   ]
  },
  {
   "cell_type": "markdown",
   "metadata": {},
   "source": [
    "# Test WAXS"
   ]
  },
  {
   "cell_type": "code",
   "execution_count": 13,
   "metadata": {},
   "outputs": [
    {
     "name": "stdout",
     "output_type": "stream",
     "text": [
      "_Dinca_Mn_PDI.h5\n",
      "['Check_Stitch', 'Cir_Avg', 'Cir_Avg_roi', 'Raw_Plot', 'Stitch_Image']\n",
      "['/home/yuzhang/NSLSII_Data_Link/SMI/2021_Cycle1/308052_Dinca/Results/WAXS/Raw_Plot/Raw_Plot__Dinca_Mn_PDI.png'] ['/home/yuzhang/NSLSII_Data_Link/SMI/2021_Cycle1/308052_Dinca/Results/WAXS/Cir_Avg/Cir_Avg__Dinca_Mn_PDI.png']\n"
     ]
    }
   ],
   "source": [
    "for samk in sams[0:1]:    \n",
    "    samk += '.h5'\n",
    "    print(samk)\n",
    "    RES = h5todict( inDir_HDF + samk ) \n",
    "    K0 = 'WAXS'\n",
    "    res = RES[K0] \n",
    "    md = res['md']   \n",
    "    pngs = md['saved_plots']\n",
    "    ks = list( pngs.keys() ) \n",
    "    print(ks)\n",
    "    raw = pngs['Raw_Plot']  \n",
    "    qiq = pngs['Cir_Avg']\n",
    "    print( raw, qiq)\n",
    "    "
   ]
  },
  {
   "cell_type": "code",
   "execution_count": 14,
   "metadata": {},
   "outputs": [
    {
     "data": {
      "text/plain": [
       "dict_keys(['Data', 'md'])"
      ]
     },
     "execution_count": 14,
     "metadata": {},
     "output_type": "execute_result"
    }
   ],
   "source": [
    "res.keys()"
   ]
  },
  {
   "cell_type": "code",
   "execution_count": null,
   "metadata": {},
   "outputs": [],
   "source": []
  },
  {
   "cell_type": "code",
   "execution_count": 12,
   "metadata": {
    "scrolled": true
   },
   "outputs": [
    {
     "name": "stdout",
     "output_type": "stream",
     "text": [
      "_Dinca_Mn_PDI.h5\n"
     ]
    }
   ],
   "source": [
    "for samk in sams[0:1]:    \n",
    "    samk += '.h5'\n",
    "    print(samk)\n",
    "    RES = h5todict( inDir_HDF + samk ) \n",
    "    K0 = 'WAXS'\n",
    "    res = RES[K0]\n",
    "    md = res['md'] \n",
    "    ps = md['saved_plots']\n",
    "    WImage = ps[ 'Stitch_Image' ] [0]\n",
    "    Wiq = ps[ 'Cir_Avg' ] [0]\n",
    " \n",
    " "
   ]
  },
  {
   "cell_type": "code",
   "execution_count": null,
   "metadata": {},
   "outputs": [],
   "source": []
  },
  {
   "cell_type": "code",
   "execution_count": null,
   "metadata": {},
   "outputs": [],
   "source": []
  },
  {
   "cell_type": "markdown",
   "metadata": {},
   "source": [
    "# Make PDF Report"
   ]
  },
  {
   "cell_type": "code",
   "execution_count": 15,
   "metadata": {},
   "outputs": [
    {
     "name": "stdout",
     "output_type": "stream",
     "text": [
      "Dinca_Samples_2021_C1\n",
      "PDF_Report_Dinca_Samples_2021_C1.pdf\n",
      "_Dinca_Mn_PDI.h5\n",
      "Raw_Plot__Dinca_Mn_PDI_x-11600.03_y-5019.9_det5000.0m_expt0.1s_attNone_sid00268288_000001_SAXS.tif.png\n",
      "Cir_Avg__Dinca_Mn_PDI_x-11600.03_y-5019.9_det5000.0m_expt0.1s_attNone_sid00268288_000001_SAXS.tif.png\n",
      "Stitch_Image__Dinca_Mn_PDI.png\n",
      "Cir_Avg__Dinca_Mn_PDI.png\n",
      "_Dinca_Mn_PDI_32.h5\n",
      "Raw_Plot__Dinca_Mn_PDI_32_x13900.0_y-5019.9_det5000.0m_expt0.1s_attNone_sid00268292_000001_SAXS.tif.png\n",
      "Cir_Avg__Dinca_Mn_PDI_32_x13900.0_y-5019.9_det5000.0m_expt0.1s_attNone_sid00268292_000001_SAXS.tif.png\n",
      "Stitch_Image__Dinca_Mn_PDI_32.png\n",
      "Cir_Avg__Dinca_Mn_PDI_32.png\n",
      "_Dinca_NiBHT.h5\n",
      "Raw_Plot__Dinca_NiBHT_x20200.0_y-5019.9_det5000.0m_expt0.1s_attNone_sid00268293_000001_SAXS.tif.png\n",
      "Cir_Avg__Dinca_NiBHT_x20200.0_y-5019.9_det5000.0m_expt0.1s_attNone_sid00268293_000001_SAXS.tif.png\n",
      "Stitch_Image__Dinca_NiBHT.png\n",
      "Cir_Avg__Dinca_NiBHT.png\n",
      "_Dinca_NiBHT_Neg.h5\n",
      "Raw_Plot__Dinca_NiBHT_Neg_x26500.0_y-5019.9_det5000.0m_expt0.1s_attNone_sid00268294_000001_SAXS.tif.png\n",
      "Cir_Avg__Dinca_NiBHT_Neg_x26500.0_y-5019.9_det5000.0m_expt0.1s_attNone_sid00268294_000001_SAXS.tif.png\n",
      "Stitch_Image__Dinca_NiBHT_Neg.png\n",
      "Cir_Avg__Dinca_NiBHT_Neg.png\n",
      "_Dinca_NiBHT_Pos.h5\n",
      "Raw_Plot__Dinca_NiBHT_Pos_x32799.99_y-5019.9_det5000.0m_expt0.1s_attNone_sid00268295_000001_SAXS.tif.png\n",
      "Cir_Avg__Dinca_NiBHT_Pos_x32799.99_y-5019.9_det5000.0m_expt0.1s_attNone_sid00268295_000001_SAXS.tif.png\n",
      "Stitch_Image__Dinca_NiBHT_Pos.png\n",
      "Cir_Avg__Dinca_NiBHT_Pos.png\n",
      "_Dinca_PDI_Ligand.h5\n",
      "Raw_Plot__Dinca_PDI_Ligand_x-5400.0_y-5019.9_det5000.0m_expt0.1s_attNone_sid00268289_000001_SAXS.tif.png\n",
      "Cir_Avg__Dinca_PDI_Ligand_x-5400.0_y-5019.9_det5000.0m_expt0.1s_attNone_sid00268289_000001_SAXS.tif.png\n",
      "Stitch_Image__Dinca_PDI_Ligand.png\n",
      "Cir_Avg__Dinca_PDI_Ligand.png\n",
      "_Dinca_RW_1315.h5\n",
      "Raw_Plot__Dinca_RW_1315_x1100.0_y-5019.89_det5000.0m_expt0.1s_attNone_sid00268290_000001_SAXS.tif.png\n",
      "Cir_Avg__Dinca_RW_1315_x1100.0_y-5019.89_det5000.0m_expt0.1s_attNone_sid00268290_000001_SAXS.tif.png\n",
      "Stitch_Image__Dinca_RW_1315.png\n",
      "Cir_Avg__Dinca_RW_1315.png\n",
      "_Dinca_TIBA_COF_CTAB.h5\n",
      "Raw_Plot__Dinca_TIBA_COF_CTAB_x45400.0_y-5019.89_det5000.0m_expt0.1s_attNone_sid00268297_000001_SAXS.tif.png\n",
      "Cir_Avg__Dinca_TIBA_COF_CTAB_x45400.0_y-5019.89_det5000.0m_expt0.1s_attNone_sid00268297_000001_SAXS.tif.png\n",
      "Stitch_Image__Dinca_TIBA_COF_CTAB.png\n",
      "Cir_Avg__Dinca_TIBA_COF_CTAB.png\n",
      "_Dinca_TIBQ_COF_DMA.h5\n",
      "Raw_Plot__Dinca_TIBQ_COF_DMA_x39200.0_y-5019.9_det5000.0m_expt0.1s_attNone_sid00268296_000001_SAXS.tif.png\n",
      "Cir_Avg__Dinca_TIBQ_COF_DMA_x39200.0_y-5019.9_det5000.0m_expt0.1s_attNone_sid00268296_000001_SAXS.tif.png\n",
      "Stitch_Image__Dinca_TIBQ_COF_DMA.png\n",
      "Cir_Avg__Dinca_TIBQ_COF_DMA.png\n",
      "_Dinca_Zn_PDI.h5\n",
      "Raw_Plot__Dinca_Zn_PDI_x-17999.95_y-5019.77_det5000.0m_expt0.1s_attNone_sid00268287_000001_SAXS.tif.png\n",
      "Cir_Avg__Dinca_Zn_PDI_x-17999.95_y-5019.77_det5000.0m_expt0.1s_attNone_sid00268287_000001_SAXS.tif.png\n",
      "Stitch_Image__Dinca_Zn_PDI.png\n",
      "Cir_Avg__Dinca_Zn_PDI.png\n",
      "_Dinca_Zn_PDI_2.h5\n",
      "Raw_Plot__Dinca_Zn_PDI_2_x7600.0_y-5019.9_det5000.0m_expt0.1s_attNone_sid00268291_000001_SAXS.tif.png\n",
      "Cir_Avg__Dinca_Zn_PDI_2_x7600.0_y-5019.9_det5000.0m_expt0.1s_attNone_sid00268291_000001_SAXS.tif.png\n",
      "Stitch_Image__Dinca_Zn_PDI_2.png\n",
      "Cir_Avg__Dinca_Zn_PDI_2.png\n",
      "\n",
      "****************************************\n",
      "The pdf report is created with filename as: /home/yuzhang/NSLSII_Data_Link/SMI/2021_Cycle1/308052_Dinca/Results//PDF_Report/PDF_Report_Dinca_Samples_2021_C1.pdf\n",
      "****************************************\n"
     ]
    }
   ],
   "source": [
    "sample = \"%s_Samples_2021_C1\"%(username )\n",
    "pdf_filename  = 'PDF_Report_%s.pdf'%sample\n",
    "print(    sample  )\n",
    "print( pdf_filename )\n",
    "pdf= PDFBase( inDir, outDir, filename=pdf_filename, user = '%s'%username, pagesize = ( 1021  , 792) ) \n",
    "c = pdf.c     \n",
    "header = 'Report for X-ray scattering analyis of %s systems'%(  sample )\n",
    "j = 1    \n",
    "for sam in sams[0:]:    \n",
    "    samk = sam +  '.h5'\n",
    "    print(samk)\n",
    "    RES = h5todict( inDir_HDF + samk ) \n",
    "    K0 = 'SAXS'\n",
    "    res = RES[K0] \n",
    "    md = res['md']   \n",
    "    pngs = md['saved_plots']\n",
    "    ks = list( pngs.keys() ) \n",
    "    #print(ks)\n",
    "    raw = pngs['Raw_Plot']  \n",
    "    qiq = pngs['Cir_Avg']\n",
    "    #print( raw, qiq)    \n",
    "\n",
    "    Nimg = len(raw)\n",
    "    for ci in range(Nimg):\n",
    "        pdf.report_header( header = header, page = j ) \n",
    "        #str_list  =  [  'SAXS--Sample=%s--%s'%( sam, k1)]\n",
    "        str_list  =  [  'Sample=%s--SAXS'%( sam)]                \n",
    "        pdf.report_string_list( str_list, top= 720, left = 260, spacing = 15,\n",
    "                               fontsize=36, fontcolor = red )\n",
    "\n",
    "        imgf0 =   raw[ci]\n",
    "        imgf = raw[ci].split('/')[-1]\n",
    "        print(imgf)\n",
    "        str_list = [ '%s'%(imgf) ]\n",
    "        pdf.report_string_list( str_list, top= 630, left = 60, spacing = 15, fontsize=24, fontcolor = red )\n",
    "        img_left = -200\n",
    "        img_top= 200      \n",
    "        img_height= 400 \n",
    "        width = add_image_string( c, imgf= imgf0, data_dir= '',img_left= img_left,\n",
    "                img_top= img_top, img_height= img_height, return_ = True  )\n",
    "\n",
    "        imgf0 =   qiq[ci]\n",
    "        imgf =   qiq[ci].split('/')[-1]\n",
    "        print(imgf)\n",
    "        str_list = [ '%s'%(imgf) ]\n",
    "        pdf.report_string_list( str_list, top= 230, left = 500, spacing = 15, fontsize=24, fontcolor = red )            \n",
    "        img_left = 600\n",
    "        img_top= 250      \n",
    "        img_height= 300 \n",
    "        width = add_image_string( c, imgf= imgf0, data_dir= '',img_left= img_left,\n",
    "                img_top= img_top, img_height= img_height, return_ = True  )  \n",
    "        pdf.new_page() \n",
    "        j +=1  \n",
    "\n",
    "            \n",
    "            \n",
    "    K0 = 'WAXS'\n",
    "    res = RES[K0] \n",
    "    md = res['md']   \n",
    "    ps = md['saved_plots']\n",
    "    WImage = ps[ 'Stitch_Image' ] [0]\n",
    "    Wiq = ps[ 'Cir_Avg' ] [0]    \n",
    "    \n",
    "    pdf.report_header( header = header, page = j ) \n",
    "    str_list  =  [  'Sample=%s--WAXS'%( sam)]                \n",
    "    pdf.report_string_list( str_list, top= 720, left = 260, spacing = 15,\n",
    "                           fontsize=36, fontcolor = red )\n",
    "\n",
    "    imgf0 =   WImage\n",
    "    imgf = WImage.split('/')[-1]\n",
    "    print(imgf)\n",
    "    str_list = [ '%s'%(imgf) ]\n",
    "    pdf.report_string_list( str_list, top= 680, left = 60, spacing = 15, fontsize=24, fontcolor = red )\n",
    "    img_left = 150\n",
    "    img_top= 300      \n",
    "    img_height= 350 \n",
    "    width = add_image_string( c, imgf= imgf0, data_dir= '',img_left= img_left,\n",
    "            img_top= img_top, img_height= img_height, return_ = True  )\n",
    "\n",
    "    imgf0 =   Wiq\n",
    "    imgf =   Wiq.split('/')[-1]\n",
    "    print(imgf)\n",
    "    str_list = [ '%s'%(imgf) ]\n",
    "    pdf.report_string_list( str_list, top= 100, left = 600, spacing = 15, fontsize=24, fontcolor = red )            \n",
    "    img_left = 100\n",
    "    img_top= 0      \n",
    "    img_height= 350 \n",
    "    width = add_image_string( c, imgf= imgf0, data_dir= '',img_left= img_left,\n",
    "            img_top= img_top, img_height= img_height, return_ = True  )  \n",
    "    pdf.new_page() \n",
    "    j +=1     \n",
    "\n",
    " \n",
    "\n",
    "pdf.save_page()\n",
    "pdf.done()     \n",
    "\n"
   ]
  },
  {
   "cell_type": "code",
   "execution_count": null,
   "metadata": {},
   "outputs": [],
   "source": []
  },
  {
   "cell_type": "code",
   "execution_count": null,
   "metadata": {},
   "outputs": [],
   "source": []
  },
  {
   "cell_type": "code",
   "execution_count": null,
   "metadata": {},
   "outputs": [],
   "source": []
  },
  {
   "cell_type": "markdown",
   "metadata": {},
   "source": [
    "# The END !"
   ]
  },
  {
   "cell_type": "code",
   "execution_count": null,
   "metadata": {},
   "outputs": [],
   "source": []
  },
  {
   "cell_type": "code",
   "execution_count": null,
   "metadata": {},
   "outputs": [],
   "source": []
  }
 ],
 "metadata": {
  "kernelspec": {
   "display_name": "Python 3",
   "language": "python",
   "name": "python3"
  },
  "language_info": {
   "codemirror_mode": {
    "name": "ipython",
    "version": 3
   },
   "file_extension": ".py",
   "mimetype": "text/x-python",
   "name": "python",
   "nbconvert_exporter": "python",
   "pygments_lexer": "ipython3",
   "version": "3.7.9"
  }
 },
 "nbformat": 4,
 "nbformat_minor": 2
}
