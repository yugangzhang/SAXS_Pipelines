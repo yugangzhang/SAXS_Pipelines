{
 "cells": [
  {
   "cell_type": "markdown",
   "metadata": {},
   "source": [
    "# Make PDF Report pipeline \n",
    "\n",
    "\n",
    "## Overview\n",
    "\n",
    "* Setup: load packages/setup path\n",
    "* Find the interested dataset for makeing the pdf report\n",
    "* Make PDF report \n",
    " \n",
    "\n",
    "### DEV\n",
    "* V0: Initialize the pipeline (2019/10/26 by YG yuzhang@bnl.gov)\n",
    "* V1: Using the new developed pyScatt package  (2019/12 by YG yuzhang@bnl.gov)\n",
    "\n",
    " \n",
    "\n",
    "## TODLIST\n",
    "* 1): Put codes into a package (Done)"
   ]
  },
  {
   "cell_type": "code",
   "execution_count": 1,
   "metadata": {},
   "outputs": [],
   "source": [
    "%matplotlib notebook\n",
    "from pyScatt.packages import *\n",
    "plt.rcParams.update({'figure.max_open_warning': 0})\n",
    "plt.rcParams.update({ 'image.origin': 'lower'   })\n",
    "plt.rcParams.update({ 'image.interpolation': 'none'   })"
   ]
  },
  {
   "cell_type": "markdown",
   "metadata": {},
   "source": [
    "# Setup paths"
   ]
  },
  {
   "cell_type": "code",
   "execution_count": 4,
   "metadata": {},
   "outputs": [],
   "source": [
    "####\n",
    "username = 'yuzhang'\n",
    "\n",
    "\n",
    "inDir ='/home/%s/Test_SAXS/Results/'%username\n",
    "outDir = '/home/%s/Test_SAXS/Results/'%username\n",
    "\n"
   ]
  },
  {
   "cell_type": "markdown",
   "metadata": {},
   "source": [
    "# Find the interested filename list giving patterns"
   ]
  },
  {
   "cell_type": "code",
   "execution_count": 5,
   "metadata": {
    "scrolled": true
   },
   "outputs": [
    {
     "name": "stdout",
     "output_type": "stream",
     "text": [
      "26\n"
     ]
    },
    {
     "data": {
      "text/plain": [
       "['AgBH_cali_13.5kev_x-17.000_y-2.170_5.00s_2608571_saxs.tiff.png',\n",
       " 'FL_1024Morn_F1_x0.100_y0.150_0.10s_2605949_saxs.tiff.h5_raw_qIq_qphi_Iang.png',\n",
       " 'FL_1024Morn_F1_x0.100_y0.150_0.10s_2605949_saxs.tiff_raw_qIq_qphi_Iang.png',\n",
       " 'FL_1024Morn_F1_x0.100_y0.150_0.10s_2605950_saxs.tiff.h5_raw_qIq_qphi_Iang.png',\n",
       " 'FL_1024Morn_F1_x0.100_y0.150_0.10s_2605950_saxs.tiff_raw_qIq_qphi_Iang.png',\n",
       " 'FL_1026Morn_F2_x0.000_y0.000_1.00s_2607309_saxs.tiff.h5_raw_qIq_qphi_Iang.png',\n",
       " 'FL_1026Morn_F2_x0.000_y0.000_1.00s_2607309_saxs.tiff_raw_qIq_qphi_Iang.png',\n",
       " 'Sq_FL_1024Morn_F1_x0.100_y0.150_0.10s_2605949_saxs.tiff.h5.png',\n",
       " 'Sq_FL_1024Morn_F1_x0.100_y0.150_0.10s_2605950_saxs.tiff.h5.png',\n",
       " 'Sq_FL_1026Morn_F2_x0.000_y0.000_1.00s_2607309_saxs.tiff.h5.png',\n",
       " 'Sq_f3b03825-edfa-43f3-b333_000001.tiff.h5.png',\n",
       " 'Sq_f3b03825-edfa-43f3-b333_000002.tiff.h5.png',\n",
       " 'Sq_f3b03825-edfa-43f3-b333_000003.tiff.h5.png',\n",
       " 'Sqs_FL_1024Morn_F1_x0.100_y0.150_0.10s_2605949_saxs.tiff.h5.png',\n",
       " 'Sqs_FL_1024Morn_F1_x0.100_y0.150_0.10s_2605950_saxs.tiff.h5.png',\n",
       " 'Sqs_FL_1026Morn_F2_x0.000_y0.000_1.00s_2607309_saxs.tiff.h5.png',\n",
       " 'Sqs_f3b03825-edfa-43f3-b333_000001.tiff.h5.png',\n",
       " 'Sqs_f3b03825-edfa-43f3-b333_000002.tiff.h5.png',\n",
       " 'Sqs_f3b03825-edfa-43f3-b333_000003.tiff.h5.png',\n",
       " 'f3b03825-edfa-43f3-b333_000001.tiff.h5_raw_qIq_qphi_Iang.png',\n",
       " 'f3b03825-edfa-43f3-b333_000001.tiff_raw_qIq_qphi_Iang.png',\n",
       " 'f3b03825-edfa-43f3-b333_000002.tiff.h5_raw_qIq_qphi_Iang.png',\n",
       " 'f3b03825-edfa-43f3-b333_000002.tiff.png',\n",
       " 'f3b03825-edfa-43f3-b333_000002.tiff_raw_qIq_qphi_Iang.png',\n",
       " 'f3b03825-edfa-43f3-b333_000003.tiff.h5_raw_qIq_qphi_Iang.png',\n",
       " 'f3b03825-edfa-43f3-b333_000003.tiff_raw_qIq_qphi_Iang.png']"
      ]
     },
     "execution_count": 5,
     "metadata": {},
     "output_type": "execute_result"
    }
   ],
   "source": [
    "flist_all = sorted(  ls_dir( inDir, have_list=[ 'png' ], exclude_list=['Form_Factor']) )\n",
    "print(len(flist_all))\n",
    "flist_all"
   ]
  },
  {
   "cell_type": "code",
   "execution_count": 6,
   "metadata": {},
   "outputs": [
    {
     "name": "stdout",
     "output_type": "stream",
     "text": [
      "8\n"
     ]
    },
    {
     "data": {
      "text/plain": [
       "['FL_1024Morn_F1_x0.100_y0.150_0.10s_2605949_saxs.tiff.h5_raw_qIq_qphi_Iang.png',\n",
       " 'FL_1024Morn_F1_x0.100_y0.150_0.10s_2605949_saxs.tiff_raw_qIq_qphi_Iang.png',\n",
       " 'FL_1024Morn_F1_x0.100_y0.150_0.10s_2605950_saxs.tiff.h5_raw_qIq_qphi_Iang.png',\n",
       " 'FL_1024Morn_F1_x0.100_y0.150_0.10s_2605950_saxs.tiff_raw_qIq_qphi_Iang.png',\n",
       " 'Sq_FL_1024Morn_F1_x0.100_y0.150_0.10s_2605949_saxs.tiff.h5.png',\n",
       " 'Sq_FL_1024Morn_F1_x0.100_y0.150_0.10s_2605950_saxs.tiff.h5.png',\n",
       " 'Sqs_FL_1024Morn_F1_x0.100_y0.150_0.10s_2605949_saxs.tiff.h5.png',\n",
       " 'Sqs_FL_1024Morn_F1_x0.100_y0.150_0.10s_2605950_saxs.tiff.h5.png']"
      ]
     },
     "execution_count": 6,
     "metadata": {},
     "output_type": "execute_result"
    }
   ],
   "source": [
    "flist_F1 = sorted( ls_dir( inDir, have_list=['FL',   'F1','png'], exclude_list=[]) )\n",
    "print(len(flist_F1))\n",
    "flist_F1"
   ]
  },
  {
   "cell_type": "code",
   "execution_count": 7,
   "metadata": {},
   "outputs": [],
   "source": [
    "flist = flist_all"
   ]
  },
  {
   "cell_type": "markdown",
   "metadata": {},
   "source": [
    "# Make PDF Report"
   ]
  },
  {
   "cell_type": "code",
   "execution_count": 11,
   "metadata": {},
   "outputs": [
    {
     "name": "stdout",
     "output_type": "stream",
     "text": [
      "/home/yuzhang/Test_SAXS/Results/PDF_Report_test.pdf\n"
     ]
    }
   ],
   "source": [
    "sample = 'test'\n",
    "pdf_filename  = 'PDF_Report_%s.pdf'%sample\n",
    "print( outDir + pdf_filename)"
   ]
  },
  {
   "cell_type": "code",
   "execution_count": 12,
   "metadata": {
    "scrolled": true
   },
   "outputs": [
    {
     "name": "stdout",
     "output_type": "stream",
     "text": [
      "FL_1024Morn_F1_x0.100_y0.150_0.10s_2605949_saxs.tiff.h5_raw_qIq_qphi_Iang.png\n",
      "Sq_FL_1024Morn_F1_x0.100_y0.150_0.10s_2605949_saxs.tiff.h5.png\n",
      "Sqs_FL_1024Morn_F1_x0.100_y0.150_0.10s_2605949_saxs.tiff.h5.png\n",
      "FL_1024Morn_F1_x0.100_y0.150_0.10s_2605949_saxs.tiff_raw_qIq_qphi_Iang.png\n",
      "FL_1024Morn_F1_x0.100_y0.150_0.10s_2605950_saxs.tiff.h5_raw_qIq_qphi_Iang.png\n",
      "Sq_FL_1024Morn_F1_x0.100_y0.150_0.10s_2605950_saxs.tiff.h5.png\n",
      "Sqs_FL_1024Morn_F1_x0.100_y0.150_0.10s_2605950_saxs.tiff.h5.png\n",
      "FL_1024Morn_F1_x0.100_y0.150_0.10s_2605950_saxs.tiff_raw_qIq_qphi_Iang.png\n",
      "FL_1026Morn_F2_x0.000_y0.000_1.00s_2607309_saxs.tiff.h5_raw_qIq_qphi_Iang.png\n",
      "Sq_FL_1026Morn_F2_x0.000_y0.000_1.00s_2607309_saxs.tiff.h5.png\n",
      "Sqs_FL_1026Morn_F2_x0.000_y0.000_1.00s_2607309_saxs.tiff.h5.png\n",
      "FL_1026Morn_F2_x0.000_y0.000_1.00s_2607309_saxs.tiff_raw_qIq_qphi_Iang.png\n",
      "f3b03825-edfa-43f3-b333_000001.tiff.h5_raw_qIq_qphi_Iang.png\n",
      "Sq_f3b03825-edfa-43f3-b333_000001.tiff.h5.png\n",
      "Sqs_f3b03825-edfa-43f3-b333_000001.tiff.h5.png\n",
      "f3b03825-edfa-43f3-b333_000001.tiff_raw_qIq_qphi_Iang.png\n",
      "f3b03825-edfa-43f3-b333_000002.tiff.h5_raw_qIq_qphi_Iang.png\n",
      "Sq_f3b03825-edfa-43f3-b333_000002.tiff.h5.png\n",
      "Sqs_f3b03825-edfa-43f3-b333_000002.tiff.h5.png\n",
      "f3b03825-edfa-43f3-b333_000002.tiff_raw_qIq_qphi_Iang.png\n",
      "f3b03825-edfa-43f3-b333_000003.tiff.h5_raw_qIq_qphi_Iang.png\n",
      "Sq_f3b03825-edfa-43f3-b333_000003.tiff.h5.png\n",
      "Sqs_f3b03825-edfa-43f3-b333_000003.tiff.h5.png\n",
      "f3b03825-edfa-43f3-b333_000003.tiff_raw_qIq_qphi_Iang.png\n",
      "\n",
      "****************************************\n",
      "The pdf report is created with filename as: /home/yuzhang/Test_SAXS/Results/PDF_Report_test.pdf\n",
      "****************************************\n"
     ]
    }
   ],
   "source": [
    "pdf= PDFBase( inDir, outDir, filename=pdf_filename, user = 'YG.', pagesize = ( 1021  , 792) ) \n",
    "c = pdf.c     \n",
    "header = 'Report for SAXS analyis of %s systems'%(  sample )\n",
    "j = 1 \n",
    "\n",
    "for fuid in flist[:]:    \n",
    "    #################\n",
    "    ## report the saxs--raw image, q-Iq, q-phi map, phi-Iphi\n",
    "    ##################\n",
    "    pdf.report_header( header = header, page = j )     \n",
    "    if fuid[:3]!='Sq_' and fuid[-22:]== '_raw_qIq_qphi_Iang.png':\n",
    "        imgf =  fuid\n",
    "        print(imgf)\n",
    "        str_list = [ '%s'%(imgf) ]\n",
    "        pdf.report_string_list( str_list, top= 730, left = 360, spacing = 15, fontsize=24, fontcolor = red )\n",
    "        img_left = 140\n",
    "        img_top= 50      \n",
    "        img_height= 650 \n",
    "        width = add_image_string( c, imgf= imgf, data_dir= pdf.inDir,img_left= img_left,\n",
    "                img_top= img_top, img_height= img_height, return_ = True  )  \n",
    "        \n",
    "        pdf.new_page()         \n",
    "        j +=1  \n",
    "        sq_fp = 'Sq_' + fuid[:-22] + '.png' \n",
    "        #################\n",
    "        ## report the q-sq\n",
    "        ##################\n",
    "        if sq_fp in flist:\n",
    "            pdf.report_header( header = header, page = j )           \n",
    "            imgf =  sq_fp\n",
    "            print(imgf)\n",
    "            str_list = [ '%s'%(imgf) ]\n",
    "            pdf.report_string_list( str_list, top= 730, left = 360, spacing = 15, fontsize=24, fontcolor = red )\n",
    "            img_left = 140\n",
    "            img_top= 50      \n",
    "            img_height= 650 \n",
    "            width = add_image_string( c, imgf= imgf, data_dir= inDir,img_left= img_left,\n",
    "                    img_top= img_top, img_height= img_height, return_ = True  ) \n",
    "        \n",
    "            pdf.new_page()           \n",
    "            j+=1\n",
    "        sqs_fp = 'Sqs_' + fuid[:-22] + '.png' \n",
    "        #################\n",
    "        ## report the q-sq\n",
    "        ##################\n",
    "        if sqs_fp in flist:\n",
    "            pdf.report_header( header = header, page = j )           \n",
    "            imgf =  sqs_fp\n",
    "            print(imgf)\n",
    "            str_list = [ '%s'%(imgf) ]\n",
    "            pdf.report_string_list( str_list, top= 730, left = 360, spacing = 15, fontsize=24, fontcolor = red )\n",
    "            img_left = 140\n",
    "            img_top= 50      \n",
    "            img_height= 650 \n",
    "            width = add_image_string( c, imgf= imgf, data_dir= inDir,img_left= img_left,\n",
    "                    img_top= img_top, img_height= img_height, return_ = True  )  \n",
    "            pdf.new_page()    \n",
    "            j+=1  \n",
    "        \n",
    "        \n",
    "        \n",
    "    else:\n",
    "        pass\n",
    "            \n",
    "\n",
    "pdf.save_page()\n",
    "pdf.done()            \n",
    "\n",
    "    \n",
    "    \n",
    "    "
   ]
  },
  {
   "cell_type": "markdown",
   "metadata": {},
   "source": [
    "# The End"
   ]
  }
 ],
 "metadata": {
  "kernelspec": {
   "display_name": "Python 3",
   "language": "python",
   "name": "python3"
  },
  "language_info": {
   "codemirror_mode": {
    "name": "ipython",
    "version": 3
   },
   "file_extension": ".py",
   "mimetype": "text/x-python",
   "name": "python",
   "nbconvert_exporter": "python",
   "pygments_lexer": "ipython3",
   "version": "3.7.0"
  }
 },
 "nbformat": 4,
 "nbformat_minor": 2
}
